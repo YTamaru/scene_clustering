{
 "cells": [
  {
   "cell_type": "markdown",
   "metadata": {},
   "source": [
    "# データの読み込み"
   ]
  },
  {
   "cell_type": "code",
   "execution_count": 1,
   "metadata": {},
   "outputs": [],
   "source": [
    "from PIL import Image\n",
    "import torch\n",
    "import torchvision\n",
    "import torch.nn as nn\n",
    "import torch.optim as optim\n",
    "import torch.functional as F\n",
    "import torchvision.transforms as transforms\n",
    "%matplotlib inline\n",
    "import numpy as np\n",
    "import matplotlib.pyplot as plt\n",
    "import skorch\n",
    "import pandas as pd\n",
    "import sklearn\n",
    "import csv\n",
    "import os"
   ]
  },
  {
   "cell_type": "code",
   "execution_count": 2,
   "metadata": {},
   "outputs": [
    {
     "data": {
      "text/html": [
       "<div>\n",
       "<style scoped>\n",
       "    .dataframe tbody tr th:only-of-type {\n",
       "        vertical-align: middle;\n",
       "    }\n",
       "\n",
       "    .dataframe tbody tr th {\n",
       "        vertical-align: top;\n",
       "    }\n",
       "\n",
       "    .dataframe thead th {\n",
       "        text-align: right;\n",
       "    }\n",
       "</style>\n",
       "<table border=\"1\" class=\"dataframe\">\n",
       "  <thead>\n",
       "    <tr style=\"text-align: right;\">\n",
       "      <th></th>\n",
       "      <th>img_path</th>\n",
       "      <th>l_class</th>\n",
       "      <th>s_class</th>\n",
       "      <th>timestamp</th>\n",
       "    </tr>\n",
       "  </thead>\n",
       "  <tbody>\n",
       "    <tr>\n",
       "      <th>0</th>\n",
       "      <td>/home/tamaru/scene_categorize/main/data/stairs...</td>\n",
       "      <td>8gokan</td>\n",
       "      <td>8gokan_stairs_east</td>\n",
       "      <td>NaN</td>\n",
       "    </tr>\n",
       "    <tr>\n",
       "      <th>1</th>\n",
       "      <td>/home/tamaru/scene_categorize/main/data/stairs...</td>\n",
       "      <td>8gokan</td>\n",
       "      <td>8gokan_stairs_east</td>\n",
       "      <td>NaN</td>\n",
       "    </tr>\n",
       "    <tr>\n",
       "      <th>2</th>\n",
       "      <td>/home/tamaru/scene_categorize/main/data/stairs...</td>\n",
       "      <td>8gokan</td>\n",
       "      <td>8gokan_stairs_east</td>\n",
       "      <td>NaN</td>\n",
       "    </tr>\n",
       "    <tr>\n",
       "      <th>3</th>\n",
       "      <td>/home/tamaru/scene_categorize/main/data/stairs...</td>\n",
       "      <td>8gokan</td>\n",
       "      <td>8gokan_stairs_east</td>\n",
       "      <td>NaN</td>\n",
       "    </tr>\n",
       "    <tr>\n",
       "      <th>4</th>\n",
       "      <td>/home/tamaru/scene_categorize/main/data/stairs...</td>\n",
       "      <td>8gokan</td>\n",
       "      <td>8gokan_stairs_east</td>\n",
       "      <td>NaN</td>\n",
       "    </tr>\n",
       "  </tbody>\n",
       "</table>\n",
       "</div>"
      ],
      "text/plain": [
       "                                            img_path l_class  \\\n",
       "0  /home/tamaru/scene_categorize/main/data/stairs...  8gokan   \n",
       "1  /home/tamaru/scene_categorize/main/data/stairs...  8gokan   \n",
       "2  /home/tamaru/scene_categorize/main/data/stairs...  8gokan   \n",
       "3  /home/tamaru/scene_categorize/main/data/stairs...  8gokan   \n",
       "4  /home/tamaru/scene_categorize/main/data/stairs...  8gokan   \n",
       "\n",
       "              s_class  timestamp  \n",
       "0  8gokan_stairs_east        NaN  \n",
       "1  8gokan_stairs_east        NaN  \n",
       "2  8gokan_stairs_east        NaN  \n",
       "3  8gokan_stairs_east        NaN  \n",
       "4  8gokan_stairs_east        NaN  "
      ]
     },
     "execution_count": 2,
     "metadata": {},
     "output_type": "execute_result"
    }
   ],
   "source": [
    "DATA_FOLDER = '../data/'\n",
    "csv_path = os.path.join(DATA_FOLDER, 'stairs_cube.csv')\n",
    "datalist = pd.read_csv((csv_path), names=[\"img_path\", \"l_class\", 's_class','timestamp'])\n",
    "datalist.head()"
   ]
  },
  {
   "cell_type": "code",
   "execution_count": 3,
   "metadata": {},
   "outputs": [
    {
     "data": {
      "text/html": [
       "<div>\n",
       "<style scoped>\n",
       "    .dataframe tbody tr th:only-of-type {\n",
       "        vertical-align: middle;\n",
       "    }\n",
       "\n",
       "    .dataframe tbody tr th {\n",
       "        vertical-align: top;\n",
       "    }\n",
       "\n",
       "    .dataframe thead th {\n",
       "        text-align: right;\n",
       "    }\n",
       "</style>\n",
       "<table border=\"1\" class=\"dataframe\">\n",
       "  <thead>\n",
       "    <tr style=\"text-align: right;\">\n",
       "      <th></th>\n",
       "      <th>img_path</th>\n",
       "    </tr>\n",
       "    <tr>\n",
       "      <th>s_class</th>\n",
       "      <th></th>\n",
       "    </tr>\n",
       "  </thead>\n",
       "  <tbody>\n",
       "    <tr>\n",
       "      <th>4gokan_stairs</th>\n",
       "      <td>450</td>\n",
       "    </tr>\n",
       "    <tr>\n",
       "      <th>5gokan_stairs_east</th>\n",
       "      <td>462</td>\n",
       "    </tr>\n",
       "    <tr>\n",
       "      <th>5gokan_stairs_west</th>\n",
       "      <td>522</td>\n",
       "    </tr>\n",
       "    <tr>\n",
       "      <th>8gokan_stairs_cnt</th>\n",
       "      <td>504</td>\n",
       "    </tr>\n",
       "    <tr>\n",
       "      <th>8gokan_stairs_east</th>\n",
       "      <td>468</td>\n",
       "    </tr>\n",
       "    <tr>\n",
       "      <th>denkisogokan_stairs</th>\n",
       "      <td>660</td>\n",
       "    </tr>\n",
       "  </tbody>\n",
       "</table>\n",
       "</div>"
      ],
      "text/plain": [
       "                     img_path\n",
       "s_class                      \n",
       "4gokan_stairs             450\n",
       "5gokan_stairs_east        462\n",
       "5gokan_stairs_west        522\n",
       "8gokan_stairs_cnt         504\n",
       "8gokan_stairs_east        468\n",
       "denkisogokan_stairs       660"
      ]
     },
     "execution_count": 3,
     "metadata": {},
     "output_type": "execute_result"
    }
   ],
   "source": [
    "dfs = datalist.drop(['l_class', 'timestamp'], axis=1)\n",
    "dfs.groupby('s_class').count()"
   ]
  },
  {
   "cell_type": "code",
   "execution_count": 4,
   "metadata": {},
   "outputs": [
    {
     "data": {
      "text/plain": [
       "3066"
      ]
     },
     "execution_count": 4,
     "metadata": {},
     "output_type": "execute_result"
    }
   ],
   "source": [
    "dfs.img_path.count()"
   ]
  },
  {
   "cell_type": "code",
   "execution_count": 5,
   "metadata": {},
   "outputs": [
    {
     "data": {
      "text/plain": [
       "6"
      ]
     },
     "execution_count": 5,
     "metadata": {},
     "output_type": "execute_result"
    }
   ],
   "source": [
    "s_class = dfs.s_class.unique()\n",
    "num_s_class = len(s_class)\n",
    "num_s_class"
   ]
  },
  {
   "cell_type": "code",
   "execution_count": 6,
   "metadata": {},
   "outputs": [],
   "source": [
    "from sklearn.preprocessing import LabelEncoder"
   ]
  },
  {
   "cell_type": "code",
   "execution_count": 7,
   "metadata": {},
   "outputs": [
    {
     "data": {
      "text/plain": [
       "<pandas.core.groupby.generic.DataFrameGroupBy object at 0x7fe07216f2e8>"
      ]
     },
     "execution_count": 7,
     "metadata": {},
     "output_type": "execute_result"
    }
   ],
   "source": [
    "le = LabelEncoder() \n",
    "le.fit(dfs.s_class) \n",
    "dfs[\"labels\"] = le.transform(dfs.s_class) \n",
    "dfs.groupby('labels')"
   ]
  },
  {
   "cell_type": "code",
   "execution_count": 8,
   "metadata": {},
   "outputs": [
    {
     "data": {
      "text/html": [
       "<div>\n",
       "<style scoped>\n",
       "    .dataframe tbody tr th:only-of-type {\n",
       "        vertical-align: middle;\n",
       "    }\n",
       "\n",
       "    .dataframe tbody tr th {\n",
       "        vertical-align: top;\n",
       "    }\n",
       "\n",
       "    .dataframe thead th {\n",
       "        text-align: right;\n",
       "    }\n",
       "</style>\n",
       "<table border=\"1\" class=\"dataframe\">\n",
       "  <thead>\n",
       "    <tr style=\"text-align: right;\">\n",
       "      <th></th>\n",
       "      <th>s_class</th>\n",
       "    </tr>\n",
       "    <tr>\n",
       "      <th>labels</th>\n",
       "      <th></th>\n",
       "    </tr>\n",
       "  </thead>\n",
       "  <tbody>\n",
       "    <tr>\n",
       "      <th>0</th>\n",
       "      <td>[4gokan_stairs]</td>\n",
       "    </tr>\n",
       "    <tr>\n",
       "      <th>1</th>\n",
       "      <td>[5gokan_stairs_east]</td>\n",
       "    </tr>\n",
       "    <tr>\n",
       "      <th>2</th>\n",
       "      <td>[5gokan_stairs_west]</td>\n",
       "    </tr>\n",
       "    <tr>\n",
       "      <th>3</th>\n",
       "      <td>[8gokan_stairs_cnt]</td>\n",
       "    </tr>\n",
       "    <tr>\n",
       "      <th>4</th>\n",
       "      <td>[8gokan_stairs_east]</td>\n",
       "    </tr>\n",
       "    <tr>\n",
       "      <th>5</th>\n",
       "      <td>[denkisogokan_stairs]</td>\n",
       "    </tr>\n",
       "  </tbody>\n",
       "</table>\n",
       "</div>"
      ],
      "text/plain": [
       "                      s_class\n",
       "labels                       \n",
       "0             [4gokan_stairs]\n",
       "1        [5gokan_stairs_east]\n",
       "2        [5gokan_stairs_west]\n",
       "3         [8gokan_stairs_cnt]\n",
       "4        [8gokan_stairs_east]\n",
       "5       [denkisogokan_stairs]"
      ]
     },
     "execution_count": 8,
     "metadata": {},
     "output_type": "execute_result"
    }
   ],
   "source": [
    "cor_table = dfs.groupby('labels').s_class.unique() \n",
    "cor_table = pd.DataFrame(cor_table) \n",
    "cor_table"
   ]
  },
  {
   "cell_type": "code",
   "execution_count": 9,
   "metadata": {},
   "outputs": [
    {
     "data": {
      "text/html": [
       "<div>\n",
       "<style scoped>\n",
       "    .dataframe tbody tr th:only-of-type {\n",
       "        vertical-align: middle;\n",
       "    }\n",
       "\n",
       "    .dataframe tbody tr th {\n",
       "        vertical-align: top;\n",
       "    }\n",
       "\n",
       "    .dataframe thead th {\n",
       "        text-align: right;\n",
       "    }\n",
       "</style>\n",
       "<table border=\"1\" class=\"dataframe\">\n",
       "  <thead>\n",
       "    <tr style=\"text-align: right;\">\n",
       "      <th></th>\n",
       "      <th>img_path</th>\n",
       "      <th>labels</th>\n",
       "    </tr>\n",
       "  </thead>\n",
       "  <tbody>\n",
       "    <tr>\n",
       "      <th>0</th>\n",
       "      <td>/home/tamaru/scene_categorize/main/data/stairs...</td>\n",
       "      <td>4</td>\n",
       "    </tr>\n",
       "    <tr>\n",
       "      <th>1</th>\n",
       "      <td>/home/tamaru/scene_categorize/main/data/stairs...</td>\n",
       "      <td>4</td>\n",
       "    </tr>\n",
       "    <tr>\n",
       "      <th>2</th>\n",
       "      <td>/home/tamaru/scene_categorize/main/data/stairs...</td>\n",
       "      <td>4</td>\n",
       "    </tr>\n",
       "    <tr>\n",
       "      <th>3</th>\n",
       "      <td>/home/tamaru/scene_categorize/main/data/stairs...</td>\n",
       "      <td>4</td>\n",
       "    </tr>\n",
       "    <tr>\n",
       "      <th>4</th>\n",
       "      <td>/home/tamaru/scene_categorize/main/data/stairs...</td>\n",
       "      <td>4</td>\n",
       "    </tr>\n",
       "    <tr>\n",
       "      <th>5</th>\n",
       "      <td>/home/tamaru/scene_categorize/main/data/stairs...</td>\n",
       "      <td>4</td>\n",
       "    </tr>\n",
       "    <tr>\n",
       "      <th>6</th>\n",
       "      <td>/home/tamaru/scene_categorize/main/data/stairs...</td>\n",
       "      <td>4</td>\n",
       "    </tr>\n",
       "    <tr>\n",
       "      <th>7</th>\n",
       "      <td>/home/tamaru/scene_categorize/main/data/stairs...</td>\n",
       "      <td>4</td>\n",
       "    </tr>\n",
       "    <tr>\n",
       "      <th>8</th>\n",
       "      <td>/home/tamaru/scene_categorize/main/data/stairs...</td>\n",
       "      <td>4</td>\n",
       "    </tr>\n",
       "    <tr>\n",
       "      <th>9</th>\n",
       "      <td>/home/tamaru/scene_categorize/main/data/stairs...</td>\n",
       "      <td>4</td>\n",
       "    </tr>\n",
       "    <tr>\n",
       "      <th>10</th>\n",
       "      <td>/home/tamaru/scene_categorize/main/data/stairs...</td>\n",
       "      <td>4</td>\n",
       "    </tr>\n",
       "    <tr>\n",
       "      <th>11</th>\n",
       "      <td>/home/tamaru/scene_categorize/main/data/stairs...</td>\n",
       "      <td>4</td>\n",
       "    </tr>\n",
       "    <tr>\n",
       "      <th>12</th>\n",
       "      <td>/home/tamaru/scene_categorize/main/data/stairs...</td>\n",
       "      <td>4</td>\n",
       "    </tr>\n",
       "    <tr>\n",
       "      <th>13</th>\n",
       "      <td>/home/tamaru/scene_categorize/main/data/stairs...</td>\n",
       "      <td>4</td>\n",
       "    </tr>\n",
       "    <tr>\n",
       "      <th>14</th>\n",
       "      <td>/home/tamaru/scene_categorize/main/data/stairs...</td>\n",
       "      <td>4</td>\n",
       "    </tr>\n",
       "    <tr>\n",
       "      <th>15</th>\n",
       "      <td>/home/tamaru/scene_categorize/main/data/stairs...</td>\n",
       "      <td>4</td>\n",
       "    </tr>\n",
       "    <tr>\n",
       "      <th>16</th>\n",
       "      <td>/home/tamaru/scene_categorize/main/data/stairs...</td>\n",
       "      <td>4</td>\n",
       "    </tr>\n",
       "    <tr>\n",
       "      <th>17</th>\n",
       "      <td>/home/tamaru/scene_categorize/main/data/stairs...</td>\n",
       "      <td>4</td>\n",
       "    </tr>\n",
       "    <tr>\n",
       "      <th>18</th>\n",
       "      <td>/home/tamaru/scene_categorize/main/data/stairs...</td>\n",
       "      <td>4</td>\n",
       "    </tr>\n",
       "    <tr>\n",
       "      <th>19</th>\n",
       "      <td>/home/tamaru/scene_categorize/main/data/stairs...</td>\n",
       "      <td>4</td>\n",
       "    </tr>\n",
       "    <tr>\n",
       "      <th>20</th>\n",
       "      <td>/home/tamaru/scene_categorize/main/data/stairs...</td>\n",
       "      <td>4</td>\n",
       "    </tr>\n",
       "    <tr>\n",
       "      <th>21</th>\n",
       "      <td>/home/tamaru/scene_categorize/main/data/stairs...</td>\n",
       "      <td>4</td>\n",
       "    </tr>\n",
       "    <tr>\n",
       "      <th>22</th>\n",
       "      <td>/home/tamaru/scene_categorize/main/data/stairs...</td>\n",
       "      <td>4</td>\n",
       "    </tr>\n",
       "    <tr>\n",
       "      <th>23</th>\n",
       "      <td>/home/tamaru/scene_categorize/main/data/stairs...</td>\n",
       "      <td>4</td>\n",
       "    </tr>\n",
       "    <tr>\n",
       "      <th>24</th>\n",
       "      <td>/home/tamaru/scene_categorize/main/data/stairs...</td>\n",
       "      <td>4</td>\n",
       "    </tr>\n",
       "    <tr>\n",
       "      <th>25</th>\n",
       "      <td>/home/tamaru/scene_categorize/main/data/stairs...</td>\n",
       "      <td>4</td>\n",
       "    </tr>\n",
       "    <tr>\n",
       "      <th>26</th>\n",
       "      <td>/home/tamaru/scene_categorize/main/data/stairs...</td>\n",
       "      <td>4</td>\n",
       "    </tr>\n",
       "    <tr>\n",
       "      <th>27</th>\n",
       "      <td>/home/tamaru/scene_categorize/main/data/stairs...</td>\n",
       "      <td>4</td>\n",
       "    </tr>\n",
       "    <tr>\n",
       "      <th>28</th>\n",
       "      <td>/home/tamaru/scene_categorize/main/data/stairs...</td>\n",
       "      <td>4</td>\n",
       "    </tr>\n",
       "    <tr>\n",
       "      <th>29</th>\n",
       "      <td>/home/tamaru/scene_categorize/main/data/stairs...</td>\n",
       "      <td>4</td>\n",
       "    </tr>\n",
       "    <tr>\n",
       "      <th>...</th>\n",
       "      <td>...</td>\n",
       "      <td>...</td>\n",
       "    </tr>\n",
       "    <tr>\n",
       "      <th>3036</th>\n",
       "      <td>/home/tamaru/scene_categorize/main/data/stairs...</td>\n",
       "      <td>1</td>\n",
       "    </tr>\n",
       "    <tr>\n",
       "      <th>3037</th>\n",
       "      <td>/home/tamaru/scene_categorize/main/data/stairs...</td>\n",
       "      <td>1</td>\n",
       "    </tr>\n",
       "    <tr>\n",
       "      <th>3038</th>\n",
       "      <td>/home/tamaru/scene_categorize/main/data/stairs...</td>\n",
       "      <td>1</td>\n",
       "    </tr>\n",
       "    <tr>\n",
       "      <th>3039</th>\n",
       "      <td>/home/tamaru/scene_categorize/main/data/stairs...</td>\n",
       "      <td>1</td>\n",
       "    </tr>\n",
       "    <tr>\n",
       "      <th>3040</th>\n",
       "      <td>/home/tamaru/scene_categorize/main/data/stairs...</td>\n",
       "      <td>1</td>\n",
       "    </tr>\n",
       "    <tr>\n",
       "      <th>3041</th>\n",
       "      <td>/home/tamaru/scene_categorize/main/data/stairs...</td>\n",
       "      <td>1</td>\n",
       "    </tr>\n",
       "    <tr>\n",
       "      <th>3042</th>\n",
       "      <td>/home/tamaru/scene_categorize/main/data/stairs...</td>\n",
       "      <td>1</td>\n",
       "    </tr>\n",
       "    <tr>\n",
       "      <th>3043</th>\n",
       "      <td>/home/tamaru/scene_categorize/main/data/stairs...</td>\n",
       "      <td>1</td>\n",
       "    </tr>\n",
       "    <tr>\n",
       "      <th>3044</th>\n",
       "      <td>/home/tamaru/scene_categorize/main/data/stairs...</td>\n",
       "      <td>1</td>\n",
       "    </tr>\n",
       "    <tr>\n",
       "      <th>3045</th>\n",
       "      <td>/home/tamaru/scene_categorize/main/data/stairs...</td>\n",
       "      <td>1</td>\n",
       "    </tr>\n",
       "    <tr>\n",
       "      <th>3046</th>\n",
       "      <td>/home/tamaru/scene_categorize/main/data/stairs...</td>\n",
       "      <td>1</td>\n",
       "    </tr>\n",
       "    <tr>\n",
       "      <th>3047</th>\n",
       "      <td>/home/tamaru/scene_categorize/main/data/stairs...</td>\n",
       "      <td>1</td>\n",
       "    </tr>\n",
       "    <tr>\n",
       "      <th>3048</th>\n",
       "      <td>/home/tamaru/scene_categorize/main/data/stairs...</td>\n",
       "      <td>1</td>\n",
       "    </tr>\n",
       "    <tr>\n",
       "      <th>3049</th>\n",
       "      <td>/home/tamaru/scene_categorize/main/data/stairs...</td>\n",
       "      <td>1</td>\n",
       "    </tr>\n",
       "    <tr>\n",
       "      <th>3050</th>\n",
       "      <td>/home/tamaru/scene_categorize/main/data/stairs...</td>\n",
       "      <td>1</td>\n",
       "    </tr>\n",
       "    <tr>\n",
       "      <th>3051</th>\n",
       "      <td>/home/tamaru/scene_categorize/main/data/stairs...</td>\n",
       "      <td>1</td>\n",
       "    </tr>\n",
       "    <tr>\n",
       "      <th>3052</th>\n",
       "      <td>/home/tamaru/scene_categorize/main/data/stairs...</td>\n",
       "      <td>1</td>\n",
       "    </tr>\n",
       "    <tr>\n",
       "      <th>3053</th>\n",
       "      <td>/home/tamaru/scene_categorize/main/data/stairs...</td>\n",
       "      <td>1</td>\n",
       "    </tr>\n",
       "    <tr>\n",
       "      <th>3054</th>\n",
       "      <td>/home/tamaru/scene_categorize/main/data/stairs...</td>\n",
       "      <td>1</td>\n",
       "    </tr>\n",
       "    <tr>\n",
       "      <th>3055</th>\n",
       "      <td>/home/tamaru/scene_categorize/main/data/stairs...</td>\n",
       "      <td>1</td>\n",
       "    </tr>\n",
       "    <tr>\n",
       "      <th>3056</th>\n",
       "      <td>/home/tamaru/scene_categorize/main/data/stairs...</td>\n",
       "      <td>1</td>\n",
       "    </tr>\n",
       "    <tr>\n",
       "      <th>3057</th>\n",
       "      <td>/home/tamaru/scene_categorize/main/data/stairs...</td>\n",
       "      <td>1</td>\n",
       "    </tr>\n",
       "    <tr>\n",
       "      <th>3058</th>\n",
       "      <td>/home/tamaru/scene_categorize/main/data/stairs...</td>\n",
       "      <td>1</td>\n",
       "    </tr>\n",
       "    <tr>\n",
       "      <th>3059</th>\n",
       "      <td>/home/tamaru/scene_categorize/main/data/stairs...</td>\n",
       "      <td>1</td>\n",
       "    </tr>\n",
       "    <tr>\n",
       "      <th>3060</th>\n",
       "      <td>/home/tamaru/scene_categorize/main/data/stairs...</td>\n",
       "      <td>1</td>\n",
       "    </tr>\n",
       "    <tr>\n",
       "      <th>3061</th>\n",
       "      <td>/home/tamaru/scene_categorize/main/data/stairs...</td>\n",
       "      <td>1</td>\n",
       "    </tr>\n",
       "    <tr>\n",
       "      <th>3062</th>\n",
       "      <td>/home/tamaru/scene_categorize/main/data/stairs...</td>\n",
       "      <td>1</td>\n",
       "    </tr>\n",
       "    <tr>\n",
       "      <th>3063</th>\n",
       "      <td>/home/tamaru/scene_categorize/main/data/stairs...</td>\n",
       "      <td>1</td>\n",
       "    </tr>\n",
       "    <tr>\n",
       "      <th>3064</th>\n",
       "      <td>/home/tamaru/scene_categorize/main/data/stairs...</td>\n",
       "      <td>1</td>\n",
       "    </tr>\n",
       "    <tr>\n",
       "      <th>3065</th>\n",
       "      <td>/home/tamaru/scene_categorize/main/data/stairs...</td>\n",
       "      <td>1</td>\n",
       "    </tr>\n",
       "  </tbody>\n",
       "</table>\n",
       "<p>3066 rows × 2 columns</p>\n",
       "</div>"
      ],
      "text/plain": [
       "                                               img_path  labels\n",
       "0     /home/tamaru/scene_categorize/main/data/stairs...       4\n",
       "1     /home/tamaru/scene_categorize/main/data/stairs...       4\n",
       "2     /home/tamaru/scene_categorize/main/data/stairs...       4\n",
       "3     /home/tamaru/scene_categorize/main/data/stairs...       4\n",
       "4     /home/tamaru/scene_categorize/main/data/stairs...       4\n",
       "5     /home/tamaru/scene_categorize/main/data/stairs...       4\n",
       "6     /home/tamaru/scene_categorize/main/data/stairs...       4\n",
       "7     /home/tamaru/scene_categorize/main/data/stairs...       4\n",
       "8     /home/tamaru/scene_categorize/main/data/stairs...       4\n",
       "9     /home/tamaru/scene_categorize/main/data/stairs...       4\n",
       "10    /home/tamaru/scene_categorize/main/data/stairs...       4\n",
       "11    /home/tamaru/scene_categorize/main/data/stairs...       4\n",
       "12    /home/tamaru/scene_categorize/main/data/stairs...       4\n",
       "13    /home/tamaru/scene_categorize/main/data/stairs...       4\n",
       "14    /home/tamaru/scene_categorize/main/data/stairs...       4\n",
       "15    /home/tamaru/scene_categorize/main/data/stairs...       4\n",
       "16    /home/tamaru/scene_categorize/main/data/stairs...       4\n",
       "17    /home/tamaru/scene_categorize/main/data/stairs...       4\n",
       "18    /home/tamaru/scene_categorize/main/data/stairs...       4\n",
       "19    /home/tamaru/scene_categorize/main/data/stairs...       4\n",
       "20    /home/tamaru/scene_categorize/main/data/stairs...       4\n",
       "21    /home/tamaru/scene_categorize/main/data/stairs...       4\n",
       "22    /home/tamaru/scene_categorize/main/data/stairs...       4\n",
       "23    /home/tamaru/scene_categorize/main/data/stairs...       4\n",
       "24    /home/tamaru/scene_categorize/main/data/stairs...       4\n",
       "25    /home/tamaru/scene_categorize/main/data/stairs...       4\n",
       "26    /home/tamaru/scene_categorize/main/data/stairs...       4\n",
       "27    /home/tamaru/scene_categorize/main/data/stairs...       4\n",
       "28    /home/tamaru/scene_categorize/main/data/stairs...       4\n",
       "29    /home/tamaru/scene_categorize/main/data/stairs...       4\n",
       "...                                                 ...     ...\n",
       "3036  /home/tamaru/scene_categorize/main/data/stairs...       1\n",
       "3037  /home/tamaru/scene_categorize/main/data/stairs...       1\n",
       "3038  /home/tamaru/scene_categorize/main/data/stairs...       1\n",
       "3039  /home/tamaru/scene_categorize/main/data/stairs...       1\n",
       "3040  /home/tamaru/scene_categorize/main/data/stairs...       1\n",
       "3041  /home/tamaru/scene_categorize/main/data/stairs...       1\n",
       "3042  /home/tamaru/scene_categorize/main/data/stairs...       1\n",
       "3043  /home/tamaru/scene_categorize/main/data/stairs...       1\n",
       "3044  /home/tamaru/scene_categorize/main/data/stairs...       1\n",
       "3045  /home/tamaru/scene_categorize/main/data/stairs...       1\n",
       "3046  /home/tamaru/scene_categorize/main/data/stairs...       1\n",
       "3047  /home/tamaru/scene_categorize/main/data/stairs...       1\n",
       "3048  /home/tamaru/scene_categorize/main/data/stairs...       1\n",
       "3049  /home/tamaru/scene_categorize/main/data/stairs...       1\n",
       "3050  /home/tamaru/scene_categorize/main/data/stairs...       1\n",
       "3051  /home/tamaru/scene_categorize/main/data/stairs...       1\n",
       "3052  /home/tamaru/scene_categorize/main/data/stairs...       1\n",
       "3053  /home/tamaru/scene_categorize/main/data/stairs...       1\n",
       "3054  /home/tamaru/scene_categorize/main/data/stairs...       1\n",
       "3055  /home/tamaru/scene_categorize/main/data/stairs...       1\n",
       "3056  /home/tamaru/scene_categorize/main/data/stairs...       1\n",
       "3057  /home/tamaru/scene_categorize/main/data/stairs...       1\n",
       "3058  /home/tamaru/scene_categorize/main/data/stairs...       1\n",
       "3059  /home/tamaru/scene_categorize/main/data/stairs...       1\n",
       "3060  /home/tamaru/scene_categorize/main/data/stairs...       1\n",
       "3061  /home/tamaru/scene_categorize/main/data/stairs...       1\n",
       "3062  /home/tamaru/scene_categorize/main/data/stairs...       1\n",
       "3063  /home/tamaru/scene_categorize/main/data/stairs...       1\n",
       "3064  /home/tamaru/scene_categorize/main/data/stairs...       1\n",
       "3065  /home/tamaru/scene_categorize/main/data/stairs...       1\n",
       "\n",
       "[3066 rows x 2 columns]"
      ]
     },
     "execution_count": 9,
     "metadata": {},
     "output_type": "execute_result"
    }
   ],
   "source": [
    "dfs = dfs.drop(['s_class'], axis=1)\n",
    "dfs"
   ]
  },
  {
   "cell_type": "markdown",
   "metadata": {},
   "source": [
    "# trainデータ, testデータの分割"
   ]
  },
  {
   "cell_type": "code",
   "execution_count": 10,
   "metadata": {},
   "outputs": [],
   "source": [
    "from sklearn.model_selection import train_test_split"
   ]
  },
  {
   "cell_type": "code",
   "execution_count": 11,
   "metadata": {},
   "outputs": [],
   "source": [
    "train_data, test_data = train_test_split(dfs, test_size=0.2, random_state=42, stratify=dfs.labels)"
   ]
  },
  {
   "cell_type": "code",
   "execution_count": 12,
   "metadata": {},
   "outputs": [],
   "source": [
    "train_data, val_data = train_test_split(train_data, test_size=0.2, random_state=42, stratify=train_data.labels)"
   ]
  },
  {
   "cell_type": "code",
   "execution_count": 13,
   "metadata": {},
   "outputs": [],
   "source": [
    "#画像の前処理を定義\n",
    "data_transforms = {\n",
    "    'data': transforms.Compose([\n",
    "        transforms.Resize(224), #いらない\n",
    "        transforms.ToTensor(),\n",
    "        transforms.Normalize([0.5,0.5,0.5],[0.5,0.5,0.5])\n",
    "    ])\n",
    "}\n",
    "#正規化をしない処理\n",
    "to_tensor_transforms = transforms.Compose([\n",
    "    transforms.Resize(224), #いらない\n",
    "    transforms.ToTensor()\n",
    "])"
   ]
  },
  {
   "cell_type": "code",
   "execution_count": 14,
   "metadata": {},
   "outputs": [],
   "source": [
    "class CustomDataset(torch.utils.data.Dataset):\n",
    "        \n",
    "    def __init__(self, dataframe, root_dir, transform=None):\n",
    "        #前処理クラスの指定\n",
    "        self.transform = transform\n",
    "        #pandasでcsvデータの読み出し\n",
    "        #画像とラベルの一覧を保持するリスト\n",
    "        self.images = np.array(dataframe.img_path).tolist()\n",
    "        self.labels = np.array(dataframe.labels).tolist()\n",
    "        self.root_dir = root_dir\n",
    "    def __len__(self):\n",
    "        return len(self.images)\n",
    "    \n",
    "    def __getitem__(self, idx):\n",
    "        #dataframeから画像へのパスとラベルを読み出す\n",
    "        label = self.labels[idx]\n",
    "        img = self.images[idx]\n",
    "        #画像の読み込み\n",
    "        with open(img, 'rb') as f:\n",
    "            image = Image.open(f)\n",
    "            image = image.convert('RGB')\n",
    "            image = image.resize((224,224))\n",
    "        #画像への処理\n",
    "        if self.transform is not None:\n",
    "            image = self.transform(image)\n",
    "            \n",
    "        return image, label"
   ]
  },
  {
   "cell_type": "code",
   "execution_count": 15,
   "metadata": {},
   "outputs": [],
   "source": [
    "train_set = CustomDataset(dataframe=train_data, root_dir=\"../data/stairs_frames\", transform=data_transforms['data'])\n",
    "val_set = CustomDataset(dataframe=val_data, root_dir=\"../data/stairs_frames\", transform=data_transforms['data'])\n",
    "test_set = CustomDataset(dataframe=test_data, root_dir=\"../data/stairs_frames\", transform=data_transforms['data'])"
   ]
  },
  {
   "cell_type": "code",
   "execution_count": 16,
   "metadata": {},
   "outputs": [],
   "source": [
    "# DataLoaderのcollate_fnはバッチ内のtensorのshapeをすべて同じにする必要がある\n",
    "# 自分で指定してエラーが起きないようにする\n",
    "def my_collate_fn(batch):\n",
    "    # datasetの出力が\n",
    "    # [image, target] = dataset[batch_idx]\n",
    "    # の場合.\n",
    "    images = []\n",
    "    labels = []\n",
    "    for image, label in batch:\n",
    "        images.append(image)\n",
    "        labels.append(label)\n",
    "    images = torch.stack(images,dim=0)\n",
    "    return images, labels"
   ]
  },
  {
   "cell_type": "code",
   "execution_count": 17,
   "metadata": {},
   "outputs": [],
   "source": [
    "train_loader = torch.utils.data.DataLoader(dataset=train_set, batch_size=16, shuffle=True, num_workers=6)\n",
    "val_loader = torch.utils.data.DataLoader(dataset=val_set, batch_size=16, shuffle=False, num_workers=6)\n",
    "test_loader = torch.utils.data.DataLoader(dataset=test_set, batch_size=16, shuffle=False, num_workers=6)"
   ]
  },
  {
   "cell_type": "markdown",
   "metadata": {},
   "source": [
    "# ネットワークの定義\n",
    "vgg16 finetuning"
   ]
  },
  {
   "cell_type": "code",
   "execution_count": 18,
   "metadata": {},
   "outputs": [],
   "source": [
    "import torchvision.models as models"
   ]
  },
  {
   "cell_type": "code",
   "execution_count": 19,
   "metadata": {},
   "outputs": [],
   "source": [
    "num_classes = num_s_class\n",
    "device = 'cuda' if torch.cuda.is_available() else 'cpu'\n",
    "net = models.vgg16(pretrained=True, progress=True)"
   ]
  },
  {
   "cell_type": "code",
   "execution_count": 20,
   "metadata": {},
   "outputs": [
    {
     "data": {
      "text/plain": [
       "VGG(\n",
       "  (features): Sequential(\n",
       "    (0): Conv2d(3, 64, kernel_size=(3, 3), stride=(1, 1), padding=(1, 1))\n",
       "    (1): ReLU(inplace=True)\n",
       "    (2): Conv2d(64, 64, kernel_size=(3, 3), stride=(1, 1), padding=(1, 1))\n",
       "    (3): ReLU(inplace=True)\n",
       "    (4): MaxPool2d(kernel_size=2, stride=2, padding=0, dilation=1, ceil_mode=False)\n",
       "    (5): Conv2d(64, 128, kernel_size=(3, 3), stride=(1, 1), padding=(1, 1))\n",
       "    (6): ReLU(inplace=True)\n",
       "    (7): Conv2d(128, 128, kernel_size=(3, 3), stride=(1, 1), padding=(1, 1))\n",
       "    (8): ReLU(inplace=True)\n",
       "    (9): MaxPool2d(kernel_size=2, stride=2, padding=0, dilation=1, ceil_mode=False)\n",
       "    (10): Conv2d(128, 256, kernel_size=(3, 3), stride=(1, 1), padding=(1, 1))\n",
       "    (11): ReLU(inplace=True)\n",
       "    (12): Conv2d(256, 256, kernel_size=(3, 3), stride=(1, 1), padding=(1, 1))\n",
       "    (13): ReLU(inplace=True)\n",
       "    (14): Conv2d(256, 256, kernel_size=(3, 3), stride=(1, 1), padding=(1, 1))\n",
       "    (15): ReLU(inplace=True)\n",
       "    (16): MaxPool2d(kernel_size=2, stride=2, padding=0, dilation=1, ceil_mode=False)\n",
       "    (17): Conv2d(256, 512, kernel_size=(3, 3), stride=(1, 1), padding=(1, 1))\n",
       "    (18): ReLU(inplace=True)\n",
       "    (19): Conv2d(512, 512, kernel_size=(3, 3), stride=(1, 1), padding=(1, 1))\n",
       "    (20): ReLU(inplace=True)\n",
       "    (21): Conv2d(512, 512, kernel_size=(3, 3), stride=(1, 1), padding=(1, 1))\n",
       "    (22): ReLU(inplace=True)\n",
       "    (23): MaxPool2d(kernel_size=2, stride=2, padding=0, dilation=1, ceil_mode=False)\n",
       "    (24): Conv2d(512, 512, kernel_size=(3, 3), stride=(1, 1), padding=(1, 1))\n",
       "    (25): ReLU(inplace=True)\n",
       "    (26): Conv2d(512, 512, kernel_size=(3, 3), stride=(1, 1), padding=(1, 1))\n",
       "    (27): ReLU(inplace=True)\n",
       "    (28): Conv2d(512, 512, kernel_size=(3, 3), stride=(1, 1), padding=(1, 1))\n",
       "    (29): ReLU(inplace=True)\n",
       "    (30): MaxPool2d(kernel_size=2, stride=2, padding=0, dilation=1, ceil_mode=False)\n",
       "  )\n",
       "  (avgpool): AdaptiveAvgPool2d(output_size=(7, 7))\n",
       "  (classifier): Sequential(\n",
       "    (0): Linear(in_features=25088, out_features=4096, bias=True)\n",
       "    (1): ReLU(inplace=True)\n",
       "    (2): Dropout(p=0.5, inplace=False)\n",
       "    (3): Linear(in_features=4096, out_features=4096, bias=True)\n",
       "    (4): ReLU(inplace=True)\n",
       "    (5): Dropout(p=0.5, inplace=False)\n",
       "    (6): Linear(in_features=4096, out_features=6, bias=True)\n",
       "  )\n",
       ")"
      ]
     },
     "execution_count": 20,
     "metadata": {},
     "output_type": "execute_result"
    }
   ],
   "source": [
    "#パラメータ凍結と採取層クラス数変更\n",
    "for param in net.parameters():\n",
    "    param.requires_grad = False\n",
    "#最終層をnum_s_classクラス用に変更\n",
    "num_ftrs = net.classifier[6].in_features\n",
    "net.classifier[6] = nn.Linear(in_features=num_ftrs, out_features=num_classes).to(device)\n",
    "#最適化関数\n",
    "criterion = nn.CrossEntropyLoss()\n",
    "optimizer = optim.Adam(net.classifier[6].parameters())\n",
    "net = net.to(device)\n",
    "net"
   ]
  },
  {
   "cell_type": "markdown",
   "metadata": {},
   "source": [
    "#学習率の変更\n",
    "lr_scheduler = torch.optim.lr_scheduler.StepLR(optimizer, step_size=10, gamma=)"
   ]
  },
  {
   "cell_type": "markdown",
   "metadata": {},
   "source": [
    "# 学習の実行"
   ]
  },
  {
   "cell_type": "code",
   "execution_count": 21,
   "metadata": {},
   "outputs": [
    {
     "name": "stdout",
     "output_type": "stream",
     "text": [
      "Epoch [1/10], Loss: 0.0806, val_loss: 0.0602, val_acc: 0.6823\n",
      "Epoch [2/10], Loss: 0.0576, val_loss: 0.0483, val_acc: 0.7760\n",
      "Epoch [3/10], Loss: 0.0484, val_loss: 0.0441, val_acc: 0.7536\n",
      "Epoch [4/10], Loss: 0.0453, val_loss: 0.0415, val_acc: 0.7637\n",
      "Epoch [5/10], Loss: 0.0417, val_loss: 0.0379, val_acc: 0.7902\n",
      "Epoch [6/10], Loss: 0.0384, val_loss: 0.0345, val_acc: 0.8126\n",
      "Epoch [7/10], Loss: 0.0381, val_loss: 0.0342, val_acc: 0.8065\n",
      "Epoch [8/10], Loss: 0.0358, val_loss: 0.0308, val_acc: 0.8554\n",
      "Epoch [9/10], Loss: 0.0348, val_loss: 0.0314, val_acc: 0.8228\n",
      "Epoch [10/10], Loss: 0.0349, val_loss: 0.0298, val_acc: 0.8473\n"
     ]
    }
   ],
   "source": [
    "#Cross Validationを行いたい...\n",
    "#Early Stopping を行いたい\n",
    "\n",
    "num_epochs = 10\n",
    "train_loss_list = []\n",
    "train_acc_list = []\n",
    "val_loss_list = []\n",
    "val_acc_list = []\n",
    "\n",
    "for epoch in range(num_epochs):\n",
    "    train_loss = 0\n",
    "    train_acc = 0\n",
    "    val_loss = 0\n",
    "    val_acc = 0\n",
    "    \n",
    "    #train\n",
    "    net.train()\n",
    "    for i, (images, labels) in enumerate(train_loader):\n",
    "        #view()での変換をしない\n",
    "        images, labels = images.to(device), labels.to(device)\n",
    "        \n",
    "        optimizer.zero_grad()\n",
    "        outputs = net(images)\n",
    "        loss = criterion(outputs, labels)\n",
    "        train_loss += loss.item()\n",
    "        train_acc += (outputs.max(1)[1]==labels).sum().item()\n",
    "        loss.backward()\n",
    "        optimizer.step()\n",
    "        \n",
    "    avg_train_loss = train_loss/len(train_loader.dataset)\n",
    "    avg_train_acc = train_acc/len(train_loader.dataset)\n",
    "    \n",
    "    #val\n",
    "    net.eval()\n",
    "    with torch.no_grad():\n",
    "        for images, labels in val_loader:\n",
    "            #view()での変換をしない\n",
    "            images = images.to(device)\n",
    "            labels = labels.to(device)\n",
    "            outputs = net(images)\n",
    "            loss = criterion(outputs, labels)\n",
    "            val_loss += loss.item()\n",
    "            val_acc += (outputs.max(1)[1]==labels).sum().item()\n",
    "   \n",
    "    avg_val_loss = val_loss/len(val_loader.dataset)\n",
    "    avg_val_acc = val_acc/len(val_loader.dataset)\n",
    "    \n",
    "    print('Epoch [{}/{}], Loss: {loss:.4f}, val_loss: {val_loss:.4f}, val_acc: {val_acc:.4f}'.format(epoch+1, num_epochs, i+1, loss=avg_train_loss, val_loss=avg_val_loss, val_acc=avg_val_acc))\n",
    "    train_loss_list.append(avg_train_loss)\n",
    "    train_acc_list.append(avg_train_acc)\n",
    "    val_loss_list.append(avg_val_loss)\n",
    "    val_acc_list.append(avg_val_acc)"
   ]
  },
  {
   "cell_type": "markdown",
   "metadata": {},
   "source": [
    "# train, validationのloss acc のグラフを作成"
   ]
  },
  {
   "cell_type": "code",
   "execution_count": 22,
   "metadata": {},
   "outputs": [
    {
     "data": {
      "image/png": "[encoded data removed]",
      "text/plain": [
       "<Figure size 432x288 with 1 Axes>"
      ]
     },
     "metadata": {
      "needs_background": "light"
     },
     "output_type": "display_data"
    },
    {
     "data": {
      "image/png": "[encoded data removed]",
      "text/plain": [
       "<Figure size 432x288 with 1 Axes>"
      ]
     },
     "metadata": {
      "needs_background": "light"
     },
     "output_type": "display_data"
    }
   ],
   "source": [
    "plt.figure()\n",
    "plt.plot(range(num_epochs), train_loss_list, color='blue', linestyle='-', label='train_loss')\n",
    "plt.plot(range(num_epochs), val_loss_list, color='green', linestyle='--', label='val_loss')\n",
    "plt.legend()\n",
    "plt.xlabel('epoch')\n",
    "plt.ylabel('loss')\n",
    "plt.title('Training and validation loss')\n",
    "plt.grid()\n",
    "\n",
    "plt.figure()\n",
    "plt.plot(range(num_epochs), train_acc_list, color='blue', linestyle='-', label='train_acc')\n",
    "plt.plot(range(num_epochs), val_acc_list, color='green', linestyle='--', label='test_acc')\n",
    "plt.legend()\n",
    "plt.xlabel('epoch')\n",
    "plt.ylabel('acc')\n",
    "plt.title('Training and validation acc')\n",
    "plt.grid()"
   ]
  },
  {
   "cell_type": "markdown",
   "metadata": {},
   "source": [
    "# Confusion Matrix"
   ]
  },
  {
   "cell_type": "code",
   "execution_count": 23,
   "metadata": {},
   "outputs": [],
   "source": [
    "net = net.eval()"
   ]
  },
  {
   "cell_type": "code",
   "execution_count": 58,
   "metadata": {},
   "outputs": [],
   "source": [
    "pred = []\n",
    "Y = []\n",
    "for i, (x,y) in enumerate(test_loader):\n",
    "    with torch.no_grad():\n",
    "        x = x.to(device)\n",
    "        y = y.to(device)\n",
    "        output = net(x)\n",
    "    pred += [int(l.argmax()) for l in output]\n",
    "    Y += [int(l) for l in y]"
   ]
  },
  {
   "cell_type": "code",
   "execution_count": 59,
   "metadata": {},
   "outputs": [],
   "source": [
    "from sklearn.metrics import confusion_matrix, classification_report, accuracy_score\n",
    "import seaborn as sns"
   ]
  },
  {
   "cell_type": "code",
   "execution_count": 60,
   "metadata": {},
   "outputs": [
    {
     "name": "stdout",
     "output_type": "stream",
     "text": [
      "              precision    recall  f1-score   support\n",
      "\n",
      "           0       0.92      0.80      0.86        90\n",
      "           1       0.70      0.79      0.74        92\n",
      "           2       0.79      0.85      0.82       105\n",
      "           3       0.92      0.78      0.84       101\n",
      "           4       0.77      0.91      0.84        94\n",
      "           5       0.92      0.85      0.88       132\n",
      "\n",
      "   micro avg       0.83      0.83      0.83       614\n",
      "   macro avg       0.84      0.83      0.83       614\n",
      "weighted avg       0.84      0.83      0.83       614\n",
      "\n"
     ]
    }
   ],
   "source": [
    "print(classification_report(Y, pred))"
   ]
  },
  {
   "cell_type": "code",
   "execution_count": 61,
   "metadata": {},
   "outputs": [
    {
     "data": {
      "image/png": "[encoded data removed]",
      "text/plain": [
       "<Figure size 864x864 with 2 Axes>"
      ]
     },
     "metadata": {
      "needs_background": "light"
     },
     "output_type": "display_data"
    },
    {
     "name": "stdout",
     "output_type": "stream",
     "text": [
      "accuracy: 0.8322475570032574\n"
     ]
    }
   ],
   "source": [
    "cmx = confusion_matrix(Y, pred)\n",
    "plt.figure(figsize=(12,12))\n",
    "sns.heatmap(cmx, annot=True)\n",
    "plt.show()\n",
    "print('accuracy: {}'.format(accuracy_score(Y, pred)))"
   ]
  },
  {
   "cell_type": "code",
   "execution_count": 32,
   "metadata": {},
   "outputs": [
    {
     "name": "stdout",
     "output_type": "stream",
     "text": [
      "                      s_class\n",
      "labels                       \n",
      "0             [4gokan_stairs]\n",
      "1        [5gokan_stairs_east]\n",
      "2        [5gokan_stairs_west]\n",
      "3         [8gokan_stairs_cnt]\n",
      "4        [8gokan_stairs_east]\n",
      "5       [denkisogokan_stairs]\n"
     ]
    }
   ],
   "source": [
    "print(cor_table)"
   ]
  },
  {
   "cell_type": "markdown",
   "metadata": {},
   "source": [
    "# Grad-CAMの定義"
   ]
  },
  {
   "cell_type": "code",
   "execution_count": null,
   "metadata": {},
   "outputs": [],
   "source": [
    "class GradCam:\n",
    "    def __init__(self, model):\n",
    "        self.model = model.eval()\n",
    "        self.feature = None\n",
    "        self.gradient = None\n",
    "    \n",
    "    def save_gradient(self, grad):\n",
    "        self.gradient = grad\n",
    "    \n",
    "    def __call__(self, x):\n",
    "        image_size = (x.size(-1), x.size(-2))\n",
    "        feature_maps =[]\n",
    "        \n",
    "        for i in range(x.size(0)):\n",
    "            img = x[i].data.cpu().numpy() #GPU上のTensorはcpuに移さないとnumpyに変換できない\n",
    "            img = img - np.min(img)\n",
    "            if np.max(img) != 0:\n",
    "                img = img / np.max(img)\n",
    "            \n",
    "            feature = x[i].unsqueeze(0)\n",
    "            \n",
    "            for name, module in self.model.named_children():\n",
    "                if name == 'clasifier':\n",
    "                    feature = feature.view(feature.size(0), -1)\n",
    "                feature = module(feature)\n",
    "                if name == 'features':\n",
    "                    feature.register_hook(self.save_gradient)\n",
    "                    self.feature = feature\n",
    "                    \n",
    "            classes = F.sigmoid(feature)\n",
    "            one_hot, _ = classes.max(dim=-1)\n",
    "            self.model.zero_grad()\n",
    "            one_hot.backward()\n",
    "            \n",
    "            weight = self.gradient.mean(dim=-1, keepdim=True).mean(dim=-2, keepdim=True)\n",
    "            \n",
    "            mask = F.relu((weight*self.feature).sum(dim=1)).squeeze(0)\n",
    "            mask = cv2.resize(mask.data.cpu().numpy(), image_size)\n",
    "            mask = mask - np.min(mask)\n",
    "            \n",
    "            if np.max(mask) != 0:\n",
    "                mask = mask/np.max(mask)\n",
    "                \n",
    "            feature_map = np.float32(cv2.applyColorMap(np.uint8(255*mask), cv2.COLORMAP_JET))\n",
    "            cam = feature_map + np.float32((np.uint8(img.transpose((1,2,0))*225)))\n",
    "            cam = cam - np.min(cam)\n",
    "            \n",
    "            if np.max(cam) != 0:\n",
    "                cam = cam/np.max(cam)\n",
    "                \n",
    "            feature_maps.append(transforms.ToTensor()(cv2.cvtColor(np.uint8(225*cam), cv2.COLOR_BGR2RGB)))\n",
    "            \n",
    "        feature_maps = torch.stack(feature_maps)\n",
    "        \n",
    "        return feature_maps\n",
    "                "
   ]
  },
  {
   "cell_type": "code",
   "execution_count": null,
   "metadata": {},
   "outputs": [],
   "source": [
    "for i in range(len(cam_test_img_path)):\n",
    "    #入力画像の読み込み\n",
    "    cam_test_img = Image.open(cam_test_img_path[i])\n",
    "    cam_img_tensor = (data_transforms['data']((cam_test_img))).unsqueeze(dim=0)\n",
    "    \n",
    "    cam_img_tensor = cam_img_tensor.to(device)\n",
    "    \n",
    "    img_size = cam_test_img.size\n",
    "    #grad-camによる予測根拠可視化\n",
    "    gradcam = GradCam(net)\n",
    "    \n",
    "    feature_image = gradcam(cam_img_tensor).squeeze(dim=0)\n",
    "    feature_image = transforms.ToPILImage()(feature_image)\n",
    "    \n",
    "    pred_idx = net(cam_img_tensor).max(1)[1]\n",
    "                      \n",
    "    save_dir = '../data/gradcam_img/VGG16/'+s_classlist[i]\n",
    "    if not os.path.exists(save_dir):\n",
    "        os.makedirs(save_dir)\t# Make a directory\n",
    "    #保存先ディレクトリ名はその画像のクラス，画像の予測値を画像の名前に書き込む\n",
    "    cv2.imwrite(save_dir+'/heatmap_pred_'+s_classlist[pred_idx]+'.jpg', superimposed_img)\n",
    "    print('Saved: ', save_dir+'/heatmap_pred_'+s_classlist[pred_idx]+'.jpg')"
   ]
  }
 ],
 "metadata": {
  "kernelspec": {
   "display_name": "Python 3",
   "language": "python",
   "name": "python3"
  },
  "language_info": {
   "codemirror_mode": {
    "name": "ipython",
    "version": 3
   },
   "file_extension": ".py",
   "mimetype": "text/x-python",
   "name": "python",
   "nbconvert_exporter": "python",
   "pygments_lexer": "ipython3",
   "version": "3.6.8"
  }
 },
 "nbformat": 4,
 "nbformat_minor": 2
}
