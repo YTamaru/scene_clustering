{
 "cells": [
  {
   "cell_type": "code",
   "execution_count": 1,
   "metadata": {},
   "outputs": [
    {
     "name": "stderr",
     "output_type": "stream",
     "text": [
      "/usr/local/lib/python3.6/dist-packages/tensorflow/python/framework/dtypes.py:526: FutureWarning: Passing (type, 1) or '1type' as a synonym of type is deprecated; in a future version of numpy, it will be understood as (type, (1,)) / '(1,)type'.\n",
      "  _np_qint8 = np.dtype([(\"qint8\", np.int8, 1)])\n",
      "/usr/local/lib/python3.6/dist-packages/tensorflow/python/framework/dtypes.py:527: FutureWarning: Passing (type, 1) or '1type' as a synonym of type is deprecated; in a future version of numpy, it will be understood as (type, (1,)) / '(1,)type'.\n",
      "  _np_quint8 = np.dtype([(\"quint8\", np.uint8, 1)])\n",
      "/usr/local/lib/python3.6/dist-packages/tensorflow/python/framework/dtypes.py:528: FutureWarning: Passing (type, 1) or '1type' as a synonym of type is deprecated; in a future version of numpy, it will be understood as (type, (1,)) / '(1,)type'.\n",
      "  _np_qint16 = np.dtype([(\"qint16\", np.int16, 1)])\n",
      "/usr/local/lib/python3.6/dist-packages/tensorflow/python/framework/dtypes.py:529: FutureWarning: Passing (type, 1) or '1type' as a synonym of type is deprecated; in a future version of numpy, it will be understood as (type, (1,)) / '(1,)type'.\n",
      "  _np_quint16 = np.dtype([(\"quint16\", np.uint16, 1)])\n",
      "/usr/local/lib/python3.6/dist-packages/tensorflow/python/framework/dtypes.py:530: FutureWarning: Passing (type, 1) or '1type' as a synonym of type is deprecated; in a future version of numpy, it will be understood as (type, (1,)) / '(1,)type'.\n",
      "  _np_qint32 = np.dtype([(\"qint32\", np.int32, 1)])\n",
      "/usr/local/lib/python3.6/dist-packages/tensorflow/python/framework/dtypes.py:535: FutureWarning: Passing (type, 1) or '1type' as a synonym of type is deprecated; in a future version of numpy, it will be understood as (type, (1,)) / '(1,)type'.\n",
      "  np_resource = np.dtype([(\"resource\", np.ubyte, 1)])\n"
     ]
    }
   ],
   "source": [
    "import tensorflow as tf\n",
    "from tensorflow import keras\n",
    "from tensorflow.keras import backend as K\n",
    "import numpy as np\n",
    "import matplotlib.pyplot as plt\n",
    "import pandas as pd\n",
    "import sklearn\n",
    "import random as rn\n",
    "import csv\n",
    "import os\n",
    "import cv2\n",
    "from PIL import Image\n",
    "from tensorflow.keras.preprocessing.image import ImageDataGenerator\n",
    "from tensorflow.keras.preprocessing.image import img_to_array, load_img"
   ]
  },
  {
   "cell_type": "code",
   "execution_count": 2,
   "metadata": {},
   "outputs": [],
   "source": [
    "# tensorflowの乱数シード固定(再現性の担保)\n",
    "os.environ['PYTHONHASHSEED'] = '0'\n",
    "np.random.seed(7)\n",
    "rn.seed(7)\n",
    "\n",
    "session_conf = tf.ConfigProto(\n",
    "    intra_op_parallelism_threads=1,\n",
    "    inter_op_parallelism_threads=1\n",
    ")\n",
    "\n",
    "tf.set_random_seed(7)\n",
    "sess = tf.Session(graph=tf.get_default_graph(), config=session_conf)\n",
    "K.set_session(sess)"
   ]
  },
  {
   "cell_type": "code",
   "execution_count": 3,
   "metadata": {},
   "outputs": [],
   "source": [
    "batch_size = 32\n",
    "n_epochs = 50"
   ]
  },
  {
   "cell_type": "markdown",
   "metadata": {},
   "source": [
    "# 画像データ取り込み\n"
   ]
  },
  {
   "cell_type": "code",
   "execution_count": 4,
   "metadata": {},
   "outputs": [
    {
     "data": {
      "text/html": [
       "<div>\n",
       "<style scoped>\n",
       "    .dataframe tbody tr th:only-of-type {\n",
       "        vertical-align: middle;\n",
       "    }\n",
       "\n",
       "    .dataframe tbody tr th {\n",
       "        vertical-align: top;\n",
       "    }\n",
       "\n",
       "    .dataframe thead th {\n",
       "        text-align: right;\n",
       "    }\n",
       "</style>\n",
       "<table border=\"1\" class=\"dataframe\">\n",
       "  <thead>\n",
       "    <tr style=\"text-align: right;\">\n",
       "      <th></th>\n",
       "      <th>img_path</th>\n",
       "      <th>l_class</th>\n",
       "      <th>s_class</th>\n",
       "      <th>timestamp</th>\n",
       "    </tr>\n",
       "  </thead>\n",
       "  <tbody>\n",
       "    <tr>\n",
       "      <th>0</th>\n",
       "      <td>../data/insta_frames/5gokan-denkisogokan/5goka...</td>\n",
       "      <td>5gokan-denkisogokan</td>\n",
       "      <td>5gokan-denkisogokan</td>\n",
       "      <td>2019/10/23 18:50:43</td>\n",
       "    </tr>\n",
       "    <tr>\n",
       "      <th>1</th>\n",
       "      <td>../data/insta_frames/5gokan-denkisogokan/5goka...</td>\n",
       "      <td>5gokan-denkisogokan</td>\n",
       "      <td>5gokan-denkisogokan</td>\n",
       "      <td>2019/10/23 18:50:43</td>\n",
       "    </tr>\n",
       "    <tr>\n",
       "      <th>2</th>\n",
       "      <td>../data/insta_frames/5gokan-denkisogokan/5goka...</td>\n",
       "      <td>5gokan-denkisogokan</td>\n",
       "      <td>5gokan-denkisogokan</td>\n",
       "      <td>2019/10/23 18:50:43</td>\n",
       "    </tr>\n",
       "    <tr>\n",
       "      <th>3</th>\n",
       "      <td>../data/insta_frames/5gokan-denkisogokan/5goka...</td>\n",
       "      <td>5gokan-denkisogokan</td>\n",
       "      <td>5gokan-denkisogokan</td>\n",
       "      <td>2019/10/23 18:50:43</td>\n",
       "    </tr>\n",
       "    <tr>\n",
       "      <th>4</th>\n",
       "      <td>../data/insta_frames/5gokan-denkisogokan/5goka...</td>\n",
       "      <td>5gokan-denkisogokan</td>\n",
       "      <td>5gokan-denkisogokan</td>\n",
       "      <td>2019/10/23 18:50:43</td>\n",
       "    </tr>\n",
       "  </tbody>\n",
       "</table>\n",
       "</div>"
      ],
      "text/plain": [
       "                                            img_path              l_class  \\\n",
       "0  ../data/insta_frames/5gokan-denkisogokan/5goka...  5gokan-denkisogokan   \n",
       "1  ../data/insta_frames/5gokan-denkisogokan/5goka...  5gokan-denkisogokan   \n",
       "2  ../data/insta_frames/5gokan-denkisogokan/5goka...  5gokan-denkisogokan   \n",
       "3  ../data/insta_frames/5gokan-denkisogokan/5goka...  5gokan-denkisogokan   \n",
       "4  ../data/insta_frames/5gokan-denkisogokan/5goka...  5gokan-denkisogokan   \n",
       "\n",
       "               s_class            timestamp  \n",
       "0  5gokan-denkisogokan  2019/10/23 18:50:43  \n",
       "1  5gokan-denkisogokan  2019/10/23 18:50:43  \n",
       "2  5gokan-denkisogokan  2019/10/23 18:50:43  \n",
       "3  5gokan-denkisogokan  2019/10/23 18:50:43  \n",
       "4  5gokan-denkisogokan  2019/10/23 18:50:43  "
      ]
     },
     "execution_count": 4,
     "metadata": {},
     "output_type": "execute_result"
    }
   ],
   "source": [
    "DATA_FOLDER = '../data/'\n",
    "datalist = pd.read_csv(os.path.join(DATA_FOLDER, 'frames_data.csv'), names=[\"img_path\", \"l_class\", 's_class','timestamp'])\n",
    "datalist.head()"
   ]
  },
  {
   "cell_type": "code",
   "execution_count": 5,
   "metadata": {},
   "outputs": [],
   "source": [
    "l_classlist = ['4gokan', '5gokan', '5gokan-denkisogokan', '5gokan-mediacenter'\n",
    "                    '8gokan', 'denkisogokan', 'lab', 'lab-lounge', 'lounge']\n",
    "s_classlist = ['4gokan_inside', '4gokan_outside', '5gokan-denkisogokan', '5gokan-mediacenter',\n",
    "'5gokan_1F', '5gokan_2F', '5gokan_3F', '5gokan_ent_east', '5gokan_lounge',\n",
    "'5gokan_out_east', '5gokan_parking', '5gokan_smoking', '5gokan_stairs_cnt',\n",
    "'5gokan_stairs_west', '8gokan_1F', '8gokan_ent_north', '8gokan_ent_south',\n",
    "'denkisogokan_2F', 'denkisogokan_3F', 'denkisogokan_4F', 'denkisogokan_elevator',\n",
    "'denkisogokan_lounge', 'denkisogokan_stairs', 'lab-lounge', 'lab_bs_cnt',\n",
    "'lab_corner', 'lab_desk', 'lab_desk_table', 'lab_ent', 'lab_printer',\n",
    "'lab_table', 'lab_wb_cnt', 'lab_wb_ent', 'lounge']\n",
    "num_l_class =len(l_classlist)\n",
    "num_s_class = len(s_classlist)"
   ]
  },
  {
   "cell_type": "code",
   "execution_count": 6,
   "metadata": {},
   "outputs": [
    {
     "name": "stdout",
     "output_type": "stream",
     "text": [
      "34\n"
     ]
    }
   ],
   "source": [
    "print(num_s_class)"
   ]
  },
  {
   "cell_type": "code",
   "execution_count": 7,
   "metadata": {},
   "outputs": [
    {
     "data": {
      "text/html": [
       "<div>\n",
       "<style scoped>\n",
       "    .dataframe tbody tr th:only-of-type {\n",
       "        vertical-align: middle;\n",
       "    }\n",
       "\n",
       "    .dataframe tbody tr th {\n",
       "        vertical-align: top;\n",
       "    }\n",
       "\n",
       "    .dataframe thead th {\n",
       "        text-align: right;\n",
       "    }\n",
       "</style>\n",
       "<table border=\"1\" class=\"dataframe\">\n",
       "  <thead>\n",
       "    <tr style=\"text-align: right;\">\n",
       "      <th></th>\n",
       "      <th>img_path</th>\n",
       "      <th>l_class</th>\n",
       "    </tr>\n",
       "  </thead>\n",
       "  <tbody>\n",
       "    <tr>\n",
       "      <th>0</th>\n",
       "      <td>../data/insta_frames/5gokan-denkisogokan/5goka...</td>\n",
       "      <td>5gokan-denkisogokan</td>\n",
       "    </tr>\n",
       "    <tr>\n",
       "      <th>1</th>\n",
       "      <td>../data/insta_frames/5gokan-denkisogokan/5goka...</td>\n",
       "      <td>5gokan-denkisogokan</td>\n",
       "    </tr>\n",
       "    <tr>\n",
       "      <th>2</th>\n",
       "      <td>../data/insta_frames/5gokan-denkisogokan/5goka...</td>\n",
       "      <td>5gokan-denkisogokan</td>\n",
       "    </tr>\n",
       "    <tr>\n",
       "      <th>3</th>\n",
       "      <td>../data/insta_frames/5gokan-denkisogokan/5goka...</td>\n",
       "      <td>5gokan-denkisogokan</td>\n",
       "    </tr>\n",
       "    <tr>\n",
       "      <th>4</th>\n",
       "      <td>../data/insta_frames/5gokan-denkisogokan/5goka...</td>\n",
       "      <td>5gokan-denkisogokan</td>\n",
       "    </tr>\n",
       "  </tbody>\n",
       "</table>\n",
       "</div>"
      ],
      "text/plain": [
       "                                            img_path              l_class\n",
       "0  ../data/insta_frames/5gokan-denkisogokan/5goka...  5gokan-denkisogokan\n",
       "1  ../data/insta_frames/5gokan-denkisogokan/5goka...  5gokan-denkisogokan\n",
       "2  ../data/insta_frames/5gokan-denkisogokan/5goka...  5gokan-denkisogokan\n",
       "3  ../data/insta_frames/5gokan-denkisogokan/5goka...  5gokan-denkisogokan\n",
       "4  ../data/insta_frames/5gokan-denkisogokan/5goka...  5gokan-denkisogokan"
      ]
     },
     "execution_count": 7,
     "metadata": {},
     "output_type": "execute_result"
    }
   ],
   "source": [
    "dfl = datalist.drop(['s_class','timestamp'], axis=1)\n",
    "dfl.head()"
   ]
  },
  {
   "cell_type": "code",
   "execution_count": 8,
   "metadata": {},
   "outputs": [
    {
     "data": {
      "text/html": [
       "<div>\n",
       "<style scoped>\n",
       "    .dataframe tbody tr th:only-of-type {\n",
       "        vertical-align: middle;\n",
       "    }\n",
       "\n",
       "    .dataframe tbody tr th {\n",
       "        vertical-align: top;\n",
       "    }\n",
       "\n",
       "    .dataframe thead th {\n",
       "        text-align: right;\n",
       "    }\n",
       "</style>\n",
       "<table border=\"1\" class=\"dataframe\">\n",
       "  <thead>\n",
       "    <tr style=\"text-align: right;\">\n",
       "      <th></th>\n",
       "      <th>img_path</th>\n",
       "    </tr>\n",
       "    <tr>\n",
       "      <th>l_class</th>\n",
       "      <th></th>\n",
       "    </tr>\n",
       "  </thead>\n",
       "  <tbody>\n",
       "    <tr>\n",
       "      <th>4gokan</th>\n",
       "      <td>308</td>\n",
       "    </tr>\n",
       "    <tr>\n",
       "      <th>5gokan</th>\n",
       "      <td>1328</td>\n",
       "    </tr>\n",
       "    <tr>\n",
       "      <th>5gokan-denkisogokan</th>\n",
       "      <td>361</td>\n",
       "    </tr>\n",
       "    <tr>\n",
       "      <th>5gokan-mediacenter</th>\n",
       "      <td>127</td>\n",
       "    </tr>\n",
       "    <tr>\n",
       "      <th>8gokan</th>\n",
       "      <td>266</td>\n",
       "    </tr>\n",
       "    <tr>\n",
       "      <th>denkisogokan</th>\n",
       "      <td>523</td>\n",
       "    </tr>\n",
       "    <tr>\n",
       "      <th>lab</th>\n",
       "      <td>1953</td>\n",
       "    </tr>\n",
       "    <tr>\n",
       "      <th>lab-lounge</th>\n",
       "      <td>63</td>\n",
       "    </tr>\n",
       "    <tr>\n",
       "      <th>lounge</th>\n",
       "      <td>247</td>\n",
       "    </tr>\n",
       "  </tbody>\n",
       "</table>\n",
       "</div>"
      ],
      "text/plain": [
       "                     img_path\n",
       "l_class                      \n",
       "4gokan                    308\n",
       "5gokan                   1328\n",
       "5gokan-denkisogokan       361\n",
       "5gokan-mediacenter        127\n",
       "8gokan                    266\n",
       "denkisogokan              523\n",
       "lab                      1953\n",
       "lab-lounge                 63\n",
       "lounge                    247"
      ]
     },
     "execution_count": 8,
     "metadata": {},
     "output_type": "execute_result"
    }
   ],
   "source": [
    "dfl.groupby('l_class').count()"
   ]
  },
  {
   "cell_type": "code",
   "execution_count": 9,
   "metadata": {},
   "outputs": [
    {
     "data": {
      "text/html": [
       "<div>\n",
       "<style scoped>\n",
       "    .dataframe tbody tr th:only-of-type {\n",
       "        vertical-align: middle;\n",
       "    }\n",
       "\n",
       "    .dataframe tbody tr th {\n",
       "        vertical-align: top;\n",
       "    }\n",
       "\n",
       "    .dataframe thead th {\n",
       "        text-align: right;\n",
       "    }\n",
       "</style>\n",
       "<table border=\"1\" class=\"dataframe\">\n",
       "  <thead>\n",
       "    <tr style=\"text-align: right;\">\n",
       "      <th></th>\n",
       "      <th>img_path</th>\n",
       "    </tr>\n",
       "    <tr>\n",
       "      <th>s_class</th>\n",
       "      <th></th>\n",
       "    </tr>\n",
       "  </thead>\n",
       "  <tbody>\n",
       "    <tr>\n",
       "      <th>4gokan_inside</th>\n",
       "      <td>60</td>\n",
       "    </tr>\n",
       "    <tr>\n",
       "      <th>4gokan_outside</th>\n",
       "      <td>248</td>\n",
       "    </tr>\n",
       "    <tr>\n",
       "      <th>5gokan-denkisogokan</th>\n",
       "      <td>361</td>\n",
       "    </tr>\n",
       "    <tr>\n",
       "      <th>5gokan-mediacenter</th>\n",
       "      <td>127</td>\n",
       "    </tr>\n",
       "    <tr>\n",
       "      <th>5gokan_1F</th>\n",
       "      <td>65</td>\n",
       "    </tr>\n",
       "    <tr>\n",
       "      <th>5gokan_2F</th>\n",
       "      <td>96</td>\n",
       "    </tr>\n",
       "    <tr>\n",
       "      <th>5gokan_3F</th>\n",
       "      <td>32</td>\n",
       "    </tr>\n",
       "    <tr>\n",
       "      <th>5gokan_ent_east</th>\n",
       "      <td>135</td>\n",
       "    </tr>\n",
       "    <tr>\n",
       "      <th>5gokan_lounge</th>\n",
       "      <td>361</td>\n",
       "    </tr>\n",
       "    <tr>\n",
       "      <th>5gokan_out_east</th>\n",
       "      <td>99</td>\n",
       "    </tr>\n",
       "    <tr>\n",
       "      <th>5gokan_parking</th>\n",
       "      <td>251</td>\n",
       "    </tr>\n",
       "    <tr>\n",
       "      <th>5gokan_smoking</th>\n",
       "      <td>65</td>\n",
       "    </tr>\n",
       "    <tr>\n",
       "      <th>5gokan_stairs_cnt</th>\n",
       "      <td>187</td>\n",
       "    </tr>\n",
       "    <tr>\n",
       "      <th>5gokan_stairs_west</th>\n",
       "      <td>37</td>\n",
       "    </tr>\n",
       "    <tr>\n",
       "      <th>8gokan_1F</th>\n",
       "      <td>208</td>\n",
       "    </tr>\n",
       "    <tr>\n",
       "      <th>8gokan_ent_north</th>\n",
       "      <td>26</td>\n",
       "    </tr>\n",
       "    <tr>\n",
       "      <th>8gokan_ent_south</th>\n",
       "      <td>32</td>\n",
       "    </tr>\n",
       "    <tr>\n",
       "      <th>denkisogokan_2F</th>\n",
       "      <td>120</td>\n",
       "    </tr>\n",
       "    <tr>\n",
       "      <th>denkisogokan_3F</th>\n",
       "      <td>33</td>\n",
       "    </tr>\n",
       "    <tr>\n",
       "      <th>denkisogokan_4F</th>\n",
       "      <td>31</td>\n",
       "    </tr>\n",
       "    <tr>\n",
       "      <th>denkisogokan_elevator</th>\n",
       "      <td>30</td>\n",
       "    </tr>\n",
       "    <tr>\n",
       "      <th>denkisogokan_lounge</th>\n",
       "      <td>198</td>\n",
       "    </tr>\n",
       "    <tr>\n",
       "      <th>denkisogokan_stairs</th>\n",
       "      <td>111</td>\n",
       "    </tr>\n",
       "    <tr>\n",
       "      <th>lab-lounge</th>\n",
       "      <td>63</td>\n",
       "    </tr>\n",
       "    <tr>\n",
       "      <th>lab_bs_cnt</th>\n",
       "      <td>35</td>\n",
       "    </tr>\n",
       "    <tr>\n",
       "      <th>lab_corner</th>\n",
       "      <td>58</td>\n",
       "    </tr>\n",
       "    <tr>\n",
       "      <th>lab_desk</th>\n",
       "      <td>813</td>\n",
       "    </tr>\n",
       "    <tr>\n",
       "      <th>lab_desk_table</th>\n",
       "      <td>137</td>\n",
       "    </tr>\n",
       "    <tr>\n",
       "      <th>lab_ent</th>\n",
       "      <td>30</td>\n",
       "    </tr>\n",
       "    <tr>\n",
       "      <th>lab_printer</th>\n",
       "      <td>31</td>\n",
       "    </tr>\n",
       "    <tr>\n",
       "      <th>lab_table</th>\n",
       "      <td>755</td>\n",
       "    </tr>\n",
       "    <tr>\n",
       "      <th>lab_wb_cnt</th>\n",
       "      <td>31</td>\n",
       "    </tr>\n",
       "    <tr>\n",
       "      <th>lab_wb_ent</th>\n",
       "      <td>63</td>\n",
       "    </tr>\n",
       "    <tr>\n",
       "      <th>lounge</th>\n",
       "      <td>247</td>\n",
       "    </tr>\n",
       "  </tbody>\n",
       "</table>\n",
       "</div>"
      ],
      "text/plain": [
       "                       img_path\n",
       "s_class                        \n",
       "4gokan_inside                60\n",
       "4gokan_outside              248\n",
       "5gokan-denkisogokan         361\n",
       "5gokan-mediacenter          127\n",
       "5gokan_1F                    65\n",
       "5gokan_2F                    96\n",
       "5gokan_3F                    32\n",
       "5gokan_ent_east             135\n",
       "5gokan_lounge               361\n",
       "5gokan_out_east              99\n",
       "5gokan_parking              251\n",
       "5gokan_smoking               65\n",
       "5gokan_stairs_cnt           187\n",
       "5gokan_stairs_west           37\n",
       "8gokan_1F                   208\n",
       "8gokan_ent_north             26\n",
       "8gokan_ent_south             32\n",
       "denkisogokan_2F             120\n",
       "denkisogokan_3F              33\n",
       "denkisogokan_4F              31\n",
       "denkisogokan_elevator        30\n",
       "denkisogokan_lounge         198\n",
       "denkisogokan_stairs         111\n",
       "lab-lounge                   63\n",
       "lab_bs_cnt                   35\n",
       "lab_corner                   58\n",
       "lab_desk                    813\n",
       "lab_desk_table              137\n",
       "lab_ent                      30\n",
       "lab_printer                  31\n",
       "lab_table                   755\n",
       "lab_wb_cnt                   31\n",
       "lab_wb_ent                   63\n",
       "lounge                      247"
      ]
     },
     "execution_count": 9,
     "metadata": {},
     "output_type": "execute_result"
    }
   ],
   "source": [
    "dfs = datalist.drop(['l_class', 'timestamp'], axis=1)\n",
    "dfs.groupby('s_class').count()"
   ]
  },
  {
   "cell_type": "code",
   "execution_count": 10,
   "metadata": {},
   "outputs": [
    {
     "data": {
      "text/plain": [
       "5176"
      ]
     },
     "execution_count": 10,
     "metadata": {},
     "output_type": "execute_result"
    }
   ],
   "source": [
    "dfs.img_path.count()"
   ]
  },
  {
   "cell_type": "code",
   "execution_count": 11,
   "metadata": {},
   "outputs": [],
   "source": [
    "grad_test_img_path =[\n",
    "    \"../data/insta_frames/4gokan/4gokan_inside/4gokan_inside_0_img_000240.png\",\n",
    "    \"../data/insta_frames/4gokan/4gokan_outside/4gokan_outside_0_img_000180.png\",\n",
    "    \"../data/insta_frames/5gokan-denkisogokan/5gokan-denkisogokan_1_img_000010.png\",\n",
    "    \"../data/insta_frames/5gokan-mediacenter/5gokan-mediacenter_0_img_000030.png\",\n",
    "    \"../data/insta_frames/5gokan/5gokan_1F/5gokan_1F_0_img_000070.png\",\n",
    "    \"../data/insta_frames/5gokan/5gokan_2F/5gokan_2F_2_img_000030.png\",\n",
    "    \"../data/insta_frames/5gokan/5gokan_3F/5gokan_3F_0_img_000040.png\",\n",
    "    \"../data/insta_frames/5gokan/5gokan_ent_east/5gokan_ent_east_2_img_000000.png\",\n",
    "    \"../data/insta_frames/5gokan/5gokan_lounge/5gokan_lounge_2_img_000060.png\",\n",
    "    \"../data/insta_frames/5gokan/5gokan_out_east/5gokan_out_east_0_img_000270.png\",\n",
    "    \"../data/insta_frames/5gokan/5gokan_parking/5gokan_parking_1_img_000170.png\",\n",
    "    \"../data/insta_frames/5gokan/5gokan_smoking/5gokan_smoking_0_img_000270.png\",\n",
    "    \"../data/insta_frames/5gokan/5gokan_stairs_cnt/5gokan_stairs_cnt_3_img_000010.png\",\n",
    "    \"../data/insta_frames/5gokan/5gokan_stairs_west/5gokan_stairs_west_0_img_000340.png\",\n",
    "    \"../data/insta_frames/8gokan/8gokan_1F/8gokan_1F_1_img_000000.png\",\n",
    "    \"../data/insta_frames/8gokan/8gokan_ent_north/8gokan_ent_north_0_img_000010.png\",\n",
    "    \"../data/insta_frames/8gokan/8gokan_ent_south/8gokan_ent_south_1_img_000070.png\",\n",
    "    \"../data/insta_frames/denkisogokan/denkisogokan_2F/denkisogokan_2F_2_img_000300.png\",\n",
    "    \"../data/insta_frames/denkisogokan/denkisogokan_3F/denkisogokan_3F_0_img_000010.png\",\n",
    "    \"../data/insta_frames/denkisogokan/denkisogokan_4F/denkisogokan_4F_0_img_000170.png\",\n",
    "    \"../data/insta_frames/denkisogokan/denkisogokan_elevator/denkisogokan_elevator_0_img_000220.png\",\n",
    "    \"../data/insta_frames/denkisogokan/denkisogokan_lounge/denkisogokan_lounge_1_img_000060.png\",\n",
    "    \"../data/insta_frames/denkisogokan/denkisogokan_stairs/denkisogokan_stairs_0_img_000120.png\",\n",
    "    \"../data/insta_frames/lab-lounge/lab-lounge_0_img_000170.png\",\n",
    "    \"../data/insta_frames/lab/lab_bs_cnt/lab_bs_cnt_0_img_000270.png\",\n",
    "    \"../data/insta_frames/lab/lab_corner/lab_corner_0_img_000270.png\",\n",
    "    \"../data/insta_frames/lab/lab_desk/lab_desk_8_img_000210.png\",\n",
    "    \"../data/insta_frames/lab/lab_desk_table/lab_desk_table_3_img_000150.png\",\n",
    "    \"../data/insta_frames/lab/lab_ent/lab_ent_0_img_000020.png\",\n",
    "    \"../data/insta_frames/lab/lab_printer/lab_printer_0_img_000030.png\",\n",
    "    \"../data/insta_frames/lab/lab_table/lab_table_0_img_000170.png\",\n",
    "    \"../data/insta_frames/lab/lab_wb_cnt/lab_wb_cnt_0_img_000120.png\",\n",
    "    \"../data/insta_frames/lab/lab_wb_ent/lab_wb_ent_1_img_000160.png\",\n",
    "    \"../data/insta_frames/lounge/lounge_1_img_000060.png\",\n",
    "]"
   ]
  },
  {
   "cell_type": "code",
   "execution_count": 12,
   "metadata": {},
   "outputs": [],
   "source": [
    "# Markdown\n",
    "from sklearn.preprocessing import LabelEncoder"
   ]
  },
  {
   "cell_type": "code",
   "execution_count": 13,
   "metadata": {},
   "outputs": [
    {
     "data": {
      "text/plain": [
       "<pandas.core.groupby.generic.DataFrameGroupBy object at 0x7f2ed0ec9278>"
      ]
     },
     "execution_count": 13,
     "metadata": {},
     "output_type": "execute_result"
    }
   ],
   "source": [
    "# Markdown\n",
    "le = LabelEncoder()\n",
    "le.fit(dfs.s_class)\n",
    "dfs[\"labels\"] = le.transform(dfs.s_class)\n",
    "dfs.groupby('labels')"
   ]
  },
  {
   "cell_type": "code",
   "execution_count": 14,
   "metadata": {},
   "outputs": [
    {
     "data": {
      "text/html": [
       "<div>\n",
       "<style scoped>\n",
       "    .dataframe tbody tr th:only-of-type {\n",
       "        vertical-align: middle;\n",
       "    }\n",
       "\n",
       "    .dataframe tbody tr th {\n",
       "        vertical-align: top;\n",
       "    }\n",
       "\n",
       "    .dataframe thead th {\n",
       "        text-align: right;\n",
       "    }\n",
       "</style>\n",
       "<table border=\"1\" class=\"dataframe\">\n",
       "  <thead>\n",
       "    <tr style=\"text-align: right;\">\n",
       "      <th></th>\n",
       "      <th>s_class</th>\n",
       "    </tr>\n",
       "    <tr>\n",
       "      <th>labels</th>\n",
       "      <th></th>\n",
       "    </tr>\n",
       "  </thead>\n",
       "  <tbody>\n",
       "    <tr>\n",
       "      <th>0</th>\n",
       "      <td>[4gokan_inside]</td>\n",
       "    </tr>\n",
       "    <tr>\n",
       "      <th>1</th>\n",
       "      <td>[4gokan_outside]</td>\n",
       "    </tr>\n",
       "    <tr>\n",
       "      <th>2</th>\n",
       "      <td>[5gokan-denkisogokan]</td>\n",
       "    </tr>\n",
       "    <tr>\n",
       "      <th>3</th>\n",
       "      <td>[5gokan-mediacenter]</td>\n",
       "    </tr>\n",
       "    <tr>\n",
       "      <th>4</th>\n",
       "      <td>[5gokan_1F]</td>\n",
       "    </tr>\n",
       "  </tbody>\n",
       "</table>\n",
       "</div>"
      ],
      "text/plain": [
       "                      s_class\n",
       "labels                       \n",
       "0             [4gokan_inside]\n",
       "1            [4gokan_outside]\n",
       "2       [5gokan-denkisogokan]\n",
       "3        [5gokan-mediacenter]\n",
       "4                 [5gokan_1F]"
      ]
     },
     "execution_count": 14,
     "metadata": {},
     "output_type": "execute_result"
    }
   ],
   "source": [
    "# Markdown\n",
    "cor_table = dfs.groupby('labels').s_class.unique()\n",
    "cor_table = pd.DataFrame(cor_table)\n",
    "cor_table.head()"
   ]
  },
  {
   "cell_type": "markdown",
   "metadata": {},
   "source": [
    "# Markdown\n",
    "cor_table.to_csv('cor_table.csv', index=False)"
   ]
  },
  {
   "cell_type": "code",
   "execution_count": 15,
   "metadata": {},
   "outputs": [],
   "source": [
    "# Markdown\n",
    "dfs = dfs.drop(['s_class'], axis=1)"
   ]
  },
  {
   "cell_type": "code",
   "execution_count": 16,
   "metadata": {},
   "outputs": [
    {
     "data": {
      "text/html": [
       "<div>\n",
       "<style scoped>\n",
       "    .dataframe tbody tr th:only-of-type {\n",
       "        vertical-align: middle;\n",
       "    }\n",
       "\n",
       "    .dataframe tbody tr th {\n",
       "        vertical-align: top;\n",
       "    }\n",
       "\n",
       "    .dataframe thead th {\n",
       "        text-align: right;\n",
       "    }\n",
       "</style>\n",
       "<table border=\"1\" class=\"dataframe\">\n",
       "  <thead>\n",
       "    <tr style=\"text-align: right;\">\n",
       "      <th></th>\n",
       "      <th>img_path</th>\n",
       "      <th>labels</th>\n",
       "    </tr>\n",
       "  </thead>\n",
       "  <tbody>\n",
       "    <tr>\n",
       "      <th>0</th>\n",
       "      <td>../data/insta_frames/5gokan-denkisogokan/5goka...</td>\n",
       "      <td>2</td>\n",
       "    </tr>\n",
       "    <tr>\n",
       "      <th>1</th>\n",
       "      <td>../data/insta_frames/5gokan-denkisogokan/5goka...</td>\n",
       "      <td>2</td>\n",
       "    </tr>\n",
       "    <tr>\n",
       "      <th>2</th>\n",
       "      <td>../data/insta_frames/5gokan-denkisogokan/5goka...</td>\n",
       "      <td>2</td>\n",
       "    </tr>\n",
       "    <tr>\n",
       "      <th>3</th>\n",
       "      <td>../data/insta_frames/5gokan-denkisogokan/5goka...</td>\n",
       "      <td>2</td>\n",
       "    </tr>\n",
       "    <tr>\n",
       "      <th>4</th>\n",
       "      <td>../data/insta_frames/5gokan-denkisogokan/5goka...</td>\n",
       "      <td>2</td>\n",
       "    </tr>\n",
       "  </tbody>\n",
       "</table>\n",
       "</div>"
      ],
      "text/plain": [
       "                                            img_path  labels\n",
       "0  ../data/insta_frames/5gokan-denkisogokan/5goka...       2\n",
       "1  ../data/insta_frames/5gokan-denkisogokan/5goka...       2\n",
       "2  ../data/insta_frames/5gokan-denkisogokan/5goka...       2\n",
       "3  ../data/insta_frames/5gokan-denkisogokan/5goka...       2\n",
       "4  ../data/insta_frames/5gokan-denkisogokan/5goka...       2"
      ]
     },
     "execution_count": 16,
     "metadata": {},
     "output_type": "execute_result"
    }
   ],
   "source": [
    "dfs.head()"
   ]
  },
  {
   "cell_type": "markdown",
   "metadata": {},
   "source": [
    "# Markdown\n",
    "x = []\n",
    "for i in range(len(dfs.img_path)):\n",
    "    image = img_to_array(load_img(dfs.img_path[i], target_size=(448,448)))\n",
    "    x.append(image)"
   ]
  },
  {
   "cell_type": "code",
   "execution_count": 24,
   "metadata": {},
   "outputs": [],
   "source": [
    "x = []\n",
    "dfs_np = np.array(dfs)\n",
    "col_name = dfs.columns.values\n",
    "for i in range(len(dfs_np[:,col_name.tolist().index('img_path')])):\n",
    "    image = img_to_array(load_img(dfs_np[i,col_name.tolist().index('img_path')],\n",
    "                                 target_size=(448,448)))\n",
    "    x.append(image)"
   ]
  },
  {
   "cell_type": "code",
   "execution_count": 25,
   "metadata": {},
   "outputs": [
    {
     "name": "stdout",
     "output_type": "stream",
     "text": [
      "0       2\n",
      "1       2\n",
      "2       2\n",
      "3       2\n",
      "4       2\n",
      "5       2\n",
      "6       2\n",
      "7       2\n",
      "8       2\n",
      "9       2\n",
      "10      2\n",
      "11      2\n",
      "12      2\n",
      "13      2\n",
      "14      2\n",
      "15      2\n",
      "16      2\n",
      "17      2\n",
      "18      2\n",
      "19      2\n",
      "20      2\n",
      "21      2\n",
      "22      2\n",
      "23      2\n",
      "24      2\n",
      "25      2\n",
      "26      2\n",
      "27      2\n",
      "28      2\n",
      "29      2\n",
      "       ..\n",
      "5146    9\n",
      "5147    9\n",
      "5148    9\n",
      "5149    9\n",
      "5150    9\n",
      "5151    9\n",
      "5152    9\n",
      "5153    9\n",
      "5154    9\n",
      "5155    9\n",
      "5156    9\n",
      "5157    9\n",
      "5158    9\n",
      "5159    9\n",
      "5160    9\n",
      "5161    9\n",
      "5162    9\n",
      "5163    9\n",
      "5164    9\n",
      "5165    9\n",
      "5166    9\n",
      "5167    9\n",
      "5168    9\n",
      "5169    9\n",
      "5170    9\n",
      "5171    9\n",
      "5172    9\n",
      "5173    9\n",
      "5174    9\n",
      "5175    9\n",
      "Name: labels, Length: 5176, dtype: int64\n"
     ]
    }
   ],
   "source": [
    "# Markdown\n",
    "y = dfs.labels\n",
    "print(y)"
   ]
  },
  {
   "cell_type": "code",
   "execution_count": 29,
   "metadata": {
    "scrolled": true
   },
   "outputs": [
    {
     "ename": "MemoryError",
     "evalue": "Unable to allocate array with shape (5176, 448, 448, 3) and data type float32",
     "output_type": "error",
     "traceback": [
      "\u001b[0;31m---------------------------------------------------------------------------\u001b[0m",
      "\u001b[0;31mMemoryError\u001b[0m                               Traceback (most recent call last)",
      "\u001b[0;32m<ipython-input-29-4c71de1bcd0b>\u001b[0m in \u001b[0;36m<module>\u001b[0;34m\u001b[0m\n\u001b[1;32m      1\u001b[0m \u001b[0;31m# Markdown\u001b[0m\u001b[0;34m\u001b[0m\u001b[0;34m\u001b[0m\u001b[0;34m\u001b[0m\u001b[0m\n\u001b[1;32m      2\u001b[0m \u001b[0;31m#正規化\u001b[0m\u001b[0;34m\u001b[0m\u001b[0;34m\u001b[0m\u001b[0;34m\u001b[0m\u001b[0m\n\u001b[0;32m----> 3\u001b[0;31m \u001b[0mx\u001b[0m \u001b[0;34m=\u001b[0m \u001b[0mnp\u001b[0m\u001b[0;34m.\u001b[0m\u001b[0marray\u001b[0m\u001b[0;34m(\u001b[0m\u001b[0mx\u001b[0m\u001b[0;34m)\u001b[0m\u001b[0;34m\u001b[0m\u001b[0;34m\u001b[0m\u001b[0m\n\u001b[0m",
      "\u001b[0;31mMemoryError\u001b[0m: Unable to allocate array with shape (5176, 448, 448, 3) and data type float32"
     ]
    }
   ],
   "source": [
    "# Markdown\n",
    "#正規化\n",
    "x = np.array(x)"
   ]
  },
  {
   "cell_type": "markdown",
   "metadata": {},
   "source": [
    "# Markdown\n",
    "#np.array形式のデータを保存　x, y\n",
    "np.save(file='x.npy', arr=x)\n",
    "np.save(file='y.npy', arr=y)"
   ]
  },
  {
   "cell_type": "markdown",
   "metadata": {},
   "source": [
    "#x, yをload\n",
    "x = np.load(file='x.npy')\n",
    "y = np.load(file='y.npy')"
   ]
  },
  {
   "cell_type": "markdown",
   "metadata": {},
   "source": [
    "画像データを入力の形で保存しておく"
   ]
  },
  {
   "cell_type": "code",
   "execution_count": null,
   "metadata": {},
   "outputs": [],
   "source": [
    "print(x.shape)\n",
    "print(y.shape)"
   ]
  },
  {
   "cell_type": "markdown",
   "metadata": {},
   "source": [
    "# train test & validation set split"
   ]
  },
  {
   "cell_type": "code",
   "execution_count": null,
   "metadata": {},
   "outputs": [],
   "source": [
    "from sklearn.model_selection import train_test_split"
   ]
  },
  {
   "cell_type": "code",
   "execution_count": null,
   "metadata": {},
   "outputs": [],
   "source": [
    "x, x_valid, y, y_valid = train_test_split(x,y, random_state=42, test_size=0.2, stratify=y)"
   ]
  },
  {
   "cell_type": "markdown",
   "metadata": {},
   "source": [
    "# EDA(探索的データ解析)\n"
   ]
  },
  {
   "cell_type": "code",
   "execution_count": null,
   "metadata": {},
   "outputs": [],
   "source": [
    "fig = plt.figure(figsize=(9,18))\n",
    "fig.subplots_adjust(left=0, right=1, bottom=0, top=0.5, hspace=0.05, wspace=0.05)\n",
    "for i in range(5):\n",
    "    ax = fig.add_subplot(1, 5, i+1, xticks=[], yticks=[])\n",
    "    ax.imshow(x[i])"
   ]
  },
  {
   "cell_type": "markdown",
   "metadata": {},
   "source": [
    "# VGG16(weight=\"ImageNet\", include_top=False)"
   ]
  },
  {
   "cell_type": "code",
   "execution_count": null,
   "metadata": {},
   "outputs": [],
   "source": [
    "from tensorflow.keras.layers import Input, Dense, Conv2D, MaxPooling2D, Flatten, Activation, add, Add, Dropout, BatchNormalization, GlobalMaxPooling2D\n",
    "from tensorflow.keras.models import Model\n",
    "from tensorflow.keras.models import load_model\n",
    "from tensorflow.keras.optimizers import Adam\n",
    "from tensorflow.keras.callbacks import EarlyStopping"
   ]
  },
  {
   "cell_type": "code",
   "execution_count": null,
   "metadata": {},
   "outputs": [],
   "source": [
    "from tensorflow.keras.applications.vgg16 import VGG16"
   ]
  },
  {
   "cell_type": "code",
   "execution_count": null,
   "metadata": {},
   "outputs": [],
   "source": [
    "vgg_model = VGG16(weights='imagenet', include_top=False, input_shape=(448,448,3))"
   ]
  },
  {
   "cell_type": "code",
   "execution_count": null,
   "metadata": {},
   "outputs": [],
   "source": [
    "vgg_model.summary()"
   ]
  },
  {
   "cell_type": "markdown",
   "metadata": {},
   "source": [
    "top(全結合層など)はデフォルトだとImageNetの全クラス数1000での出力になるので，\n",
    "自作のアーキテクチャを使用する\n",
    "top以外のモデルの重みは(ImageNetで)固定しない→学習をする"
   ]
  },
  {
   "cell_type": "markdown",
   "metadata": {},
   "source": [
    "Fine-tuning(Flozen(Not training vgg layers))\n",
    "training all layers -> acc: 0.1..."
   ]
  },
  {
   "cell_type": "markdown",
   "metadata": {},
   "source": [
    "inputs = Input(shape=(224,224,3))\n",
    "x1 = vgg_model(inputs)\n",
    "x2 = Flatten()(x1)\n",
    "x3 = Dense(256, activation='relu')(x2)\n",
    "prediction = Dense(num_s_class, activation='softmax')(x3)\n",
    "full_model = Model(inputs=inputs, outputs=prediction)\n",
    "early_stopping = EarlyStopping(monitor='val_loss', verbose=1, mode='auto')\n",
    "for layer in vgg_model.layers[:15]:\n",
    "    layer.trainable = False\n",
    "full_model.compile(loss='categorical_crossentropy', optimizer='Adam', metrics=['accuracy'])"
   ]
  },
  {
   "cell_type": "code",
   "execution_count": null,
   "metadata": {},
   "outputs": [],
   "source": [
    "x1 = vgg_model.output\n",
    "\n",
    "x2 = Flatten()(x1)\n",
    "x3 = Dense(256, activation='relu')(x2)\n",
    "prediction = Dense(num_s_class, activation='softmax')(x3)\n",
    "full_model = Model(inputs=vgg_model.input, outputs=prediction)\n",
    "\n",
    "early_stopping = EarlyStopping(monitor='val_loss', verbose=1, mode='auto')\n",
    "for layer in full_model.layers[:15]:\n",
    "    layer.trainable = False\n",
    "full_model.compile(loss='categorical_crossentropy', optimizer='Adam', metrics=['accuracy'])"
   ]
  },
  {
   "cell_type": "code",
   "execution_count": null,
   "metadata": {},
   "outputs": [],
   "source": [
    "full_model.summary()"
   ]
  },
  {
   "cell_type": "markdown",
   "metadata": {},
   "source": [
    "   # 層化抽出法(Stratified sampling)&KFold"
   ]
  },
  {
   "cell_type": "code",
   "execution_count": null,
   "metadata": {},
   "outputs": [],
   "source": [
    "from sklearn.model_selection import StratifiedKFold\n",
    "from keras.utils import np_utils"
   ]
  },
  {
   "cell_type": "code",
   "execution_count": null,
   "metadata": {},
   "outputs": [],
   "source": [
    "skf = StratifiedKFold(n_splits=5, random_state=42)\n",
    "cvscores = []\n",
    "#Stratified KFoldはlabel encoding化した整数ベクトルでないともちいることができない\n",
    "x = np.array(x)\n",
    "y = np.array(y)\n",
    "for train_index, test_index in skf.split(x, y):\n",
    "    x_train, x_test = x[train_index], x[test_index]\n",
    "    y_train, y_test = y[train_index], y[test_index]\n",
    "    #One-hot化　CNNに入出力できるように整形\n",
    "    y_train = np_utils.to_categorical(y_train, num_s_class)\n",
    "    y_test = np_utils.to_categorical(y_test, num_s_class)\n",
    "    full_model.fit(x_train, y_train, verbose=1, batch_size=batch_size, epochs=n_epochs,\n",
    "              callbacks=[early_stopping], validation_split=0.2)\n",
    "    scores = full_model.evaluate(x_test, y_test)\n",
    "    print(\"%s: %.2f%%\" % (full_model.metrics_names[1], scores[1]*100))\n",
    "    cvscores.append(scores[1] * 100)"
   ]
  },
  {
   "cell_type": "code",
   "execution_count": null,
   "metadata": {},
   "outputs": [],
   "source": [
    "print(\"%.2f%% (+/- %.2f%%)\" % (np.mean(cvscores), np.std(cvscores)))"
   ]
  },
  {
   "cell_type": "code",
   "execution_count": null,
   "metadata": {},
   "outputs": [],
   "source": [
    "y_pred = full_model.predict(x_valid)"
   ]
  },
  {
   "cell_type": "code",
   "execution_count": null,
   "metadata": {},
   "outputs": [],
   "source": [
    "y_valid = np_utils.to_categorical(y_valid)"
   ]
  },
  {
   "cell_type": "code",
   "execution_count": null,
   "metadata": {},
   "outputs": [],
   "source": [
    "y_pred = np.array(y_pred)\n",
    "y_true = np.array(y_valid)\n",
    "y_pred = np.argmax(y_pred, axis=1)\n",
    "y_true = np.argmax(y_true, axis=1)"
   ]
  },
  {
   "cell_type": "markdown",
   "metadata": {},
   "source": [
    "# Confusion Matrix"
   ]
  },
  {
   "cell_type": "code",
   "execution_count": null,
   "metadata": {},
   "outputs": [],
   "source": [
    "from sklearn.metrics import confusion_matrix, classification_report, accuracy_score\n",
    "import seaborn as sns\n",
    "from sklearn.model_selection import GridSearchCV\n",
    "from scipy.sparse.csgraph import connected_components"
   ]
  },
  {
   "cell_type": "code",
   "execution_count": null,
   "metadata": {},
   "outputs": [],
   "source": [
    "cmx = confusion_matrix(y_true, y_pred)\n",
    "plt.figure(figsize=(12,12))\n",
    "sns.heatmap(cmx, annot=True)\n",
    "plt.show()\n",
    "print('accuracy: {}'.format(accuracy_score\n",
    "(y_true, y_pred)))"
   ]
  },
  {
   "cell_type": "code",
   "execution_count": null,
   "metadata": {},
   "outputs": [],
   "source": [
    "cor_table = pd.read_csv('cor_table.csv')\n",
    "print(cor_table)"
   ]
  },
  {
   "cell_type": "markdown",
   "metadata": {},
   "source": [
    "# 中間層特徴量の可視化"
   ]
  },
  {
   "cell_type": "code",
   "execution_count": null,
   "metadata": {},
   "outputs": [],
   "source": [
    "from sklearn.decomposition import PCA\n",
    "from sklearn.preprocessing import StandardScaler"
   ]
  },
  {
   "cell_type": "code",
   "execution_count": null,
   "metadata": {},
   "outputs": [],
   "source": [
    "x1 = vgg_model.get_layer('block1_pool').output\n",
    "output1 = GlobalMaxPooling2D()(x1)\n",
    "block_model1 = Model(inputs=vgg_model.input, outputs=output1)"
   ]
  },
  {
   "cell_type": "code",
   "execution_count": null,
   "metadata": {},
   "outputs": [],
   "source": [
    "x2 = vgg_model.get_layer('block2_pool').output\n",
    "output2 = GlobalMaxPooling2D()(x2)\n",
    "block_model2 = Model(inputs=vgg_model.input, outputs=output2)"
   ]
  },
  {
   "cell_type": "code",
   "execution_count": null,
   "metadata": {},
   "outputs": [],
   "source": [
    "x3 = vgg_model.get_layer('block3_pool').output\n",
    "output3 = GlobalMaxPooling2D()(x3)\n",
    "block_model3 = Model(inputs=vgg_model.input, outputs=output3)"
   ]
  },
  {
   "cell_type": "code",
   "execution_count": null,
   "metadata": {},
   "outputs": [],
   "source": [
    "x4 = vgg_model.get_layer('block4_pool').output\n",
    "output4 = GlobalMaxPooling2D()(x4)\n",
    "block_model4 = Model(inputs=vgg_model.input, outputs=output4)"
   ]
  },
  {
   "cell_type": "code",
   "execution_count": null,
   "metadata": {},
   "outputs": [],
   "source": [
    "x5 = vgg_model.get_layer('block5_pool').output\n",
    "output5 = GlobalMaxPooling2D()(x5)\n",
    "block_model5 = Model(inputs=vgg_model.input, outputs=output5)"
   ]
  },
  {
   "cell_type": "code",
   "execution_count": null,
   "metadata": {},
   "outputs": [],
   "source": [
    "block1 = block_model1.predict(x_train)\n",
    "block2 = block_model2.predict(x_train)\n",
    "block3 = block_model3.predict(x_train)\n",
    "block4 = block_model4.predict(x_train)\n",
    "block5 = block_model5.predict(x_train)"
   ]
  },
  {
   "cell_type": "code",
   "execution_count": null,
   "metadata": {},
   "outputs": [],
   "source": [
    "print(block1.shape)\n",
    "print(block2.shape)\n",
    "print(block3.shape)\n",
    "print(block4.shape)\n",
    "print(block5.shape)"
   ]
  },
  {
   "cell_type": "markdown",
   "metadata": {},
   "source": [
    "# block1の特徴ベクトル"
   ]
  },
  {
   "cell_type": "code",
   "execution_count": null,
   "metadata": {},
   "outputs": [],
   "source": [
    "pca = PCA()"
   ]
  },
  {
   "cell_type": "code",
   "execution_count": null,
   "metadata": {},
   "outputs": [],
   "source": [
    "cm_name = 'jet'\n",
    "cmap = plt.get_cmap(cm_name, num_s_class)"
   ]
  },
  {
   "cell_type": "code",
   "execution_count": null,
   "metadata": {},
   "outputs": [],
   "source": [
    "# one-hotから整数値ベクトルに変換\n",
    "y_train_vec = []\n",
    "for i in range(len(y_train)):\n",
    "    y_train_vec.append(np.argmax(y_train[i]))"
   ]
  },
  {
   "cell_type": "code",
   "execution_count": null,
   "metadata": {},
   "outputs": [],
   "source": [
    "feature1 = pca.fit_transform(block1)\n",
    "#　主成分分析の例(1層目)\n",
    "df_feature1 = pd.DataFrame(feature1)\n",
    "print(df_feature1)"
   ]
  },
  {
   "cell_type": "code",
   "execution_count": null,
   "metadata": {},
   "outputs": [],
   "source": [
    "plt.scatter(feature1[:,0],feature1[:,1], marker=\".\", c=y_train_vec, cmap=cmap)\n",
    "plt.xlabel(\"PC1\")\n",
    "plt.ylabel(\"PC2\")\n",
    "plt.colorbar()\n",
    "plt.show()"
   ]
  },
  {
   "cell_type": "code",
   "execution_count": null,
   "metadata": {},
   "outputs": [],
   "source": [
    "pca.fit(block1)\n",
    "ev_ratio = pca.explained_variance_ratio_\n",
    "ev_ratio = np.hstack([0, ev_ratio.cumsum()])\n",
    "plt.xlabel(\"num of components\")\n",
    "plt.ylabel(\"explained variance ratio\")\n",
    "plt.plot(ev_ratio)\n",
    "plt.show()"
   ]
  },
  {
   "cell_type": "markdown",
   "metadata": {},
   "source": [
    "# block2の特徴ベクトル "
   ]
  },
  {
   "cell_type": "code",
   "execution_count": null,
   "metadata": {},
   "outputs": [],
   "source": [
    "feature2 = pca.fit_transform(block2)"
   ]
  },
  {
   "cell_type": "code",
   "execution_count": null,
   "metadata": {},
   "outputs": [],
   "source": [
    "plt.scatter(feature2[:,0],feature2[:,1], marker=\".\", c=y_train_vec, cmap=cmap)\n",
    "plt.xlabel(\"PC1\")\n",
    "plt.ylabel(\"PC2\")\n",
    "plt.colorbar()\n",
    "plt.show()"
   ]
  },
  {
   "cell_type": "code",
   "execution_count": null,
   "metadata": {},
   "outputs": [],
   "source": [
    "pca.fit(block2)\n",
    "ev_ratio = pca.explained_variance_ratio_\n",
    "ev_ratio = np.hstack([0, ev_ratio.cumsum()])\n",
    "plt.xlabel(\"num of components\")\n",
    "plt.ylabel(\"explained variance ratio\")\n",
    "plt.plot(ev_ratio)\n",
    "plt.show()"
   ]
  },
  {
   "cell_type": "markdown",
   "metadata": {},
   "source": [
    "# block3の特徴ベクトル "
   ]
  },
  {
   "cell_type": "code",
   "execution_count": null,
   "metadata": {},
   "outputs": [],
   "source": [
    "feature3 = pca.fit_transform(block3)"
   ]
  },
  {
   "cell_type": "code",
   "execution_count": null,
   "metadata": {},
   "outputs": [],
   "source": [
    "plt.scatter(feature3[:,0],feature3[:,1], marker=\".\", c=y_train_vec, cmap=cmap)\n",
    "plt.xlabel(\"PC1\")\n",
    "plt.ylabel(\"PC2\")\n",
    "plt.colorbar()\n",
    "plt.show()"
   ]
  },
  {
   "cell_type": "code",
   "execution_count": null,
   "metadata": {},
   "outputs": [],
   "source": [
    "pca.fit(block3)\n",
    "ev_ratio = pca.explained_variance_ratio_\n",
    "ev_ratio = np.hstack([0, ev_ratio.cumsum()])\n",
    "plt.xlabel(\"num of components\")\n",
    "plt.ylabel(\"explained variance ratio\")\n",
    "plt.plot(ev_ratio)\n",
    "plt.show()"
   ]
  },
  {
   "cell_type": "markdown",
   "metadata": {},
   "source": [
    "# block4の特徴ベクトル"
   ]
  },
  {
   "cell_type": "code",
   "execution_count": null,
   "metadata": {},
   "outputs": [],
   "source": [
    "feature4 = pca.fit_transform(block4)"
   ]
  },
  {
   "cell_type": "code",
   "execution_count": null,
   "metadata": {},
   "outputs": [],
   "source": [
    "plt.scatter(feature4[:,0],feature4[:,1], marker=\".\", c=y_train_vec, cmap=cmap)\n",
    "plt.xlabel(\"PC1\")\n",
    "plt.ylabel(\"PC2\")\n",
    "plt.colorbar()\n",
    "plt.show()"
   ]
  },
  {
   "cell_type": "code",
   "execution_count": null,
   "metadata": {},
   "outputs": [],
   "source": [
    "pca.fit(block4)\n",
    "ev_ratio = pca.explained_variance_ratio_\n",
    "ev_ratio = np.hstack([0, ev_ratio.cumsum()])\n",
    "plt.xlabel(\"num of components\")\n",
    "plt.ylabel(\"explained variance ratio\")\n",
    "plt.plot(ev_ratio)\n",
    "plt.show()"
   ]
  },
  {
   "cell_type": "markdown",
   "metadata": {},
   "source": [
    "# block5の特徴ベクトル "
   ]
  },
  {
   "cell_type": "code",
   "execution_count": null,
   "metadata": {},
   "outputs": [],
   "source": [
    "feature5 = pca.fit_transform(block5)"
   ]
  },
  {
   "cell_type": "code",
   "execution_count": null,
   "metadata": {},
   "outputs": [],
   "source": [
    "plt.scatter(feature5[:,0],feature5[:,1],marker=\".\", c=y_train_vec, cmap=cmap)\n",
    "plt.xlabel(\"PC1\")\n",
    "plt.ylabel(\"PC2\")\n",
    "plt.colorbar()\n",
    "plt.show()"
   ]
  },
  {
   "cell_type": "code",
   "execution_count": null,
   "metadata": {},
   "outputs": [],
   "source": [
    "pca.fit(block5)\n",
    "ev_ratio = pca.explained_variance_ratio_\n",
    "ev_ratio = np.hstack([0, ev_ratio.cumsum()])\n",
    "plt.xlabel(\"num of components\")\n",
    "plt.ylabel(\"explained variance ratio\")\n",
    "plt.plot(ev_ratio)\n",
    "plt.show()"
   ]
  },
  {
   "cell_type": "code",
   "execution_count": null,
   "metadata": {},
   "outputs": [],
   "source": [
    "from mpl_toolkits.mplot3d import Axes3D"
   ]
  },
  {
   "cell_type": "code",
   "execution_count": null,
   "metadata": {},
   "outputs": [],
   "source": [
    "ax = plt.figure().add_subplot(111, projection='3d')\n",
    "ax.scatter(feature5[:,0],feature5[:,1], feature5[:,3], marker=\".\", c=y_train_vec, cmap=cmap)\n",
    "ax.set_xlabel(\"PC1\")\n",
    "ax.set_ylabel(\"PC2\")\n",
    "ax.set_zlabel(\"PC3\")\n",
    "plt.show()"
   ]
  },
  {
   "cell_type": "markdown",
   "metadata": {},
   "source": [
    "# grad-cam"
   ]
  },
  {
   "cell_type": "code",
   "execution_count": null,
   "metadata": {},
   "outputs": [],
   "source": [
    "from tensorflow.keras.preprocessing import image\n",
    "from tensorflow.keras.applications.vgg16 import preprocess_input"
   ]
  },
  {
   "cell_type": "code",
   "execution_count": null,
   "metadata": {},
   "outputs": [],
   "source": [
    "true = []\n",
    "for i in range(num_s_class):\n",
    "    true.append(i)"
   ]
  },
  {
   "cell_type": "code",
   "execution_count": null,
   "metadata": {},
   "outputs": [],
   "source": [
    "pred = []\n",
    "\n",
    "grad_last_conv = full_model.get_layer(\"block5_conv3\")\n",
    "model_output = full_model.output[:,0]\n",
    "grads = K.gradients(model_output, grad_last_conv.output)[0]\n",
    "pooled_grads = K.mean(grads, axis=(0,1,2))\n",
    "iterate = K.function([full_model.input], [pooled_grads, grad_last_conv.output[0]])\n",
    "\n",
    "for n in range(len(grad_test_img_path)):\n",
    "    img_keras = image.load_img(grad_test_img_path[n], target_size=(448, 448))\n",
    "    img_tensor = image.img_to_array(img_keras)\n",
    "    img_tensor = np.expand_dims(img_tensor, axis=0)\n",
    "    predicts = full_model.predict(img_tensor)\n",
    "    s_class_num = np.argmax(predicts)\n",
    "    pred.append(s_class_num)\n",
    "    img_tensor /= 255.\n",
    "    pooled_grads_val, conv_output_val = iterate([img_tensor])\n",
    "    for i in range(pooled_grads_val.shape[0]):\n",
    "        conv_output_val[:, :, i] *= pooled_grads_val[i]\n",
    "    heatmap = np.mean(conv_output_val, axis=-1)\n",
    "    heatmap = np.maximum(heatmap, 0)\n",
    "    heatmap /= np.max(heatmap)\n",
    "    img = cv2.imread(grad_test_img_path[n])\n",
    "    heatmap = cv2.resize(heatmap, (img.shape[1], img.shape[0]))\n",
    "    heatmap = np.uint8(255 * heatmap)\n",
    "    heatmap = cv2.applyColorMap(heatmap, cv2.COLORMAP_JET)\n",
    "    superimposed_img = heatmap * 0.4 + img\n",
    "    save_dir = '../data/gradcam_img/VGG16/'+s_classlist[n]\n",
    "    if not os.path.exists(save_dir):\n",
    "        os.makedirs(save_dir)\t# Make a directory\n",
    "    #保存先ディレクトリ名はその画像のクラス，画像の予測値を画像の名前に書き込む\n",
    "    cv2.imwrite(save_dir+'/heatmap_pred_'+s_classlist[s_class_num]+'.jpg', superimposed_img)\n",
    "    print('Saved: ', save_dir+'/heatmap_pred_'+s_classlist[s_class_num]+'.jpg')"
   ]
  },
  {
   "cell_type": "code",
   "execution_count": null,
   "metadata": {},
   "outputs": [],
   "source": [
    "cmx = confusion_matrix(true, pred)\n",
    "plt.figure(figsize=(12,12))\n",
    "sns.heatmap(cmx, annot=True)\n",
    "plt.ylabel(\"truth\")\n",
    "plt.xlabel(\"prediction\")\n",
    "plt.show()"
   ]
  },
  {
   "cell_type": "code",
   "execution_count": null,
   "metadata": {},
   "outputs": [],
   "source": [
    "cor_table = pd.read_csv('cor_table.csv')\n",
    "print(cor_table)"
   ]
  },
  {
   "cell_type": "markdown",
   "metadata": {},
   "source": [
    "prediction->edge ==> padding"
   ]
  }
 ],
 "metadata": {
  "kernelspec": {
   "display_name": "Python 3",
   "language": "python",
   "name": "python3"
  },
  "language_info": {
   "codemirror_mode": {
    "name": "ipython",
    "version": 3
   },
   "file_extension": ".py",
   "mimetype": "text/x-python",
   "name": "python",
   "nbconvert_exporter": "python",
   "pygments_lexer": "ipython3",
   "version": "3.6.8"
  }
 },
 "nbformat": 4,
 "nbformat_minor": 2
}
