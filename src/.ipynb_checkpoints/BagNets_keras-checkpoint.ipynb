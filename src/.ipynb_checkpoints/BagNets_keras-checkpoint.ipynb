{
 "cells": [
  {
   "cell_type": "code",
   "execution_count": 1,
   "metadata": {},
   "outputs": [
    {
     "name": "stderr",
     "output_type": "stream",
     "text": [
      "/usr/local/lib/python3.6/dist-packages/tensorflow/python/framework/dtypes.py:526: FutureWarning: Passing (type, 1) or '1type' as a synonym of type is deprecated; in a future version of numpy, it will be understood as (type, (1,)) / '(1,)type'.\n",
      "  _np_qint8 = np.dtype([(\"qint8\", np.int8, 1)])\n",
      "/usr/local/lib/python3.6/dist-packages/tensorflow/python/framework/dtypes.py:527: FutureWarning: Passing (type, 1) or '1type' as a synonym of type is deprecated; in a future version of numpy, it will be understood as (type, (1,)) / '(1,)type'.\n",
      "  _np_quint8 = np.dtype([(\"quint8\", np.uint8, 1)])\n",
      "/usr/local/lib/python3.6/dist-packages/tensorflow/python/framework/dtypes.py:528: FutureWarning: Passing (type, 1) or '1type' as a synonym of type is deprecated; in a future version of numpy, it will be understood as (type, (1,)) / '(1,)type'.\n",
      "  _np_qint16 = np.dtype([(\"qint16\", np.int16, 1)])\n",
      "/usr/local/lib/python3.6/dist-packages/tensorflow/python/framework/dtypes.py:529: FutureWarning: Passing (type, 1) or '1type' as a synonym of type is deprecated; in a future version of numpy, it will be understood as (type, (1,)) / '(1,)type'.\n",
      "  _np_quint16 = np.dtype([(\"quint16\", np.uint16, 1)])\n",
      "/usr/local/lib/python3.6/dist-packages/tensorflow/python/framework/dtypes.py:530: FutureWarning: Passing (type, 1) or '1type' as a synonym of type is deprecated; in a future version of numpy, it will be understood as (type, (1,)) / '(1,)type'.\n",
      "  _np_qint32 = np.dtype([(\"qint32\", np.int32, 1)])\n",
      "/usr/local/lib/python3.6/dist-packages/tensorflow/python/framework/dtypes.py:535: FutureWarning: Passing (type, 1) or '1type' as a synonym of type is deprecated; in a future version of numpy, it will be understood as (type, (1,)) / '(1,)type'.\n",
      "  np_resource = np.dtype([(\"resource\", np.ubyte, 1)])\n"
     ]
    }
   ],
   "source": [
    "import tensorflow as tf\n",
    "from tensorflow import keras\n",
    "from tensorflow.keras import backend as K\n",
    "import numpy as np\n",
    "import matplotlib.pyplot as plt\n",
    "import pandas as pd\n",
    "import sklearn\n",
    "import random as rn\n",
    "import csv\n",
    "import os\n",
    "import cv2\n",
    "from PIL import Image\n",
    "from tensorflow.keras.preprocessing.image import ImageDataGenerator\n",
    "from tensorflow.keras.preprocessing.image import img_to_array, load_img"
   ]
  },
  {
   "cell_type": "code",
   "execution_count": 2,
   "metadata": {},
   "outputs": [],
   "source": [
    "# tensorflowの乱数シード固定(再現性の担保)\n",
    "os.environ['PYTHONHASHSEED'] = '0'\n",
    "np.random.seed(7)\n",
    "rn.seed(7)\n",
    "\n",
    "session_conf = tf.ConfigProto(\n",
    "    intra_op_parallelism_threads=1,\n",
    "    inter_op_parallelism_threads=1\n",
    ")\n",
    "\n",
    "tf.set_random_seed(7)\n",
    "sess = tf.Session(graph=tf.get_default_graph(), config=session_conf)\n",
    "K.set_session(sess)"
   ]
  },
  {
   "cell_type": "code",
   "execution_count": 3,
   "metadata": {},
   "outputs": [],
   "source": [
    "batch_size = 32\n",
    "n_epochs = 50"
   ]
  },
  {
   "cell_type": "markdown",
   "metadata": {},
   "source": [
    "# 画像データ取り込み\n"
   ]
  },
  {
   "cell_type": "code",
   "execution_count": 4,
   "metadata": {},
   "outputs": [
    {
     "data": {
      "text/html": [
       "<div>\n",
       "<style scoped>\n",
       "    .dataframe tbody tr th:only-of-type {\n",
       "        vertical-align: middle;\n",
       "    }\n",
       "\n",
       "    .dataframe tbody tr th {\n",
       "        vertical-align: top;\n",
       "    }\n",
       "\n",
       "    .dataframe thead th {\n",
       "        text-align: right;\n",
       "    }\n",
       "</style>\n",
       "<table border=\"1\" class=\"dataframe\">\n",
       "  <thead>\n",
       "    <tr style=\"text-align: right;\">\n",
       "      <th></th>\n",
       "      <th>img_path</th>\n",
       "      <th>l_class</th>\n",
       "      <th>s_class</th>\n",
       "      <th>timestamp</th>\n",
       "    </tr>\n",
       "  </thead>\n",
       "  <tbody>\n",
       "    <tr>\n",
       "      <th>0</th>\n",
       "      <td>/home/tamaru/scene_categorize/main/data/insta_...</td>\n",
       "      <td>5gokan-denkisogokan</td>\n",
       "      <td>5gokan-denkisogokan</td>\n",
       "      <td>NaN</td>\n",
       "    </tr>\n",
       "    <tr>\n",
       "      <th>1</th>\n",
       "      <td>/home/tamaru/scene_categorize/main/data/insta_...</td>\n",
       "      <td>5gokan-denkisogokan</td>\n",
       "      <td>5gokan-denkisogokan</td>\n",
       "      <td>NaN</td>\n",
       "    </tr>\n",
       "    <tr>\n",
       "      <th>2</th>\n",
       "      <td>/home/tamaru/scene_categorize/main/data/insta_...</td>\n",
       "      <td>5gokan-denkisogokan</td>\n",
       "      <td>5gokan-denkisogokan</td>\n",
       "      <td>NaN</td>\n",
       "    </tr>\n",
       "    <tr>\n",
       "      <th>3</th>\n",
       "      <td>/home/tamaru/scene_categorize/main/data/insta_...</td>\n",
       "      <td>5gokan-denkisogokan</td>\n",
       "      <td>5gokan-denkisogokan</td>\n",
       "      <td>NaN</td>\n",
       "    </tr>\n",
       "    <tr>\n",
       "      <th>4</th>\n",
       "      <td>/home/tamaru/scene_categorize/main/data/insta_...</td>\n",
       "      <td>5gokan-denkisogokan</td>\n",
       "      <td>5gokan-denkisogokan</td>\n",
       "      <td>NaN</td>\n",
       "    </tr>\n",
       "  </tbody>\n",
       "</table>\n",
       "</div>"
      ],
      "text/plain": [
       "                                            img_path              l_class  \\\n",
       "0  /home/tamaru/scene_categorize/main/data/insta_...  5gokan-denkisogokan   \n",
       "1  /home/tamaru/scene_categorize/main/data/insta_...  5gokan-denkisogokan   \n",
       "2  /home/tamaru/scene_categorize/main/data/insta_...  5gokan-denkisogokan   \n",
       "3  /home/tamaru/scene_categorize/main/data/insta_...  5gokan-denkisogokan   \n",
       "4  /home/tamaru/scene_categorize/main/data/insta_...  5gokan-denkisogokan   \n",
       "\n",
       "               s_class  timestamp  \n",
       "0  5gokan-denkisogokan        NaN  \n",
       "1  5gokan-denkisogokan        NaN  \n",
       "2  5gokan-denkisogokan        NaN  \n",
       "3  5gokan-denkisogokan        NaN  \n",
       "4  5gokan-denkisogokan        NaN  "
      ]
     },
     "execution_count": 4,
     "metadata": {},
     "output_type": "execute_result"
    }
   ],
   "source": [
    "DATA_FOLDER = '../data/'\n",
    "datalist = pd.read_csv(os.path.join(DATA_FOLDER, 'frames_data.csv'), names=[\"img_path\", \"l_class\", 's_class','timestamp'])\n",
    "datalist.head()"
   ]
  },
  {
   "cell_type": "code",
   "execution_count": 6,
   "metadata": {},
   "outputs": [
    {
     "name": "stdout",
     "output_type": "stream",
     "text": [
      "34\n"
     ]
    }
   ],
   "source": [
    "print(num_s_class)"
   ]
  },
  {
   "cell_type": "code",
   "execution_count": 7,
   "metadata": {},
   "outputs": [
    {
     "data": {
      "text/html": [
       "<div>\n",
       "<style scoped>\n",
       "    .dataframe tbody tr th:only-of-type {\n",
       "        vertical-align: middle;\n",
       "    }\n",
       "\n",
       "    .dataframe tbody tr th {\n",
       "        vertical-align: top;\n",
       "    }\n",
       "\n",
       "    .dataframe thead th {\n",
       "        text-align: right;\n",
       "    }\n",
       "</style>\n",
       "<table border=\"1\" class=\"dataframe\">\n",
       "  <thead>\n",
       "    <tr style=\"text-align: right;\">\n",
       "      <th></th>\n",
       "      <th>img_path</th>\n",
       "      <th>l_class</th>\n",
       "    </tr>\n",
       "  </thead>\n",
       "  <tbody>\n",
       "    <tr>\n",
       "      <th>0</th>\n",
       "      <td>/home/tamaru/scene_categorize/main/data/insta_...</td>\n",
       "      <td>5gokan-denkisogokan</td>\n",
       "    </tr>\n",
       "    <tr>\n",
       "      <th>1</th>\n",
       "      <td>/home/tamaru/scene_categorize/main/data/insta_...</td>\n",
       "      <td>5gokan-denkisogokan</td>\n",
       "    </tr>\n",
       "    <tr>\n",
       "      <th>2</th>\n",
       "      <td>/home/tamaru/scene_categorize/main/data/insta_...</td>\n",
       "      <td>5gokan-denkisogokan</td>\n",
       "    </tr>\n",
       "    <tr>\n",
       "      <th>3</th>\n",
       "      <td>/home/tamaru/scene_categorize/main/data/insta_...</td>\n",
       "      <td>5gokan-denkisogokan</td>\n",
       "    </tr>\n",
       "    <tr>\n",
       "      <th>4</th>\n",
       "      <td>/home/tamaru/scene_categorize/main/data/insta_...</td>\n",
       "      <td>5gokan-denkisogokan</td>\n",
       "    </tr>\n",
       "  </tbody>\n",
       "</table>\n",
       "</div>"
      ],
      "text/plain": [
       "                                            img_path              l_class\n",
       "0  /home/tamaru/scene_categorize/main/data/insta_...  5gokan-denkisogokan\n",
       "1  /home/tamaru/scene_categorize/main/data/insta_...  5gokan-denkisogokan\n",
       "2  /home/tamaru/scene_categorize/main/data/insta_...  5gokan-denkisogokan\n",
       "3  /home/tamaru/scene_categorize/main/data/insta_...  5gokan-denkisogokan\n",
       "4  /home/tamaru/scene_categorize/main/data/insta_...  5gokan-denkisogokan"
      ]
     },
     "execution_count": 7,
     "metadata": {},
     "output_type": "execute_result"
    }
   ],
   "source": [
    "dfl = datalist.drop(['s_class','timestamp'], axis=1)\n",
    "dfl.head()"
   ]
  },
  {
   "cell_type": "code",
   "execution_count": 8,
   "metadata": {},
   "outputs": [
    {
     "data": {
      "text/html": [
       "<div>\n",
       "<style scoped>\n",
       "    .dataframe tbody tr th:only-of-type {\n",
       "        vertical-align: middle;\n",
       "    }\n",
       "\n",
       "    .dataframe tbody tr th {\n",
       "        vertical-align: top;\n",
       "    }\n",
       "\n",
       "    .dataframe thead th {\n",
       "        text-align: right;\n",
       "    }\n",
       "</style>\n",
       "<table border=\"1\" class=\"dataframe\">\n",
       "  <thead>\n",
       "    <tr style=\"text-align: right;\">\n",
       "      <th></th>\n",
       "      <th>img_path</th>\n",
       "    </tr>\n",
       "    <tr>\n",
       "      <th>l_class</th>\n",
       "      <th></th>\n",
       "    </tr>\n",
       "  </thead>\n",
       "  <tbody>\n",
       "    <tr>\n",
       "      <th>4gokan</th>\n",
       "      <td>1058</td>\n",
       "    </tr>\n",
       "    <tr>\n",
       "      <th>5gokan</th>\n",
       "      <td>2918</td>\n",
       "    </tr>\n",
       "    <tr>\n",
       "      <th>5gokan-denkisogokan</th>\n",
       "      <td>361</td>\n",
       "    </tr>\n",
       "    <tr>\n",
       "      <th>5gokan-mediacenter</th>\n",
       "      <td>127</td>\n",
       "    </tr>\n",
       "    <tr>\n",
       "      <th>8gokan</th>\n",
       "      <td>1880</td>\n",
       "    </tr>\n",
       "    <tr>\n",
       "      <th>denkisogokan</th>\n",
       "      <td>523</td>\n",
       "    </tr>\n",
       "    <tr>\n",
       "      <th>lab</th>\n",
       "      <td>1816</td>\n",
       "    </tr>\n",
       "    <tr>\n",
       "      <th>lounge</th>\n",
       "      <td>247</td>\n",
       "    </tr>\n",
       "  </tbody>\n",
       "</table>\n",
       "</div>"
      ],
      "text/plain": [
       "                     img_path\n",
       "l_class                      \n",
       "4gokan                   1058\n",
       "5gokan                   2918\n",
       "5gokan-denkisogokan       361\n",
       "5gokan-mediacenter        127\n",
       "8gokan                   1880\n",
       "denkisogokan              523\n",
       "lab                      1816\n",
       "lounge                    247"
      ]
     },
     "execution_count": 8,
     "metadata": {},
     "output_type": "execute_result"
    }
   ],
   "source": [
    "dfl.groupby('l_class').count()"
   ]
  },
  {
   "cell_type": "code",
   "execution_count": 9,
   "metadata": {},
   "outputs": [
    {
     "data": {
      "text/html": [
       "<div>\n",
       "<style scoped>\n",
       "    .dataframe tbody tr th:only-of-type {\n",
       "        vertical-align: middle;\n",
       "    }\n",
       "\n",
       "    .dataframe tbody tr th {\n",
       "        vertical-align: top;\n",
       "    }\n",
       "\n",
       "    .dataframe thead th {\n",
       "        text-align: right;\n",
       "    }\n",
       "</style>\n",
       "<table border=\"1\" class=\"dataframe\">\n",
       "  <thead>\n",
       "    <tr style=\"text-align: right;\">\n",
       "      <th></th>\n",
       "      <th>img_path</th>\n",
       "    </tr>\n",
       "    <tr>\n",
       "      <th>s_class</th>\n",
       "      <th></th>\n",
       "    </tr>\n",
       "  </thead>\n",
       "  <tbody>\n",
       "    <tr>\n",
       "      <th>4gokan_inside</th>\n",
       "      <td>42</td>\n",
       "    </tr>\n",
       "    <tr>\n",
       "      <th>4gokan_outside_east</th>\n",
       "      <td>18</td>\n",
       "    </tr>\n",
       "    <tr>\n",
       "      <th>4gokan_outside_west</th>\n",
       "      <td>248</td>\n",
       "    </tr>\n",
       "    <tr>\n",
       "      <th>4gokan_stairs</th>\n",
       "      <td>750</td>\n",
       "    </tr>\n",
       "    <tr>\n",
       "      <th>5gokan-denkisogokan</th>\n",
       "      <td>361</td>\n",
       "    </tr>\n",
       "    <tr>\n",
       "      <th>5gokan-mediacenter</th>\n",
       "      <td>127</td>\n",
       "    </tr>\n",
       "    <tr>\n",
       "      <th>5gokan_1F</th>\n",
       "      <td>65</td>\n",
       "    </tr>\n",
       "    <tr>\n",
       "      <th>5gokan_2F</th>\n",
       "      <td>96</td>\n",
       "    </tr>\n",
       "    <tr>\n",
       "      <th>5gokan_3F</th>\n",
       "      <td>32</td>\n",
       "    </tr>\n",
       "    <tr>\n",
       "      <th>5gokan_ent_east</th>\n",
       "      <td>135</td>\n",
       "    </tr>\n",
       "    <tr>\n",
       "      <th>5gokan_lounge</th>\n",
       "      <td>361</td>\n",
       "    </tr>\n",
       "    <tr>\n",
       "      <th>5gokan_out_east</th>\n",
       "      <td>99</td>\n",
       "    </tr>\n",
       "    <tr>\n",
       "      <th>5gokan_parking</th>\n",
       "      <td>251</td>\n",
       "    </tr>\n",
       "    <tr>\n",
       "      <th>5gokan_smoking</th>\n",
       "      <td>65</td>\n",
       "    </tr>\n",
       "    <tr>\n",
       "      <th>5gokan_stairs_east</th>\n",
       "      <td>948</td>\n",
       "    </tr>\n",
       "    <tr>\n",
       "      <th>5gokan_stairs_west</th>\n",
       "      <td>866</td>\n",
       "    </tr>\n",
       "    <tr>\n",
       "      <th>8gokan_1F</th>\n",
       "      <td>208</td>\n",
       "    </tr>\n",
       "    <tr>\n",
       "      <th>8gokan_ent_north</th>\n",
       "      <td>26</td>\n",
       "    </tr>\n",
       "    <tr>\n",
       "      <th>8gokan_ent_south</th>\n",
       "      <td>32</td>\n",
       "    </tr>\n",
       "    <tr>\n",
       "      <th>8gokan_stairs_cnt</th>\n",
       "      <td>839</td>\n",
       "    </tr>\n",
       "    <tr>\n",
       "      <th>8gokan_stairs_east</th>\n",
       "      <td>775</td>\n",
       "    </tr>\n",
       "    <tr>\n",
       "      <th>denkisogokan_2F</th>\n",
       "      <td>120</td>\n",
       "    </tr>\n",
       "    <tr>\n",
       "      <th>denkisogokan_3F</th>\n",
       "      <td>33</td>\n",
       "    </tr>\n",
       "    <tr>\n",
       "      <th>denkisogokan_4F</th>\n",
       "      <td>31</td>\n",
       "    </tr>\n",
       "    <tr>\n",
       "      <th>denkisogokan_elevator</th>\n",
       "      <td>30</td>\n",
       "    </tr>\n",
       "    <tr>\n",
       "      <th>denkisogokan_lounge</th>\n",
       "      <td>198</td>\n",
       "    </tr>\n",
       "    <tr>\n",
       "      <th>denkisogokan_stairs</th>\n",
       "      <td>111</td>\n",
       "    </tr>\n",
       "    <tr>\n",
       "      <th>lab_bs_cnt</th>\n",
       "      <td>35</td>\n",
       "    </tr>\n",
       "    <tr>\n",
       "      <th>lab_corner</th>\n",
       "      <td>58</td>\n",
       "    </tr>\n",
       "    <tr>\n",
       "      <th>lab_desk</th>\n",
       "      <td>813</td>\n",
       "    </tr>\n",
       "    <tr>\n",
       "      <th>lab_ent</th>\n",
       "      <td>30</td>\n",
       "    </tr>\n",
       "    <tr>\n",
       "      <th>lab_printer</th>\n",
       "      <td>31</td>\n",
       "    </tr>\n",
       "    <tr>\n",
       "      <th>lab_table</th>\n",
       "      <td>755</td>\n",
       "    </tr>\n",
       "    <tr>\n",
       "      <th>lab_wb_cnt</th>\n",
       "      <td>31</td>\n",
       "    </tr>\n",
       "    <tr>\n",
       "      <th>lab_wb_ent</th>\n",
       "      <td>63</td>\n",
       "    </tr>\n",
       "    <tr>\n",
       "      <th>lounge</th>\n",
       "      <td>247</td>\n",
       "    </tr>\n",
       "  </tbody>\n",
       "</table>\n",
       "</div>"
      ],
      "text/plain": [
       "                       img_path\n",
       "s_class                        \n",
       "4gokan_inside                42\n",
       "4gokan_outside_east          18\n",
       "4gokan_outside_west         248\n",
       "4gokan_stairs               750\n",
       "5gokan-denkisogokan         361\n",
       "5gokan-mediacenter          127\n",
       "5gokan_1F                    65\n",
       "5gokan_2F                    96\n",
       "5gokan_3F                    32\n",
       "5gokan_ent_east             135\n",
       "5gokan_lounge               361\n",
       "5gokan_out_east              99\n",
       "5gokan_parking              251\n",
       "5gokan_smoking               65\n",
       "5gokan_stairs_east          948\n",
       "5gokan_stairs_west          866\n",
       "8gokan_1F                   208\n",
       "8gokan_ent_north             26\n",
       "8gokan_ent_south             32\n",
       "8gokan_stairs_cnt           839\n",
       "8gokan_stairs_east          775\n",
       "denkisogokan_2F             120\n",
       "denkisogokan_3F              33\n",
       "denkisogokan_4F              31\n",
       "denkisogokan_elevator        30\n",
       "denkisogokan_lounge         198\n",
       "denkisogokan_stairs         111\n",
       "lab_bs_cnt                   35\n",
       "lab_corner                   58\n",
       "lab_desk                    813\n",
       "lab_ent                      30\n",
       "lab_printer                  31\n",
       "lab_table                   755\n",
       "lab_wb_cnt                   31\n",
       "lab_wb_ent                   63\n",
       "lounge                      247"
      ]
     },
     "execution_count": 9,
     "metadata": {},
     "output_type": "execute_result"
    }
   ],
   "source": [
    "dfs = datalist.drop(['l_class', 'timestamp'], axis=1)\n",
    "dfs.groupby('s_class').count()"
   ]
  },
  {
   "cell_type": "code",
   "execution_count": 10,
   "metadata": {},
   "outputs": [
    {
     "data": {
      "text/plain": [
       "8930"
      ]
     },
     "execution_count": 10,
     "metadata": {},
     "output_type": "execute_result"
    }
   ],
   "source": [
    "dfs.img_path.count()"
   ]
  },
  {
   "cell_type": "markdown",
   "metadata": {},
   "source": [
    "# Markdown\n",
    "from sklearn.preprocessing import LabelEncoder"
   ]
  },
  {
   "cell_type": "markdown",
   "metadata": {},
   "source": [
    "# Markdown\n",
    "le = LabelEncoder()\n",
    "le.fit(dfs.s_class)\n",
    "dfs[\"labels\"] = le.transform(dfs.s_class)\n",
    "dfs.groupby('labels')"
   ]
  },
  {
   "cell_type": "markdown",
   "metadata": {},
   "source": [
    "# Markdown\n",
    "cor_table = dfs.groupby('labels').s_class.unique()\n",
    "cor_table = pd.DataFrame(cor_table)\n",
    "cor_table.head()"
   ]
  },
  {
   "cell_type": "markdown",
   "metadata": {},
   "source": [
    "# Markdown\n",
    "cor_table.to_csv('cor_table.csv', index=False)"
   ]
  },
  {
   "cell_type": "markdown",
   "metadata": {},
   "source": [
    "# Markdown\n",
    "dfs = dfs.drop(['s_class'], axis=1)"
   ]
  },
  {
   "cell_type": "markdown",
   "metadata": {},
   "source": [
    "# Markdown\n",
    "x = []\n",
    "for i in range(len(dfs.img_path)):\n",
    "    image = img_to_array(load_img(dfs.img_path[i], target_size=(224,224)))\n",
    "    x.append(image)"
   ]
  },
  {
   "cell_type": "markdown",
   "metadata": {},
   "source": [
    "# Markdown\n",
    "y = dfs.labels\n",
    "print(y)"
   ]
  },
  {
   "cell_type": "markdown",
   "metadata": {},
   "source": [
    "# Markdown\n",
    "#正規化\n",
    "x = np.array(x, dtype='float32')/255"
   ]
  },
  {
   "cell_type": "markdown",
   "metadata": {},
   "source": [
    "# Markdown\n",
    "#np.array形式のデータを保存　x, y\n",
    "np.save(file='x.npy', arr=x)\n",
    "np.save(file='y.npy', arr=y)"
   ]
  },
  {
   "cell_type": "code",
   "execution_count": 13,
   "metadata": {},
   "outputs": [],
   "source": [
    "#x, yをload\n",
    "x = np.load(file='x.npy')\n",
    "y = np.load(file='y.npy')"
   ]
  },
  {
   "cell_type": "markdown",
   "metadata": {},
   "source": [
    "画像データを入力の形で保存しておく"
   ]
  },
  {
   "cell_type": "code",
   "execution_count": 14,
   "metadata": {},
   "outputs": [
    {
     "name": "stdout",
     "output_type": "stream",
     "text": [
      "(5176, 224, 224, 3)\n",
      "(5176,)\n"
     ]
    }
   ],
   "source": [
    "print(x.shape)\n",
    "print(y.shape)"
   ]
  },
  {
   "cell_type": "markdown",
   "metadata": {},
   "source": [
    "# train test & validation set split"
   ]
  },
  {
   "cell_type": "code",
   "execution_count": 15,
   "metadata": {},
   "outputs": [],
   "source": [
    "from sklearn.model_selection import train_test_split"
   ]
  },
  {
   "cell_type": "code",
   "execution_count": 16,
   "metadata": {},
   "outputs": [],
   "source": [
    "x, x_valid, y, y_valid = train_test_split(x,y, random_state=42, test_size=0.2, stratify=y)"
   ]
  },
  {
   "cell_type": "markdown",
   "metadata": {},
   "source": [
    "# EDA(探索的データ解析)\n"
   ]
  },
  {
   "cell_type": "code",
   "execution_count": 17,
   "metadata": {},
   "outputs": [
    {
     "data": {
      "image/png": "[encoded data removed]",
      "text/plain": [
       "<Figure size 648x1296 with 5 Axes>"
      ]
     },
     "metadata": {},
     "output_type": "display_data"
    }
   ],
   "source": [
    "fig = plt.figure(figsize=(9,18))\n",
    "fig.subplots_adjust(left=0, right=1, bottom=0, top=0.5, hspace=0.05, wspace=0.05)\n",
    "for i in range(5):\n",
    "    ax = fig.add_subplot(1, 5, i+1, xticks=[], yticks=[])\n",
    "    ax.imshow(x[i])"
   ]
  },
  {
   "cell_type": "markdown",
   "metadata": {},
   "source": [
    "# BagNets17　Using VGG16"
   ]
  },
  {
   "cell_type": "code",
   "execution_count": 18,
   "metadata": {},
   "outputs": [],
   "source": [
    "from tensorflow.keras.layers import Input, Dense, Conv2D, MaxPooling2D, Flatten, Activation, add, Add, Dropout, BatchNormalization, GlobalMaxPooling2D\n",
    "from tensorflow.keras.models import Model\n",
    "from tensorflow.keras.models import load_model\n",
    "from tensorflow.keras.optimizers import Adam\n",
    "from tensorflow.keras.callbacks import EarlyStopping"
   ]
  },
  {
   "cell_type": "code",
   "execution_count": 19,
   "metadata": {},
   "outputs": [
    {
     "name": "stderr",
     "output_type": "stream",
     "text": [
      "Using TensorFlow backend.\n"
     ]
    }
   ],
   "source": [
    "import bagnets.kerasnet"
   ]
  },
  {
   "cell_type": "code",
   "execution_count": 20,
   "metadata": {},
   "outputs": [
    {
     "name": "stdout",
     "output_type": "stream",
     "text": [
      "WARNING:tensorflow:From /usr/local/lib/python3.6/dist-packages/tensorflow/python/ops/resource_variable_ops.py:435: colocate_with (from tensorflow.python.framework.ops) is deprecated and will be removed in a future version.\n",
      "Instructions for updating:\n",
      "Colocations handled automatically by placer.\n"
     ]
    },
    {
     "name": "stderr",
     "output_type": "stream",
     "text": [
      "/home/tamaru/.local/lib/python3.6/site-packages/keras/engine/saving.py:341: UserWarning: No training configuration found in save file: the model was *not* compiled. Compile it manually.\n",
      "  warnings.warn('No training configuration found in save file: '\n"
     ]
    }
   ],
   "source": [
    "vgg_model = bagnets.kerasnet.bagnet17()"
   ]
  },
  {
   "cell_type": "code",
   "execution_count": 21,
   "metadata": {},
   "outputs": [
    {
     "name": "stdout",
     "output_type": "stream",
     "text": [
      "Model: \"model_3\"\n",
      "__________________________________________________________________________________________________\n",
      "Layer (type)                    Output Shape         Param #     Connected to                     \n",
      "==================================================================================================\n",
      "input0 (InputLayer)             (None, 3, 224, 224)  0                                            \n",
      "__________________________________________________________________________________________________\n",
      "conv10.3928841898716997 (Conv2D (None, 64, 224, 224) 192         input0[0][0]                     \n",
      "__________________________________________________________________________________________________\n",
      "conv20.07009711159793364 (Conv2 (None, 64, 222, 222) 36864       conv10.3928841898716997[0][0]    \n",
      "__________________________________________________________________________________________________\n",
      "bn10.01234546713855944 (BatchNo (None, 64, 222, 222) 256         conv20.07009711159793364[0][0]   \n",
      "__________________________________________________________________________________________________\n",
      "relu0.48567638461055396 (Activa (None, 64, 222, 222) 0           bn10.01234546713855944[0][0]     \n",
      "__________________________________________________________________________________________________\n",
      "layer1.0.conv10.712867366577234 (None, 64, 222, 222) 4096        relu0.48567638461055396[0][0]    \n",
      "__________________________________________________________________________________________________\n",
      "layer1.0.bn10.8773174959999008  (None, 64, 222, 222) 256         layer1.0.conv10.7128673665772346[\n",
      "__________________________________________________________________________________________________\n",
      "layer1.0.relu0.5782642490203083 (None, 64, 222, 222) 0           layer1.0.bn10.8773174959999008[0]\n",
      "__________________________________________________________________________________________________\n",
      "layer1.0.conv20.492323432987129 (None, 64, 110, 110) 36864       layer1.0.relu0.5782642490203083[0\n",
      "__________________________________________________________________________________________________\n",
      "layer1.0.bn20.4155302638271462  (None, 64, 110, 110) 256         layer1.0.conv20.49232343298712966\n",
      "__________________________________________________________________________________________________\n",
      "layer1.0.downsample.00.11077355 (None, 256, 111, 111 16384       relu0.48567638461055396[0][0]    \n",
      "__________________________________________________________________________________________________\n",
      "layer1.0.relu0.2133461029476199 (None, 64, 110, 110) 0           layer1.0.bn20.4155302638271462[0]\n",
      "__________________________________________________________________________________________________\n",
      "layer1.0.downsample.10.31804391 (None, 256, 111, 111 1024        layer1.0.downsample.00.1107735585\n",
      "__________________________________________________________________________________________________\n",
      "layer1.0.conv30.185605306677419 (None, 256, 110, 110 16384       layer1.0.relu0.2133461029476199[0\n",
      "__________________________________________________________________________________________________\n",
      "lambda_5 (Lambda)               (None, 256, 110, 111 0           layer1.0.downsample.10.3180439102\n",
      "__________________________________________________________________________________________________\n",
      "layer1.0.bn30.6224709290139145  (None, 256, 110, 110 1024        layer1.0.conv30.1856053066774196[\n",
      "__________________________________________________________________________________________________\n",
      "lambda_6 (Lambda)               (None, 256, 110, 110 0           lambda_5[0][0]                   \n",
      "__________________________________________________________________________________________________\n",
      "layer1.00.2217989375403655 (Add (None, 256, 110, 110 0           layer1.0.bn30.6224709290139145[0]\n",
      "                                                                 lambda_6[0][0]                   \n",
      "__________________________________________________________________________________________________\n",
      "layer1.0.relu0.7356821813597658 (None, 256, 110, 110 0           layer1.00.2217989375403655[0][0] \n",
      "__________________________________________________________________________________________________\n",
      "layer1.1.conv10.162145440742064 (None, 64, 110, 110) 16384       layer1.0.relu0.7356821813597658[0\n",
      "__________________________________________________________________________________________________\n",
      "layer1.1.bn10.8797732652653311  (None, 64, 110, 110) 256         layer1.1.conv10.1621454407420646[\n",
      "__________________________________________________________________________________________________\n",
      "layer1.1.relu0.4959223294392736 (None, 64, 110, 110) 0           layer1.1.bn10.8797732652653311[0]\n",
      "__________________________________________________________________________________________________\n",
      "layer1.1.conv20.744497275667408 (None, 64, 110, 110) 4096        layer1.1.relu0.4959223294392736[0\n",
      "__________________________________________________________________________________________________\n",
      "layer1.1.bn20.39213767355099927 (None, 64, 110, 110) 256         layer1.1.conv20.7444972756674088[\n",
      "__________________________________________________________________________________________________\n",
      "layer1.1.relu0.9278944234917879 (None, 64, 110, 110) 0           layer1.1.bn20.39213767355099927[0\n",
      "__________________________________________________________________________________________________\n",
      "layer1.1.conv30.518429958041820 (None, 256, 110, 110 16384       layer1.1.relu0.9278944234917879[0\n",
      "__________________________________________________________________________________________________\n",
      "layer1.1.bn30.1687564566180625  (None, 256, 110, 110 1024        layer1.1.conv30.5184299580418203[\n",
      "__________________________________________________________________________________________________\n",
      "layer1.10.36715710735591456 (Ad (None, 256, 110, 110 0           layer1.1.bn30.1687564566180625[0]\n",
      "                                                                 layer1.0.relu0.7356821813597658[0\n",
      "__________________________________________________________________________________________________\n",
      "layer1.1.relu0.9260494843690406 (None, 256, 110, 110 0           layer1.10.36715710735591456[0][0]\n",
      "__________________________________________________________________________________________________\n",
      "layer1.2.conv10.001333106640514 (None, 64, 110, 110) 16384       layer1.1.relu0.9260494843690406[0\n",
      "__________________________________________________________________________________________________\n",
      "layer1.2.bn10.5423014705805734  (None, 64, 110, 110) 256         layer1.2.conv10.00133310664051478\n",
      "__________________________________________________________________________________________________\n",
      "layer1.2.relu0.2758540788767917 (None, 64, 110, 110) 0           layer1.2.bn10.5423014705805734[0]\n",
      "__________________________________________________________________________________________________\n",
      "layer1.2.conv20.088515973620607 (None, 64, 110, 110) 4096        layer1.2.relu0.2758540788767917[0\n",
      "__________________________________________________________________________________________________\n",
      "layer1.2.bn20.11518338812551188 (None, 64, 110, 110) 256         layer1.2.conv20.08851597362060792\n",
      "__________________________________________________________________________________________________\n",
      "layer1.2.relu0.8692795579700932 (None, 64, 110, 110) 0           layer1.2.bn20.11518338812551188[0\n",
      "__________________________________________________________________________________________________\n",
      "layer1.2.conv30.566326188478852 (None, 256, 110, 110 16384       layer1.2.relu0.8692795579700932[0\n",
      "__________________________________________________________________________________________________\n",
      "layer1.2.bn30.2544630502396259  (None, 256, 110, 110 1024        layer1.2.conv30.5663261884788525[\n",
      "__________________________________________________________________________________________________\n",
      "layer1.20.4235364778860886 (Add (None, 256, 110, 110 0           layer1.2.bn30.2544630502396259[0]\n",
      "                                                                 layer1.1.relu0.9260494843690406[0\n",
      "__________________________________________________________________________________________________\n",
      "layer1.2.relu0.2746248280411314 (None, 256, 110, 110 0           layer1.20.4235364778860886[0][0] \n",
      "__________________________________________________________________________________________________\n",
      "layer2.0.conv10.015103047878376 (None, 128, 110, 110 32768       layer1.2.relu0.2746248280411314[0\n",
      "__________________________________________________________________________________________________\n",
      "layer2.0.bn10.3072604056517729  (None, 128, 110, 110 512         layer2.0.conv10.01510304787837657\n",
      "__________________________________________________________________________________________________\n",
      "layer2.0.relu0.4789792777222086 (None, 128, 110, 110 0           layer2.0.bn10.3072604056517729[0]\n",
      "__________________________________________________________________________________________________\n",
      "layer2.0.conv20.477074322160649 (None, 128, 54, 54)  147456      layer2.0.relu0.4789792777222086[0\n",
      "__________________________________________________________________________________________________\n",
      "layer2.0.bn20.04133159183063351 (None, 128, 54, 54)  512         layer2.0.conv20.47707432216064916\n",
      "__________________________________________________________________________________________________\n",
      "layer2.0.downsample.00.22667477 (None, 512, 55, 55)  131072      layer1.2.relu0.2746248280411314[0\n",
      "__________________________________________________________________________________________________\n",
      "layer2.0.relu0.7398642679873914 (None, 128, 54, 54)  0           layer2.0.bn20.04133159183063351[0\n",
      "__________________________________________________________________________________________________\n",
      "layer2.0.downsample.10.84281172 (None, 512, 55, 55)  2048        layer2.0.downsample.00.2266747760\n",
      "__________________________________________________________________________________________________\n",
      "layer2.0.conv30.970683046580134 (None, 512, 54, 54)  65536       layer2.0.relu0.7398642679873914[0\n",
      "__________________________________________________________________________________________________\n",
      "lambda_7 (Lambda)               (None, 512, 54, 55)  0           layer2.0.downsample.10.8428117297\n",
      "__________________________________________________________________________________________________\n",
      "layer2.0.bn30.04094038888892470 (None, 512, 54, 54)  2048        layer2.0.conv30.9706830465801343[\n",
      "__________________________________________________________________________________________________\n",
      "lambda_8 (Lambda)               (None, 512, 54, 54)  0           lambda_7[0][0]                   \n",
      "__________________________________________________________________________________________________\n",
      "layer2.00.7593343857298653 (Add (None, 512, 54, 54)  0           layer2.0.bn30.040940388888924706[\n",
      "                                                                 lambda_8[0][0]                   \n",
      "__________________________________________________________________________________________________\n",
      "layer2.0.relu0.0553295090925057 (None, 512, 54, 54)  0           layer2.00.7593343857298653[0][0] \n",
      "__________________________________________________________________________________________________\n",
      "layer2.1.conv10.877518639654902 (None, 128, 54, 54)  65536       layer2.0.relu0.05532950909250578[\n",
      "__________________________________________________________________________________________________\n",
      "layer2.1.bn10.538091178153618 ( (None, 128, 54, 54)  512         layer2.1.conv10.8775186396549026[\n",
      "__________________________________________________________________________________________________\n",
      "layer2.1.relu0.2496792626814354 (None, 128, 54, 54)  0           layer2.1.bn10.538091178153618[0][\n",
      "__________________________________________________________________________________________________\n",
      "layer2.1.conv20.055885521940161 (None, 128, 54, 54)  16384       layer2.1.relu0.24967926268143548[\n",
      "__________________________________________________________________________________________________\n",
      "layer2.1.bn20.1306951279947829  (None, 128, 54, 54)  512         layer2.1.conv20.0558855219401615[\n",
      "__________________________________________________________________________________________________\n",
      "layer2.1.relu0.5533382228344713 (None, 128, 54, 54)  0           layer2.1.bn20.1306951279947829[0]\n",
      "__________________________________________________________________________________________________\n",
      "layer2.1.conv30.864580593222744 (None, 512, 54, 54)  65536       layer2.1.relu0.5533382228344713[0\n",
      "__________________________________________________________________________________________________\n",
      "layer2.1.bn30.02655276103546033 (None, 512, 54, 54)  2048        layer2.1.conv30.8645805932227448[\n",
      "__________________________________________________________________________________________________\n",
      "layer2.10.17375297661033273 (Ad (None, 512, 54, 54)  0           layer2.1.bn30.026552761035460337[\n",
      "                                                                 layer2.0.relu0.05532950909250578[\n",
      "__________________________________________________________________________________________________\n",
      "layer2.1.relu0.2339470546462912 (None, 512, 54, 54)  0           layer2.10.17375297661033273[0][0]\n",
      "__________________________________________________________________________________________________\n",
      "layer2.2.conv10.228618044474727 (None, 128, 54, 54)  65536       layer2.1.relu0.23394705464629129[\n",
      "__________________________________________________________________________________________________\n",
      "layer2.2.bn10.31874442249553725 (None, 128, 54, 54)  512         layer2.2.conv10.22861804447472767\n",
      "__________________________________________________________________________________________________\n",
      "layer2.2.relu0.9038324936694779 (None, 128, 54, 54)  0           layer2.2.bn10.31874442249553725[0\n",
      "__________________________________________________________________________________________________\n",
      "layer2.2.conv20.501600105425074 (None, 128, 54, 54)  16384       layer2.2.relu0.9038324936694779[0\n",
      "__________________________________________________________________________________________________\n",
      "layer2.2.bn20.9074228477494126  (None, 128, 54, 54)  512         layer2.2.conv20.5016001054250744[\n",
      "__________________________________________________________________________________________________\n",
      "layer2.2.relu0.0701402942306780 (None, 128, 54, 54)  0           layer2.2.bn20.9074228477494126[0]\n",
      "__________________________________________________________________________________________________\n",
      "layer2.2.conv30.740750991025793 (None, 512, 54, 54)  65536       layer2.2.relu0.07014029423067802[\n",
      "__________________________________________________________________________________________________\n",
      "layer2.2.bn30.15813844800626597 (None, 512, 54, 54)  2048        layer2.2.conv30.740750991025793[0\n",
      "__________________________________________________________________________________________________\n",
      "layer2.20.8002904098433381 (Add (None, 512, 54, 54)  0           layer2.2.bn30.15813844800626597[0\n",
      "                                                                 layer2.1.relu0.23394705464629129[\n",
      "__________________________________________________________________________________________________\n",
      "layer2.2.relu0.4389777237196512 (None, 512, 54, 54)  0           layer2.20.8002904098433381[0][0] \n",
      "__________________________________________________________________________________________________\n",
      "layer2.3.conv10.556317942442505 (None, 128, 54, 54)  65536       layer2.2.relu0.43897772371965127[\n",
      "__________________________________________________________________________________________________\n",
      "layer2.3.bn10.5136877970668405  (None, 128, 54, 54)  512         layer2.3.conv10.5563179424425053[\n",
      "__________________________________________________________________________________________________\n",
      "layer2.3.relu0.3893487294481752 (None, 128, 54, 54)  0           layer2.3.bn10.5136877970668405[0]\n",
      "__________________________________________________________________________________________________\n",
      "layer2.3.conv20.157980489971895 (None, 128, 54, 54)  16384       layer2.3.relu0.3893487294481752[0\n",
      "__________________________________________________________________________________________________\n",
      "layer2.3.bn20.09063479497307159 (None, 128, 54, 54)  512         layer2.3.conv20.15798048997189562\n",
      "__________________________________________________________________________________________________\n",
      "layer2.3.relu0.8936585061916855 (None, 128, 54, 54)  0           layer2.3.bn20.09063479497307159[0\n",
      "__________________________________________________________________________________________________\n",
      "layer2.3.conv30.781178703490684 (None, 512, 54, 54)  65536       layer2.3.relu0.8936585061916855[0\n",
      "__________________________________________________________________________________________________\n",
      "layer2.3.bn30.27866172528265354 (None, 512, 54, 54)  2048        layer2.3.conv30.781178703490684[0\n",
      "__________________________________________________________________________________________________\n",
      "layer2.30.6586117169970664 (Add (None, 512, 54, 54)  0           layer2.3.bn30.27866172528265354[0\n",
      "                                                                 layer2.2.relu0.43897772371965127[\n",
      "__________________________________________________________________________________________________\n",
      "layer2.3.relu0.7828446043464883 (None, 512, 54, 54)  0           layer2.30.6586117169970664[0][0] \n",
      "__________________________________________________________________________________________________\n",
      "layer3.0.conv10.628063902172270 (None, 256, 54, 54)  131072      layer2.3.relu0.7828446043464883[0\n",
      "__________________________________________________________________________________________________\n",
      "layer3.0.bn10.6504638858362175  (None, 256, 54, 54)  1024        layer3.0.conv10.6280639021722707[\n",
      "__________________________________________________________________________________________________\n",
      "layer3.0.relu0.767782243123618  (None, 256, 54, 54)  0           layer3.0.bn10.6504638858362175[0]\n",
      "__________________________________________________________________________________________________\n",
      "layer3.0.conv20.629473686890042 (None, 256, 26, 26)  589824      layer3.0.relu0.767782243123618[0]\n",
      "__________________________________________________________________________________________________\n",
      "layer3.0.bn20.5933482761773337  (None, 256, 26, 26)  1024        layer3.0.conv20.6294736868900423[\n",
      "__________________________________________________________________________________________________\n",
      "layer3.0.downsample.00.76071898 (None, 1024, 27, 27) 524288      layer2.3.relu0.7828446043464883[0\n",
      "__________________________________________________________________________________________________\n",
      "layer3.0.relu0.7912049600794346 (None, 256, 26, 26)  0           layer3.0.bn20.5933482761773337[0]\n",
      "__________________________________________________________________________________________________\n",
      "layer3.0.downsample.10.61842558 (None, 1024, 27, 27) 4096        layer3.0.downsample.00.7607189848\n",
      "__________________________________________________________________________________________________\n",
      "layer3.0.conv30.002583297886605 (None, 1024, 26, 26) 262144      layer3.0.relu0.7912049600794346[0\n",
      "__________________________________________________________________________________________________\n",
      "lambda_9 (Lambda)               (None, 1024, 26, 27) 0           layer3.0.downsample.10.6184255872\n",
      "__________________________________________________________________________________________________\n",
      "layer3.0.bn30.7438723872872339  (None, 1024, 26, 26) 4096        layer3.0.conv30.00258329788660560\n",
      "__________________________________________________________________________________________________\n",
      "lambda_10 (Lambda)              (None, 1024, 26, 26) 0           lambda_9[0][0]                   \n",
      "__________________________________________________________________________________________________\n",
      "layer3.00.29836323891821626 (Ad (None, 1024, 26, 26) 0           layer3.0.bn30.7438723872872339[0]\n",
      "                                                                 lambda_10[0][0]                  \n",
      "__________________________________________________________________________________________________\n",
      "layer3.0.relu0.3182262548550953 (None, 1024, 26, 26) 0           layer3.00.29836323891821626[0][0]\n",
      "__________________________________________________________________________________________________\n",
      "layer3.1.conv10.340509846309799 (None, 256, 26, 26)  262144      layer3.0.relu0.31822625485509537[\n",
      "__________________________________________________________________________________________________\n",
      "layer3.1.bn10.22617384618173686 (None, 256, 26, 26)  1024        layer3.1.conv10.3405098463097991[\n",
      "__________________________________________________________________________________________________\n",
      "layer3.1.relu0.5589712031044647 (None, 256, 26, 26)  0           layer3.1.bn10.22617384618173686[0\n",
      "__________________________________________________________________________________________________\n",
      "layer3.1.conv20.907851574553905 (None, 256, 26, 26)  65536       layer3.1.relu0.5589712031044647[0\n",
      "__________________________________________________________________________________________________\n",
      "layer3.1.bn20.5834735335822405  (None, 256, 26, 26)  1024        layer3.1.conv20.9078515745539053[\n",
      "__________________________________________________________________________________________________\n",
      "layer3.1.relu0.2392483605192841 (None, 256, 26, 26)  0           layer3.1.bn20.5834735335822405[0]\n",
      "__________________________________________________________________________________________________\n",
      "layer3.1.conv30.157992668546387 (None, 1024, 26, 26) 262144      layer3.1.relu0.2392483605192841[0\n",
      "__________________________________________________________________________________________________\n",
      "layer3.1.bn30.5556467049443377  (None, 1024, 26, 26) 4096        layer3.1.conv30.15799266854638727\n",
      "__________________________________________________________________________________________________\n",
      "layer3.10.379273057732191 (Add) (None, 1024, 26, 26) 0           layer3.1.bn30.5556467049443377[0]\n",
      "                                                                 layer3.0.relu0.31822625485509537[\n",
      "__________________________________________________________________________________________________\n",
      "layer3.1.relu0.3980990205010737 (None, 1024, 26, 26) 0           layer3.10.379273057732191[0][0]  \n",
      "__________________________________________________________________________________________________\n",
      "layer3.2.conv10.657628234307800 (None, 256, 26, 26)  262144      layer3.1.relu0.3980990205010737[0\n",
      "__________________________________________________________________________________________________\n",
      "layer3.2.bn10.7788414851248515  (None, 256, 26, 26)  1024        layer3.2.conv10.6576282343078006[\n",
      "__________________________________________________________________________________________________\n",
      "layer3.2.relu0.2999448285948323 (None, 256, 26, 26)  0           layer3.2.bn10.7788414851248515[0]\n",
      "__________________________________________________________________________________________________\n",
      "layer3.2.conv20.998487476499824 (None, 256, 26, 26)  65536       layer3.2.relu0.2999448285948323[0\n",
      "__________________________________________________________________________________________________\n",
      "layer3.2.bn20.4617409372188036  (None, 256, 26, 26)  1024        layer3.2.conv20.9984874764998244[\n",
      "__________________________________________________________________________________________________\n",
      "layer3.2.relu0.0892178755747284 (None, 256, 26, 26)  0           layer3.2.bn20.4617409372188036[0]\n",
      "__________________________________________________________________________________________________\n",
      "layer3.2.conv30.968899975571539 (None, 1024, 26, 26) 262144      layer3.2.relu0.08921787557472849[\n",
      "__________________________________________________________________________________________________\n",
      "layer3.2.bn30.6497148488419547  (None, 1024, 26, 26) 4096        layer3.2.conv30.9688999755715398[\n",
      "__________________________________________________________________________________________________\n",
      "layer3.20.26911909018254176 (Ad (None, 1024, 26, 26) 0           layer3.2.bn30.6497148488419547[0]\n",
      "                                                                 layer3.1.relu0.3980990205010737[0\n",
      "__________________________________________________________________________________________________\n",
      "layer3.2.relu0.744043699676157  (None, 1024, 26, 26) 0           layer3.20.26911909018254176[0][0]\n",
      "__________________________________________________________________________________________________\n",
      "layer3.3.conv10.657793046311569 (None, 256, 26, 26)  262144      layer3.2.relu0.744043699676157[0]\n",
      "__________________________________________________________________________________________________\n",
      "layer3.3.bn10.3836619321462119  (None, 256, 26, 26)  1024        layer3.3.conv10.6577930463115695[\n",
      "__________________________________________________________________________________________________\n",
      "layer3.3.relu0.5012083473306633 (None, 256, 26, 26)  0           layer3.3.bn10.3836619321462119[0]\n",
      "__________________________________________________________________________________________________\n",
      "layer3.3.conv20.306232711266012 (None, 256, 26, 26)  65536       layer3.3.relu0.5012083473306633[0\n",
      "__________________________________________________________________________________________________\n",
      "layer3.3.bn20.46052829364333114 (None, 256, 26, 26)  1024        layer3.3.conv20.3062327112660128[\n",
      "__________________________________________________________________________________________________\n",
      "layer3.3.relu0.3746138452481895 (None, 256, 26, 26)  0           layer3.3.bn20.46052829364333114[0\n",
      "__________________________________________________________________________________________________\n",
      "layer3.3.conv30.218276931457004 (None, 1024, 26, 26) 262144      layer3.3.relu0.3746138452481895[0\n",
      "__________________________________________________________________________________________________\n",
      "layer3.3.bn30.5217106941085541  (None, 1024, 26, 26) 4096        layer3.3.conv30.218276931457004[0\n",
      "__________________________________________________________________________________________________\n",
      "layer3.30.8452178712914253 (Add (None, 1024, 26, 26) 0           layer3.3.bn30.5217106941085541[0]\n",
      "                                                                 layer3.2.relu0.744043699676157[0]\n",
      "__________________________________________________________________________________________________\n",
      "layer3.3.relu0.7460789781428908 (None, 1024, 26, 26) 0           layer3.30.8452178712914253[0][0] \n",
      "__________________________________________________________________________________________________\n",
      "layer3.4.conv10.325613853939674 (None, 256, 26, 26)  262144      layer3.3.relu0.7460789781428908[0\n",
      "__________________________________________________________________________________________________\n",
      "layer3.4.bn10.7357369302316928  (None, 256, 26, 26)  1024        layer3.4.conv10.3256138539396749[\n",
      "__________________________________________________________________________________________________\n",
      "layer3.4.relu0.3384614100872390 (None, 256, 26, 26)  0           layer3.4.bn10.7357369302316928[0]\n",
      "__________________________________________________________________________________________________\n",
      "layer3.4.conv20.618497168013771 (None, 256, 26, 26)  65536       layer3.4.relu0.33846141008723907[\n",
      "__________________________________________________________________________________________________\n",
      "layer3.4.bn20.899673233703255 ( (None, 256, 26, 26)  1024        layer3.4.conv20.6184971680137716[\n",
      "__________________________________________________________________________________________________\n",
      "layer3.4.relu0.2374077429967851 (None, 256, 26, 26)  0           layer3.4.bn20.899673233703255[0][\n",
      "__________________________________________________________________________________________________\n",
      "layer3.4.conv30.520985735095661 (None, 1024, 26, 26) 262144      layer3.4.relu0.23740774299678513[\n",
      "__________________________________________________________________________________________________\n",
      "layer3.4.bn30.00327708305196550 (None, 1024, 26, 26) 4096        layer3.4.conv30.5209857350956616[\n",
      "__________________________________________________________________________________________________\n",
      "layer3.40.3752343438924822 (Add (None, 1024, 26, 26) 0           layer3.4.bn30.0032770830519655014\n",
      "                                                                 layer3.3.relu0.7460789781428908[0\n",
      "__________________________________________________________________________________________________\n",
      "layer3.4.relu0.7092038464637658 (None, 1024, 26, 26) 0           layer3.40.3752343438924822[0][0] \n",
      "__________________________________________________________________________________________________\n",
      "layer3.5.conv10.320583490948970 (None, 256, 26, 26)  262144      layer3.4.relu0.7092038464637658[0\n",
      "__________________________________________________________________________________________________\n",
      "layer3.5.bn10.3868766098825006  (None, 256, 26, 26)  1024        layer3.5.conv10.3205834909489709[\n",
      "__________________________________________________________________________________________________\n",
      "layer3.5.relu0.5581252576228202 (None, 256, 26, 26)  0           layer3.5.bn10.3868766098825006[0]\n",
      "__________________________________________________________________________________________________\n",
      "layer3.5.conv20.345305153006001 (None, 256, 26, 26)  65536       layer3.5.relu0.5581252576228202[0\n",
      "__________________________________________________________________________________________________\n",
      "layer3.5.bn20.8210377201986565  (None, 256, 26, 26)  1024        layer3.5.conv20.3453051530060013[\n",
      "__________________________________________________________________________________________________\n",
      "layer3.5.relu0.0274595166661932 (None, 256, 26, 26)  0           layer3.5.bn20.8210377201986565[0]\n",
      "__________________________________________________________________________________________________\n",
      "layer3.5.conv30.578582888878743 (None, 1024, 26, 26) 262144      layer3.5.relu0.027459516666193284\n",
      "__________________________________________________________________________________________________\n",
      "layer3.5.bn30.9226077071010194  (None, 1024, 26, 26) 4096        layer3.5.conv30.578582888878743[0\n",
      "__________________________________________________________________________________________________\n",
      "layer3.50.32192774047072825 (Ad (None, 1024, 26, 26) 0           layer3.5.bn30.9226077071010194[0]\n",
      "                                                                 layer3.4.relu0.7092038464637658[0\n",
      "__________________________________________________________________________________________________\n",
      "layer3.5.relu0.4262588049090559 (None, 1024, 26, 26) 0           layer3.50.32192774047072825[0][0]\n",
      "__________________________________________________________________________________________________\n",
      "layer4.0.conv10.867936887810384 (None, 512, 26, 26)  524288      layer3.5.relu0.4262588049090559[0\n",
      "__________________________________________________________________________________________________\n",
      "layer4.0.bn10.6052063367951542  (None, 512, 26, 26)  2048        layer4.0.conv10.8679368878103847[\n",
      "__________________________________________________________________________________________________\n",
      "layer4.0.relu0.8213344121528957 (None, 512, 26, 26)  0           layer4.0.bn10.6052063367951542[0]\n",
      "__________________________________________________________________________________________________\n",
      "layer4.0.conv20.352071408535981 (None, 512, 26, 26)  262144      layer4.0.relu0.8213344121528957[0\n",
      "__________________________________________________________________________________________________\n",
      "layer4.0.bn20.37164037984691456 (None, 512, 26, 26)  2048        layer4.0.conv20.3520714085359812[\n",
      "__________________________________________________________________________________________________\n",
      "layer4.0.relu0.1247977333486709 (None, 512, 26, 26)  0           layer4.0.bn20.37164037984691456[0\n",
      "__________________________________________________________________________________________________\n",
      "layer4.0.conv30.542604330245803 (None, 2048, 26, 26) 1048576     layer4.0.relu0.12479773334867095[\n",
      "__________________________________________________________________________________________________\n",
      "layer4.0.downsample.00.29891395 (None, 2048, 26, 26) 2097152     layer3.5.relu0.4262588049090559[0\n",
      "__________________________________________________________________________________________________\n",
      "layer4.0.bn30.40344643482899445 (None, 2048, 26, 26) 8192        layer4.0.conv30.5426043302458033[\n",
      "__________________________________________________________________________________________________\n",
      "layer4.0.downsample.10.47494879 (None, 2048, 26, 26) 8192        layer4.0.downsample.00.2989139523\n",
      "__________________________________________________________________________________________________\n",
      "layer4.00.3463326508428184 (Add (None, 2048, 26, 26) 0           layer4.0.bn30.40344643482899445[0\n",
      "                                                                 layer4.0.downsample.10.4749487910\n",
      "__________________________________________________________________________________________________\n",
      "layer4.0.relu0.5083668139472106 (None, 2048, 26, 26) 0           layer4.00.3463326508428184[0][0] \n",
      "__________________________________________________________________________________________________\n",
      "layer4.1.conv10.655946078922487 (None, 512, 26, 26)  1048576     layer4.0.relu0.5083668139472106[0\n",
      "__________________________________________________________________________________________________\n",
      "layer4.1.bn10.03545098043519634 (None, 512, 26, 26)  2048        layer4.1.conv10.6559460789224878[\n",
      "__________________________________________________________________________________________________\n",
      "layer4.1.relu0.4651751804070723 (None, 512, 26, 26)  0           layer4.1.bn10.035450980435196344[\n",
      "__________________________________________________________________________________________________\n",
      "layer4.1.conv20.579402733203222 (None, 512, 26, 26)  262144      layer4.1.relu0.4651751804070723[0\n",
      "__________________________________________________________________________________________________\n",
      "layer4.1.bn20.36252873786372264 (None, 512, 26, 26)  2048        layer4.1.conv20.5794027332032221[\n",
      "__________________________________________________________________________________________________\n",
      "layer4.1.relu0.1174547401667175 (None, 512, 26, 26)  0           layer4.1.bn20.36252873786372264[0\n",
      "__________________________________________________________________________________________________\n",
      "layer4.1.conv30.956956068521507 (None, 2048, 26, 26) 1048576     layer4.1.relu0.11745474016671753[\n",
      "__________________________________________________________________________________________________\n",
      "layer4.1.bn30.10059143235830736 (None, 2048, 26, 26) 8192        layer4.1.conv30.9569560685215078[\n",
      "__________________________________________________________________________________________________\n",
      "layer4.10.7171316102070798 (Add (None, 2048, 26, 26) 0           layer4.1.bn30.10059143235830736[0\n",
      "                                                                 layer4.0.relu0.5083668139472106[0\n",
      "__________________________________________________________________________________________________\n",
      "layer4.1.relu0.8466334554911247 (None, 2048, 26, 26) 0           layer4.10.7171316102070798[0][0] \n",
      "__________________________________________________________________________________________________\n",
      "layer4.2.conv10.383512259312881 (None, 512, 26, 26)  1048576     layer4.1.relu0.8466334554911247[0\n",
      "__________________________________________________________________________________________________\n",
      "layer4.2.bn10.8815258456267703  (None, 512, 26, 26)  2048        layer4.2.conv10.38351225931288113\n",
      "__________________________________________________________________________________________________\n",
      "layer4.2.relu0.730561330528793  (None, 512, 26, 26)  0           layer4.2.bn10.8815258456267703[0]\n",
      "__________________________________________________________________________________________________\n",
      "layer4.2.conv20.910596558353505 (None, 512, 26, 26)  262144      layer4.2.relu0.730561330528793[0]\n",
      "__________________________________________________________________________________________________\n",
      "layer4.2.bn20.939759209435578 ( (None, 512, 26, 26)  2048        layer4.2.conv20.9105965583535051[\n",
      "__________________________________________________________________________________________________\n",
      "layer4.2.relu0.9101556493448649 (None, 512, 26, 26)  0           layer4.2.bn20.939759209435578[0][\n",
      "__________________________________________________________________________________________________\n",
      "layer4.2.conv30.545355323014503 (None, 2048, 26, 26) 1048576     layer4.2.relu0.9101556493448649[0\n",
      "__________________________________________________________________________________________________\n",
      "layer4.2.bn30.421330467334342 ( (None, 2048, 26, 26) 8192        layer4.2.conv30.5453553230145031[\n",
      "__________________________________________________________________________________________________\n",
      "layer4.20.8114732919705916 (Add (None, 2048, 26, 26) 0           layer4.2.bn30.421330467334342[0][\n",
      "                                                                 layer4.1.relu0.8466334554911247[0\n",
      "__________________________________________________________________________________________________\n",
      "layer4.2.relu0.6627657152906141 (None, 2048, 26, 26) 0           layer4.20.8114732919705916[0][0] \n",
      "__________________________________________________________________________________________________\n",
      "0.016946535261974538 (AveragePo (None, 2048, 1, 1)   0           layer4.2.relu0.6627657152906141[0\n",
      "__________________________________________________________________________________________________\n",
      "0.517268263679788 (Reshape)     (None, 2048)         0           0.016946535261974538[0][0]       \n",
      "__________________________________________________________________________________________________\n",
      "fc0.2299936830752738 (Dense)    (None, 1000)         2049000     0.517268263679788[0][0]          \n",
      "==================================================================================================\n",
      "Total params: 16,266,152\n",
      "Trainable params: 16,213,032\n",
      "Non-trainable params: 53,120\n",
      "__________________________________________________________________________________________________\n"
     ]
    }
   ],
   "source": [
    "vgg_model.summary()"
   ]
  },
  {
   "cell_type": "markdown",
   "metadata": {},
   "source": [
    "top(全結合層など)はデフォルトだとImageNetの全クラス数1000での出力になるので，\n",
    "自作のアーキテクチャを使用する\n",
    "top以外のモデルの重みは(ImageNetで)固定しない→学習をする"
   ]
  },
  {
   "cell_type": "markdown",
   "metadata": {},
   "source": [
    "Fine-tuning(Flozen(Not training vgg layers))\n",
    "training all layers -> acc: 0.1..."
   ]
  },
  {
   "cell_type": "markdown",
   "metadata": {},
   "source": [
    "inputs = Input(shape=(224,224,3))\n",
    "x1 = vgg_model(inputs)\n",
    "x2 = Flatten()(x1)\n",
    "x3 = Dense(256, activation='relu')(x2)\n",
    "prediction = Dense(num_s_class, activation='softmax')(x3)\n",
    "full_model = Model(inputs=inputs, outputs=prediction)\n",
    "early_stopping = EarlyStopping(monitor='val_loss', verbose=1, mode='auto')\n",
    "for layer in vgg_model.layers[:15]:\n",
    "    layer.trainable = False\n",
    "full_model.compile(loss='categorical_crossentropy', optimizer='Adam', metrics=['accuracy'])"
   ]
  },
  {
   "cell_type": "code",
   "execution_count": 22,
   "metadata": {},
   "outputs": [
    {
     "ename": "AttributeError",
     "evalue": "'Node' object has no attribute 'output_masks'",
     "output_type": "error",
     "traceback": [
      "\u001b[0;31m---------------------------------------------------------------------------\u001b[0m",
      "\u001b[0;31mAttributeError\u001b[0m                            Traceback (most recent call last)",
      "\u001b[0;32m<ipython-input-22-beb282dc4fb1>\u001b[0m in \u001b[0;36m<module>\u001b[0;34m\u001b[0m\n\u001b[1;32m      1\u001b[0m \u001b[0mlayers\u001b[0m \u001b[0;34m=\u001b[0m \u001b[0;34m[\u001b[0m\u001b[0ml\u001b[0m \u001b[0;32mfor\u001b[0m \u001b[0ml\u001b[0m \u001b[0;32min\u001b[0m \u001b[0mvgg_model\u001b[0m\u001b[0;34m.\u001b[0m\u001b[0mlayers\u001b[0m\u001b[0;34m]\u001b[0m\u001b[0;34m\u001b[0m\u001b[0;34m\u001b[0m\u001b[0m\n\u001b[1;32m      2\u001b[0m \u001b[0minputs\u001b[0m \u001b[0;34m=\u001b[0m \u001b[0mInput\u001b[0m\u001b[0;34m(\u001b[0m\u001b[0mshape\u001b[0m\u001b[0;34m=\u001b[0m\u001b[0;34m(\u001b[0m\u001b[0;36m3\u001b[0m\u001b[0;34m,\u001b[0m\u001b[0;36m224\u001b[0m\u001b[0;34m,\u001b[0m\u001b[0;36m224\u001b[0m\u001b[0;34m)\u001b[0m\u001b[0;34m)\u001b[0m\u001b[0;34m\u001b[0m\u001b[0;34m\u001b[0m\u001b[0m\n\u001b[0;32m----> 3\u001b[0;31m \u001b[0mx\u001b[0m \u001b[0;34m=\u001b[0m \u001b[0mlayers\u001b[0m\u001b[0;34m[\u001b[0m\u001b[0;36m1\u001b[0m\u001b[0;34m]\u001b[0m\u001b[0;34m(\u001b[0m\u001b[0minputs\u001b[0m\u001b[0;34m)\u001b[0m\u001b[0;34m\u001b[0m\u001b[0;34m\u001b[0m\u001b[0m\n\u001b[0m\u001b[1;32m      4\u001b[0m \u001b[0;32mfor\u001b[0m \u001b[0mi\u001b[0m \u001b[0;32min\u001b[0m \u001b[0mrange\u001b[0m\u001b[0;34m(\u001b[0m\u001b[0;36m2\u001b[0m\u001b[0;34m,\u001b[0m\u001b[0mlen\u001b[0m\u001b[0;34m(\u001b[0m\u001b[0mlayers\u001b[0m\u001b[0;34m)\u001b[0m\u001b[0;34m-\u001b[0m\u001b[0;36m1\u001b[0m\u001b[0;34m)\u001b[0m\u001b[0;34m:\u001b[0m\u001b[0;34m\u001b[0m\u001b[0;34m\u001b[0m\u001b[0m\n\u001b[1;32m      5\u001b[0m     \u001b[0mlayers\u001b[0m\u001b[0;34m[\u001b[0m\u001b[0mi\u001b[0m\u001b[0;34m]\u001b[0m\u001b[0;34m.\u001b[0m\u001b[0mtrainable\u001b[0m \u001b[0;34m=\u001b[0m \u001b[0;32mFalse\u001b[0m\u001b[0;34m\u001b[0m\u001b[0;34m\u001b[0m\u001b[0m\n",
      "\u001b[0;32m~/.local/lib/python3.6/site-packages/keras/engine/base_layer.py\u001b[0m in \u001b[0;36m__call__\u001b[0;34m(self, inputs, **kwargs)\u001b[0m\n\u001b[1;32m    473\u001b[0m \u001b[0;34m\u001b[0m\u001b[0m\n\u001b[1;32m    474\u001b[0m             \u001b[0;31m# Handle mask propagation.\u001b[0m\u001b[0;34m\u001b[0m\u001b[0;34m\u001b[0m\u001b[0;34m\u001b[0m\u001b[0m\n\u001b[0;32m--> 475\u001b[0;31m             \u001b[0mprevious_mask\u001b[0m \u001b[0;34m=\u001b[0m \u001b[0m_collect_previous_mask\u001b[0m\u001b[0;34m(\u001b[0m\u001b[0minputs\u001b[0m\u001b[0;34m)\u001b[0m\u001b[0;34m\u001b[0m\u001b[0;34m\u001b[0m\u001b[0m\n\u001b[0m\u001b[1;32m    476\u001b[0m             \u001b[0muser_kwargs\u001b[0m \u001b[0;34m=\u001b[0m \u001b[0mkwargs\u001b[0m\u001b[0;34m.\u001b[0m\u001b[0mcopy\u001b[0m\u001b[0;34m(\u001b[0m\u001b[0;34m)\u001b[0m\u001b[0;34m\u001b[0m\u001b[0;34m\u001b[0m\u001b[0m\n\u001b[1;32m    477\u001b[0m             \u001b[0;32mif\u001b[0m \u001b[0;32mnot\u001b[0m \u001b[0mis_all_none\u001b[0m\u001b[0;34m(\u001b[0m\u001b[0mprevious_mask\u001b[0m\u001b[0;34m)\u001b[0m\u001b[0;34m:\u001b[0m\u001b[0;34m\u001b[0m\u001b[0;34m\u001b[0m\u001b[0m\n",
      "\u001b[0;32m~/.local/lib/python3.6/site-packages/keras/engine/base_layer.py\u001b[0m in \u001b[0;36m_collect_previous_mask\u001b[0;34m(input_tensors)\u001b[0m\n\u001b[1;32m   1439\u001b[0m             \u001b[0minbound_layer\u001b[0m\u001b[0;34m,\u001b[0m \u001b[0mnode_index\u001b[0m\u001b[0;34m,\u001b[0m \u001b[0mtensor_index\u001b[0m \u001b[0;34m=\u001b[0m \u001b[0mx\u001b[0m\u001b[0;34m.\u001b[0m\u001b[0m_keras_history\u001b[0m\u001b[0;34m\u001b[0m\u001b[0;34m\u001b[0m\u001b[0m\n\u001b[1;32m   1440\u001b[0m             \u001b[0mnode\u001b[0m \u001b[0;34m=\u001b[0m \u001b[0minbound_layer\u001b[0m\u001b[0;34m.\u001b[0m\u001b[0m_inbound_nodes\u001b[0m\u001b[0;34m[\u001b[0m\u001b[0mnode_index\u001b[0m\u001b[0;34m]\u001b[0m\u001b[0;34m\u001b[0m\u001b[0;34m\u001b[0m\u001b[0m\n\u001b[0;32m-> 1441\u001b[0;31m             \u001b[0mmask\u001b[0m \u001b[0;34m=\u001b[0m \u001b[0mnode\u001b[0m\u001b[0;34m.\u001b[0m\u001b[0moutput_masks\u001b[0m\u001b[0;34m[\u001b[0m\u001b[0mtensor_index\u001b[0m\u001b[0;34m]\u001b[0m\u001b[0;34m\u001b[0m\u001b[0;34m\u001b[0m\u001b[0m\n\u001b[0m\u001b[1;32m   1442\u001b[0m             \u001b[0mmasks\u001b[0m\u001b[0;34m.\u001b[0m\u001b[0mappend\u001b[0m\u001b[0;34m(\u001b[0m\u001b[0mmask\u001b[0m\u001b[0;34m)\u001b[0m\u001b[0;34m\u001b[0m\u001b[0;34m\u001b[0m\u001b[0m\n\u001b[1;32m   1443\u001b[0m         \u001b[0;32melse\u001b[0m\u001b[0;34m:\u001b[0m\u001b[0;34m\u001b[0m\u001b[0;34m\u001b[0m\u001b[0m\n",
      "\u001b[0;31mAttributeError\u001b[0m: 'Node' object has no attribute 'output_masks'"
     ]
    }
   ],
   "source": [
    "layers = [l for l in vgg_model.layers]\n",
    "inputs = Input(shape=(3,224,224))\n",
    "x = layers[1](inputs)\n",
    "for i in range(2,len(layers)-1):\n",
    "    layers[i].trainable = False\n",
    "    x = layers[i](x)\n",
    "x = Dense(num_s_class, activation='softmax')(x)\n",
    "\n",
    "full_model = Model(input=layers[0].input, output=x)\n",
    "early_stopping = EarlyStopping(monitor='val_loss', verbose=1, mode='auto')\n",
    "full_model.compile(loss='categorical_crossentropy', optimizer='Adam', metrics=['accuracy'])"
   ]
  },
  {
   "cell_type": "code",
   "execution_count": null,
   "metadata": {},
   "outputs": [],
   "source": [
    "full_model.summary()"
   ]
  },
  {
   "cell_type": "markdown",
   "metadata": {},
   "source": [
    "   # 層化抽出法(Stratified sampling)&KFold"
   ]
  },
  {
   "cell_type": "code",
   "execution_count": null,
   "metadata": {},
   "outputs": [],
   "source": [
    "from sklearn.model_selection import StratifiedKFold\n",
    "from keras.utils import np_utils"
   ]
  },
  {
   "cell_type": "code",
   "execution_count": null,
   "metadata": {},
   "outputs": [],
   "source": [
    "skf = StratifiedKFold(n_splits=5, random_state=42)\n",
    "cvscores = []\n",
    "#Stratified KFoldはlabel encoding化した整数ベクトルでないともちいることができない\n",
    "x = np.array(x)\n",
    "y = np.array(y)\n",
    "for train_index, test_index in skf.split(x, y):\n",
    "    x_train, x_test = x[train_index], x[test_index]\n",
    "    y_train, y_test = y[train_index], y[test_index]\n",
    "    #One-hot化　CNNに入出力できるように整形\n",
    "    y_train = np_utils.to_categorical(y_train, num_s_class)\n",
    "    y_test = np_utils.to_categorical(y_test, num_s_class)\n",
    "    full_model.fit(x_train, y_train, verbose=1, batch_size=batch_size, epochs=n_epochs,\n",
    "              callbacks=[early_stopping], validation_split=0.2)\n",
    "    scores = full_model.evaluate(x_test, y_test)\n",
    "    print(\"%s: %.2f%%\" % (full_model.metrics_names[1], scores[1]*100))\n",
    "    cvscores.append(scores[1] * 100)"
   ]
  },
  {
   "cell_type": "code",
   "execution_count": null,
   "metadata": {},
   "outputs": [],
   "source": [
    "print(\"%.2f%% (+/- %.2f%%)\" % (np.mean(cvscores), np.std(cvscores)))"
   ]
  },
  {
   "cell_type": "code",
   "execution_count": null,
   "metadata": {},
   "outputs": [],
   "source": [
    "y_pred = full_model.predict(x_valid)"
   ]
  },
  {
   "cell_type": "code",
   "execution_count": null,
   "metadata": {},
   "outputs": [],
   "source": [
    "y_valid = np_utils.to_categorical(y_valid)"
   ]
  },
  {
   "cell_type": "code",
   "execution_count": null,
   "metadata": {},
   "outputs": [],
   "source": [
    "y_pred = np.array(y_pred)\n",
    "y_true = np.array(y_valid)\n",
    "y_pred = np.argmax(y_pred, axis=1)\n",
    "y_true = np.argmax(y_true, axis=1)"
   ]
  },
  {
   "cell_type": "markdown",
   "metadata": {},
   "source": [
    "# Confusion Matrix"
   ]
  },
  {
   "cell_type": "code",
   "execution_count": null,
   "metadata": {},
   "outputs": [],
   "source": [
    "from sklearn.metrics import confusion_matrix, classification_report, accuracy_score\n",
    "import seaborn as sns\n",
    "from sklearn.model_selection import GridSearchCV\n",
    "from scipy.sparse.csgraph import connected_components"
   ]
  },
  {
   "cell_type": "code",
   "execution_count": null,
   "metadata": {},
   "outputs": [],
   "source": [
    "cmx = confusion_matrix(y_true, y_pred)\n",
    "plt.figure(figsize=(12,12))\n",
    "sns.heatmap(cmx, annot=True)\n",
    "plt.show()\n",
    "print('accuracy: {}'.format(accuracy_score\n",
    "(y_true, y_pred)))"
   ]
  },
  {
   "cell_type": "code",
   "execution_count": null,
   "metadata": {},
   "outputs": [],
   "source": [
    "cor_table = pd.read_csv('cor_table.csv')\n",
    "print(cor_table)"
   ]
  },
  {
   "cell_type": "markdown",
   "metadata": {},
   "source": [
    "# 中間層特徴量の可視化"
   ]
  },
  {
   "cell_type": "code",
   "execution_count": null,
   "metadata": {},
   "outputs": [],
   "source": [
    "from sklearn.decomposition import PCA\n",
    "from sklearn.preprocessing import StandardScaler"
   ]
  },
  {
   "cell_type": "code",
   "execution_count": null,
   "metadata": {},
   "outputs": [],
   "source": [
    "x1 = vgg_model.get_layer('block1_pool').output\n",
    "output1 = GlobalMaxPooling2D()(x1)\n",
    "block_model1 = Model(inputs=vgg_model.input, outputs=output1)"
   ]
  },
  {
   "cell_type": "code",
   "execution_count": null,
   "metadata": {},
   "outputs": [],
   "source": [
    "x2 = vgg_model.get_layer('block2_pool').output\n",
    "output2 = GlobalMaxPooling2D()(x2)\n",
    "block_model2 = Model(inputs=vgg_model.input, outputs=output2)"
   ]
  },
  {
   "cell_type": "code",
   "execution_count": null,
   "metadata": {},
   "outputs": [],
   "source": [
    "x3 = vgg_model.get_layer('block3_pool').output\n",
    "output3 = GlobalMaxPooling2D()(x3)\n",
    "block_model3 = Model(inputs=vgg_model.input, outputs=output3)"
   ]
  },
  {
   "cell_type": "code",
   "execution_count": null,
   "metadata": {},
   "outputs": [],
   "source": [
    "x4 = vgg_model.get_layer('block4_pool').output\n",
    "output4 = GlobalMaxPooling2D()(x4)\n",
    "block_model4 = Model(inputs=vgg_model.input, outputs=output4)"
   ]
  },
  {
   "cell_type": "code",
   "execution_count": null,
   "metadata": {},
   "outputs": [],
   "source": [
    "x5 = vgg_model.get_layer('block5_pool').output\n",
    "output5 = GlobalMaxPooling2D()(x5)\n",
    "block_model5 = Model(inputs=vgg_model.input, outputs=output5)"
   ]
  },
  {
   "cell_type": "code",
   "execution_count": null,
   "metadata": {},
   "outputs": [],
   "source": [
    "block1 = block_model1.predict(x_train)\n",
    "block2 = block_model2.predict(x_train)\n",
    "block3 = block_model3.predict(x_train)\n",
    "block4 = block_model4.predict(x_train)\n",
    "block5 = block_model5.predict(x_train)"
   ]
  },
  {
   "cell_type": "code",
   "execution_count": null,
   "metadata": {},
   "outputs": [],
   "source": [
    "print(block1.shape)\n",
    "print(block2.shape)\n",
    "print(block3.shape)\n",
    "print(block4.shape)\n",
    "print(block5.shape)"
   ]
  },
  {
   "cell_type": "markdown",
   "metadata": {},
   "source": [
    "# block1の特徴ベクトル"
   ]
  },
  {
   "cell_type": "code",
   "execution_count": null,
   "metadata": {},
   "outputs": [],
   "source": [
    "pca = PCA()"
   ]
  },
  {
   "cell_type": "code",
   "execution_count": null,
   "metadata": {},
   "outputs": [],
   "source": [
    "cm_name = 'jet'\n",
    "cmap = plt.get_cmap(cm_name, num_s_class)"
   ]
  },
  {
   "cell_type": "code",
   "execution_count": null,
   "metadata": {},
   "outputs": [],
   "source": [
    "# one-hotから整数値ベクトルに変換\n",
    "y_train_vec = []\n",
    "for i in range(len(y_train)):\n",
    "    y_train_vec.append(np.argmax(y_train[i]))"
   ]
  },
  {
   "cell_type": "code",
   "execution_count": null,
   "metadata": {},
   "outputs": [],
   "source": [
    "feature1 = pca.fit_transform(block1)\n",
    "#　主成分分析の例(1層目)\n",
    "df_feature1 = pd.DataFrame(feature1)\n",
    "print(df_feature1)"
   ]
  },
  {
   "cell_type": "code",
   "execution_count": null,
   "metadata": {},
   "outputs": [],
   "source": [
    "plt.scatter(feature1[:,0],feature1[:,1], marker=\".\", c=y_train_vec, cmap=cmap)\n",
    "plt.xlabel(\"PC1\")\n",
    "plt.ylabel(\"PC2\")\n",
    "plt.colorbar()\n",
    "plt.show()"
   ]
  },
  {
   "cell_type": "code",
   "execution_count": null,
   "metadata": {},
   "outputs": [],
   "source": [
    "pca.fit(block1)\n",
    "ev_ratio = pca.explained_variance_ratio_\n",
    "ev_ratio = np.hstack([0, ev_ratio.cumsum()])\n",
    "plt.xlabel(\"num of components\")\n",
    "plt.ylabel(\"explained variance ratio\")\n",
    "plt.plot(ev_ratio)\n",
    "plt.show()"
   ]
  },
  {
   "cell_type": "markdown",
   "metadata": {},
   "source": [
    "# block2の特徴ベクトル "
   ]
  },
  {
   "cell_type": "code",
   "execution_count": null,
   "metadata": {},
   "outputs": [],
   "source": [
    "feature2 = pca.fit_transform(block2)"
   ]
  },
  {
   "cell_type": "code",
   "execution_count": null,
   "metadata": {},
   "outputs": [],
   "source": [
    "plt.scatter(feature2[:,0],feature2[:,1], marker=\".\", c=y_train_vec, cmap=cmap)\n",
    "plt.xlabel(\"PC1\")\n",
    "plt.ylabel(\"PC2\")\n",
    "plt.colorbar()\n",
    "plt.show()"
   ]
  },
  {
   "cell_type": "code",
   "execution_count": null,
   "metadata": {},
   "outputs": [],
   "source": [
    "pca.fit(block2)\n",
    "ev_ratio = pca.explained_variance_ratio_\n",
    "ev_ratio = np.hstack([0, ev_ratio.cumsum()])\n",
    "plt.xlabel(\"num of components\")\n",
    "plt.ylabel(\"explained variance ratio\")\n",
    "plt.plot(ev_ratio)\n",
    "plt.show()"
   ]
  },
  {
   "cell_type": "markdown",
   "metadata": {},
   "source": [
    "# block3の特徴ベクトル "
   ]
  },
  {
   "cell_type": "code",
   "execution_count": null,
   "metadata": {},
   "outputs": [],
   "source": [
    "feature3 = pca.fit_transform(block3)"
   ]
  },
  {
   "cell_type": "code",
   "execution_count": null,
   "metadata": {},
   "outputs": [],
   "source": [
    "plt.scatter(feature3[:,0],feature3[:,1], marker=\".\", c=y_train_vec, cmap=cmap)\n",
    "plt.xlabel(\"PC1\")\n",
    "plt.ylabel(\"PC2\")\n",
    "plt.colorbar()\n",
    "plt.show()"
   ]
  },
  {
   "cell_type": "code",
   "execution_count": null,
   "metadata": {},
   "outputs": [],
   "source": [
    "pca.fit(block3)\n",
    "ev_ratio = pca.explained_variance_ratio_\n",
    "ev_ratio = np.hstack([0, ev_ratio.cumsum()])\n",
    "plt.xlabel(\"num of components\")\n",
    "plt.ylabel(\"explained variance ratio\")\n",
    "plt.plot(ev_ratio)\n",
    "plt.show()"
   ]
  },
  {
   "cell_type": "markdown",
   "metadata": {},
   "source": [
    "# block4の特徴ベクトル"
   ]
  },
  {
   "cell_type": "code",
   "execution_count": null,
   "metadata": {},
   "outputs": [],
   "source": [
    "feature4 = pca.fit_transform(block4)"
   ]
  },
  {
   "cell_type": "code",
   "execution_count": null,
   "metadata": {},
   "outputs": [],
   "source": [
    "plt.scatter(feature4[:,0],feature4[:,1], marker=\".\", c=y_train_vec, cmap=cmap)\n",
    "plt.xlabel(\"PC1\")\n",
    "plt.ylabel(\"PC2\")\n",
    "plt.colorbar()\n",
    "plt.show()"
   ]
  },
  {
   "cell_type": "code",
   "execution_count": null,
   "metadata": {},
   "outputs": [],
   "source": [
    "pca.fit(block4)\n",
    "ev_ratio = pca.explained_variance_ratio_\n",
    "ev_ratio = np.hstack([0, ev_ratio.cumsum()])\n",
    "plt.xlabel(\"num of components\")\n",
    "plt.ylabel(\"explained variance ratio\")\n",
    "plt.plot(ev_ratio)\n",
    "plt.show()"
   ]
  },
  {
   "cell_type": "markdown",
   "metadata": {},
   "source": [
    "# block5の特徴ベクトル "
   ]
  },
  {
   "cell_type": "code",
   "execution_count": null,
   "metadata": {},
   "outputs": [],
   "source": [
    "feature5 = pca.fit_transform(block5)"
   ]
  },
  {
   "cell_type": "code",
   "execution_count": null,
   "metadata": {},
   "outputs": [],
   "source": [
    "plt.scatter(feature5[:,0],feature5[:,1],marker=\".\", c=y_train_vec, cmap=cmap)\n",
    "plt.xlabel(\"PC1\")\n",
    "plt.ylabel(\"PC2\")\n",
    "plt.colorbar()\n",
    "plt.show()"
   ]
  },
  {
   "cell_type": "code",
   "execution_count": null,
   "metadata": {},
   "outputs": [],
   "source": [
    "pca.fit(block5)\n",
    "ev_ratio = pca.explained_variance_ratio_\n",
    "ev_ratio = np.hstack([0, ev_ratio.cumsum()])\n",
    "plt.xlabel(\"num of components\")\n",
    "plt.ylabel(\"explained variance ratio\")\n",
    "plt.plot(ev_ratio)\n",
    "plt.show()"
   ]
  },
  {
   "cell_type": "code",
   "execution_count": null,
   "metadata": {},
   "outputs": [],
   "source": [
    "from mpl_toolkits.mplot3d import Axes3D"
   ]
  },
  {
   "cell_type": "code",
   "execution_count": null,
   "metadata": {},
   "outputs": [],
   "source": [
    "ax = plt.figure().add_subplot(111, projection='3d')\n",
    "ax.scatter(feature5[:,0],feature5[:,1], feature5[:,3], marker=\".\", c=y_train_vec, cmap=cmap)\n",
    "ax.set_xlabel(\"PC1\")\n",
    "ax.set_ylabel(\"PC2\")\n",
    "ax.set_zlabel(\"PC3\")\n",
    "plt.show()"
   ]
  },
  {
   "cell_type": "markdown",
   "metadata": {},
   "source": [
    "# grad-cam"
   ]
  },
  {
   "cell_type": "code",
   "execution_count": null,
   "metadata": {},
   "outputs": [],
   "source": [
    "from tensorflow.keras.preprocessing import image\n",
    "from tensorflow.keras.applications.vgg16 import preprocess_input"
   ]
  },
  {
   "cell_type": "code",
   "execution_count": null,
   "metadata": {},
   "outputs": [],
   "source": [
    "true = []\n",
    "for i in range(num_s_class):\n",
    "    true.append(i)"
   ]
  },
  {
   "cell_type": "code",
   "execution_count": null,
   "metadata": {},
   "outputs": [],
   "source": [
    "pred = []\n",
    "\n",
    "grad_last_conv = full_model.get_layer(\"block5_conv3\")\n",
    "model_output = full_model.output[:,0]\n",
    "grads = K.gradients(model_output, grad_last_conv.output)[0]\n",
    "pooled_grads = K.mean(grads, axis=(0,1,2))\n",
    "iterate = K.function([full_model.input], [pooled_grads, grad_last_conv.output[0]])\n",
    "\n",
    "for n in range(len(grad_lab_img)):\n",
    "    img_keras = image.load_img(grad_lab_img[n], target_size=(224, 224))\n",
    "    img_tensor = image.img_to_array(img_keras)\n",
    "    img_tensor = np.expand_dims(img_tensor, axis=0)\n",
    "    predicts = full_model.predict(img_tensor)\n",
    "    s_class_num = np.argmax(predicts)\n",
    "    pred.append(s_class_num)\n",
    "    img_tensor /= 255.\n",
    "    pooled_grads_val, conv_output_val = iterate([img_tensor])\n",
    "    for i in range(pooled_grads_val.shape[0]):\n",
    "        conv_output_val[:, :, i] *= pooled_grads_val[i]\n",
    "    heatmap = np.mean(conv_output_val, axis=-1)\n",
    "    heatmap = np.maximum(heatmap, 0)\n",
    "    heatmap /= np.max(heatmap)\n",
    "    img = cv2.imread(grad_lab_img[n])\n",
    "    heatmap = cv2.resize(heatmap, (img.shape[1], img.shape[0]))\n",
    "    heatmap = np.uint8(255 * heatmap)\n",
    "    heatmap = cv2.applyColorMap(heatmap, cv2.COLORMAP_JET)\n",
    "    superimposed_img = heatmap * 0.4 + img\n",
    "    save_dir = '../data/gradcam_img/VGG16'\n",
    "    if not os.path.exists(save_dir):\n",
    "        os.makedirs(save_dir)\t# Make a directory\n",
    "    #保存先ディレクトリ名はその画像のクラス，画像の予測値を画像の名前に書き込む\n",
    "    cv2.imwrite(save_dir+'/heatmap_wrong_pred_'+s_classlist[s_class_num]+'_'+str(n)+'_'+'.jpg', superimposed_img)\n",
    "    print('Saved: ', save_dir+'/heatmap_wrong_pred_'+s_classlist[s_class_num]+'.jpg')"
   ]
  },
  {
   "cell_type": "markdown",
   "metadata": {},
   "source": [
    "def grad_cam(input_model, image, cls, layer_name):\n",
    "    \"\"\"GradCAM method for visualizing input saliency.\"\"\"\n",
    "    y_c = input_model.output[0, cls]\n",
    "    conv_output = input_model.get_layer(layer_name).output\n",
    "    grads = K.gradients(y_c, conv_output)[0]\n",
    "    # Normalize if necessary\n",
    "    # grads = normalize(grads)\n",
    "    gradient_function = K.function([input_model.input], [conv_output, grads])\n",
    "\n",
    "    output, grads_val = gradient_function([image])\n",
    "    output, grads_val = output[0, :], grads_val[0, :, :, :]\n",
    "\n",
    "    weights = np.mean(grads_val, axis=(0, 1))\n",
    "    cam = np.dot(output, weights)\n",
    "\n",
    "    # Process CAM\n",
    "    cam = cv2.resize(cam, (W, H), cv2.INTER_LINEAR)\n",
    "    cam = np.maximum(cam, 0)\n",
    "    cam_max = cam.max() \n",
    "    if cam_max != 0: \n",
    "        cam = cam / cam_max\n",
    "    return cam\n"
   ]
  },
  {
   "cell_type": "markdown",
   "metadata": {},
   "source": [
    "for n in range(len(grad_lab_img)):\n",
    "    cam = grad_cam(input_model=full_model, image=grad_lab_img[n], cls=-1, layer_name=\"block5_conv3\")\n",
    "    save_dir = '../data/gradcam_test/VGG16'\n",
    "    if not os.path.exists(save_dir):\n",
    "        os.makedirs(save_dir)\t# Make a directory\n",
    "    #保存先ディレクトリ名はその画像のクラス，画像の予測値を画像の名前に書き込む\n",
    "    cv2.imwrite(save_dir+'/heatmap_wrong_pred_'+s_classlist[s_class_num]+'_'+str(n)+'_'+'.jpg', cam)\n",
    "    print('Saved: ', save_dir+'/heatmap_wrong_pred_'+s_classlist[s_class_num]+'.jpg')"
   ]
  },
  {
   "cell_type": "code",
   "execution_count": null,
   "metadata": {},
   "outputs": [],
   "source": [
    "df_grad = pd.DataFrame(grad_lab_img)\n",
    "df_grad"
   ]
  },
  {
   "cell_type": "code",
   "execution_count": null,
   "metadata": {},
   "outputs": [],
   "source": [
    "cmx = confusion_matrix(true, pred)\n",
    "plt.figure(figsize=(12,12))\n",
    "sns.heatmap(cmx, annot=True)\n",
    "plt.ylabel(\"truth\")\n",
    "plt.xlabel(\"prediction\")\n",
    "plt.show()"
   ]
  },
  {
   "cell_type": "code",
   "execution_count": null,
   "metadata": {},
   "outputs": [],
   "source": [
    "cor_table = pd.read_csv('cor_table.csv')\n",
    "print(cor_table)"
   ]
  },
  {
   "cell_type": "markdown",
   "metadata": {},
   "source": [
    "prediction->edge ==> padding"
   ]
  }
 ],
 "metadata": {
  "kernelspec": {
   "display_name": "Python 3",
   "language": "python",
   "name": "python3"
  },
  "language_info": {
   "codemirror_mode": {
    "name": "ipython",
    "version": 3
   },
   "file_extension": ".py",
   "mimetype": "text/x-python",
   "name": "python",
   "nbconvert_exporter": "python",
   "pygments_lexer": "ipython3",
   "version": "3.7.4"
  }
 },
 "nbformat": 4,
 "nbformat_minor": 2
}
