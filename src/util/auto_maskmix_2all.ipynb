{
 "cells": [
  {
   "cell_type": "code",
   "execution_count": null,
   "metadata": {},
   "outputs": [],
   "source": [
    "import pandas as pd\n",
    "import numpy as np\n",
    "import cv2\n",
    "from PIL import Image, ImageDraw, ImageFilter, ImageOps\n",
    "import random\n",
    "import os\n",
    "import auto_maskmix_util\n",
    "import matplotlib.pyplot as plt"
   ]
  },
  {
   "cell_type": "code",
   "execution_count": null,
   "metadata": {},
   "outputs": [],
   "source": [
    "save_dir = \"\""
   ]
  },
  {
   "cell_type": "code",
   "execution_count": null,
   "metadata": {},
   "outputs": [],
   "source": [
    "mask_cube = pd.read_csv(\"\", names=[\"path\", \"data\", \"mask_cube\"])\n",
    "mix_img = pd.read_csv(\"\", names=[\"path\", \"data\", \"mix_img\"])"
   ]
  },
  {
   "cell_type": "code",
   "execution_count": null,
   "metadata": {},
   "outputs": [],
   "source": [
    "mask_cube = mask_cube.drop([\"data\", \"mask_cube\"], axis=1)\n",
    "mix_img = mix_img.drop([\"data\", \"mix_img\"], axis=1)"
   ]
  },
  {
   "cell_type": "code",
   "execution_count": null,
   "metadata": {},
   "outputs": [],
   "source": [
    "mask_cube[\"head\"] = mask_cube.path.str.split(\"/\", expand=True)[8]"
   ]
  },
  {
   "cell_type": "code",
   "execution_count": null,
   "metadata": {},
   "outputs": [],
   "source": [
    "bg_mask = mask_cube[mask_cube[\"head\"].str.contains(\"mask\")]"
   ]
  },
  {
   "cell_type": "code",
   "execution_count": null,
   "metadata": {},
   "outputs": [],
   "source": [
    "bg_mask = bg_mask.sort_values(\"head\")\n",
    "bg_mask = bg_mask.reset_index(drop=True)\n",
    "bg_mask"
   ]
  },
  {
   "cell_type": "code",
   "execution_count": null,
   "metadata": {},
   "outputs": [],
   "source": [
    "background = mask_cube[mask_cube[\"head\"].str.contains(\"mask\") == False]"
   ]
  },
  {
   "cell_type": "code",
   "execution_count": null,
   "metadata": {},
   "outputs": [],
   "source": [
    "background = background.sort_values(\"head\")\n",
    "background = background.reset_index(drop=True)\n",
    "background"
   ]
  },
  {
   "cell_type": "code",
   "execution_count": null,
   "metadata": {},
   "outputs": [],
   "source": [
    "mix_img = mix_img.sort_values(\"path\")\n",
    "mix_img = mix_img.reset_index(drop=True)\n",
    "print(mix_img.path[0])"
   ]
  },
  {
   "cell_type": "code",
   "execution_count": null,
   "metadata": {},
   "outputs": [],
   "source": [
    "fg_mask = pd.read_csv(\"/home/tamaru/scene_categorize/main/data/mask.csv\", names=[\"path\", \"data\", \"mix_img\"])\n",
    "fg_mask = fg_mask.drop([\"data\", \"mix_img\"], axis=1)\n",
    "fg_mask = fg_mask.sort_values(\"path\")\n",
    "fg_mask = fg_mask.reset_index(drop=True)\n",
    "print(fg_mask.path[0])"
   ]
  },
  {
   "cell_type": "code",
   "execution_count": null,
   "metadata": {},
   "outputs": [],
   "source": [
    "def auto_maskmix(FG_IMG, BG_IMG, SPEC_BG_IMG, fg_mask):\n",
    "    foreground = Image.open(FG_IMG)\n",
    "    background = Image.open(BG_IMG)\n",
    "    foreground = foreground.resize((256,256))\n",
    "    background = background.resize((256,256))\n",
    "    fg_mask = Image.open(fg_mask)\n",
    "#     fg_mask = ImageOps.invert(fg_mask)\n",
    "    mask_im = fg_mask.resize(foreground.size).convert(\"L\")\n",
    "    \n",
    "    coord = auto_maskmix_util.foreground_random_sampling(BG_IMG, SPEC_BG_IMG)\n",
    "    \n",
    "    back_im = background.copy()\n",
    "    x, y = coord\n",
    "    rate = np.random.rand()*0.5 + 0.5\n",
    "    rotate = random.randint(0,360)\n",
    "    foreground_ = foreground.resize((int(foreground.width*rate), int(foreground.height*rate))).rotate(rotate)\n",
    "    mask_im_ = mask_im.resize((int(mask_im.width*rate), int(mask_im.height*rate))).rotate(rotate)\n",
    "    #前景画像の配置位置の座標は前景画像の左上なので，中心に平行移動する->未完成\n",
    "    back_im.paste(foreground_, (int(x-foreground_.size[0]/2), int(y-foreground_.size[1]/2)), mask_im_)\n",
    "    print(\"Foreground center coordinate\", int(x-foreground_.size[0]/2), int(y-foreground_.size[1]/2))\n",
    "    print(\"Foreground Rate:\", rate)\n",
    "    print(\"Foreground Size\", foreground_.size[1])\n",
    "    return back_im\n",
    "    "
   ]
  },
  {
   "cell_type": "code",
   "execution_count": null,
   "metadata": {},
   "outputs": [],
   "source": [
    "def auto_maskmix_2all(background, bg_mask, mix_img, fg_mask):\n",
    "    bg_col_name = background.columns.values\n",
    "    bg_mask_col_name = bg_mask.columns.values\n",
    "    mix_col_name = mix_img.columns.values\n",
    "    background_np = np.array(background)\n",
    "    bg_mask_np = np.array(bg_mask)\n",
    "    mix_img_np = np.array(mix_img)\n",
    "    fg_mask_np = np.array(fg_mask)\n",
    "    fg_mask_col_name = fg_mask.columns.values\n",
    "    i = 0\n",
    "    while(background_np[i][bg_col_name.tolist().index(\"path\")] is not None):\n",
    "        rand_mix = random.randint(0,len(mix_img_np)-1)\n",
    "        print(\"Foreground:\", rand_mix)\n",
    "        back_im = auto_maskmix(mix_img_np[rand_mix][0], background_np[i][bg_col_name.tolist().index(\"path\")], bg_mask_np[i][bg_mask_col_name.tolist().index(\"path\")], fg_mask_np[rand_mix][0])\n",
    "        back_im.save(save_dir+\"/\"+background_np[i][bg_col_name.tolist().index(\"head\")])\n",
    "        i += 1\n",
    "        print(\"------------\")\n",
    "    "
   ]
  },
  {
   "cell_type": "code",
   "execution_count": null,
   "metadata": {},
   "outputs": [],
   "source": [
    "auto_maskmix_2all(background,bg_mask,mix_img, fg_mask)"
   ]
  },
  {
   "cell_type": "markdown",
   "execution_count": null,
   "metadata": {},
   "outputs": [],
   "source": [
    "mix_img_ = pd.read_csv(\"/home/tamaru/scene_categorize/main/data/mix_img.csv\", names=[\"path\", \"data\", \"mix_img\"])\n",
    "mix_img_ = mix_img_.drop([\"data\", \"mix_img\"], axis=1)"
   ]
  },
  {
   "cell_type": "markdown",
   "execution_count": null,
   "metadata": {},
   "outputs": [],
   "source": [
    "def mask_with_grabcut(FG_IMG):\n",
    "    bgr = cv2.imread(FG_IMG)\n",
    "    bgr = cv2.cvtColor(bgr, cv2.COLOR_RGB2BGR)\n",
    "    h, w = bgr.shape[:2]\n",
    "    mask = np.zeros((h,w), dtype = np.uint8)\n",
    "    bgdModel = np.zeros((1,65),np.float64)\n",
    "    fgdModel = np.zeros((1,65),np.float64)\n",
    "    rect=(1,1,w,h)\n",
    "    cv2.grabCut(bgr, mask, rect, bgdModel, fgdModel, 10, cv2.GC_INIT_WITH_RECT)\n",
    "    mask2 = np.where((mask==2)|(mask==0),0,1).astype('uint8')\n",
    "    bgr2 = bgr*mask2[:,:,np.newaxis]\n",
    "    bgr2 = cv2.resize(bgr2, (256,256))\n",
    "    # 輪郭抽出する。\n",
    "    contours, _ = cv2.findContours(bgr2, cv2.RETR_EXTERNAL, cv2.CHAIN_APPROX_SIMPLE)\n",
    "    # 検出された輪郭内部を255で塗りつぶす。\n",
    "    mask = np.zeros_like(bgr2)\n",
    "    cv2.drawContours(mask, contours, -1, color=(255,255,255), thickness=-1)\n",
    "\n",
    "    # 以上の手順で前景画像のうち、合成する画素を255としたマスク画像が作成できた。\n",
    "    mask = cv2.resize(mask, (256,256))\n",
    "    return mask\n"
   ]
  },
  {
   "cell_type": "markdown",
   "execution_count": null,
   "metadata": {},
   "outputs": [],
   "source": [
    "mix_img_np = np.array(mix_img_)\n",
    "for row in mix_img_np: \n",
    "    print(row[0])\n",
    "    print(row[0].split(\"/\")[-1])\n",
    "    mask = mask_with_grabcut(row[0])\n",
    "    cv2.imwrite(\"/home/tamaru/scene_categorize/main/data/mask/\"+row[0].split(\"/\")[-1],mask)"
   ]
  },
  {
   "cell_type": "markdown",
   "execution_count": null,
   "metadata": {},
   "outputs": [],
   "source": [
    "mix_img_np = np.array(mix_img)\n",
    "for row in mix_img_np: \n",
    "    print(row[0])\n",
    "    print(row[0].split(\"/\")[-1])\n",
    "    image = cv2.imread(row[0], cv2.IMREAD_GRAYSCALE)\n",
    "    # 2値化する。\n",
    "    _, binary = cv2.threshold(image, 10, 255, cv2.THRESH_TOZERO)\n",
    "    # 輪郭抽出する。\n",
    "    contours, _ = cv2.findContours(binary, cv2.RETR_EXTERNAL, cv2.CHAIN_APPROX_SIMPLE)\n",
    "    # 検出された輪郭内部を255で塗りつぶす。\n",
    "    mask = np.zeros_like(image)\n",
    "    cv2.drawContours(mask, contours, -1, color=(255,255,255), thickness=-1)\n",
    "    mask =cv2.resize(mask, (256,256))\n",
    "    cv2.imwrite(\"/home/tamaru/scene_categorize/main/data/mask/\"+row[0].split(\"/\")[-1],mask)"
   ]
  },
  {
   "cell_type": "code",
   "execution_count": null,
   "metadata": {},
   "outputs": [],
   "source": []
  }
 ],
 "metadata": {
  "kernelspec": {
   "display_name": "Python 3",
   "language": "python",
   "name": "python3"
  },
  "language_info": {
   "codemirror_mode": {
    "name": "ipython",
    "version": 3
   },
   "file_extension": ".py",
   "mimetype": "text/x-python",
   "name": "python",
   "nbconvert_exporter": "python",
   "pygments_lexer": "ipython3",
   "version": "3.6.8"
  }
 },
 "nbformat": 4,
 "nbformat_minor": 2
}