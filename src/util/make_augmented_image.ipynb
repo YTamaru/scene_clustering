{
 "cells": [
  {
   "cell_type": "code",
   "execution_count": null,
   "metadata": {},
   "outputs": [],
   "source": [
    "import pandas as pd\n",
    "import numpy as np\n",
    "import cv2\n",
    "from PIL import Image, ImageDraw, ImageFilter, ImageOps\n",
    "import random\n",
    "import os\n",
    "import auto_maskmix_util\n",
    "import matplotlib.pyplot as plt"
   ]
  },
  {
   "cell_type": "code",
   "execution_count": null,
   "metadata": {},
   "outputs": [],
   "source": [
    "save_dir_lab = \"\"\n",
    "save_dir_professorroom = \"\""
   ]
  },
  {
   "cell_type": "code",
   "execution_count": null,
   "metadata": {},
   "outputs": [],
   "source": [
    "lab_bg_mask = pd.read_csv(\"\", names=[\"path\", \"data\", \"mask_cube\"])\n",
    "professorroom_bg_mask = pd.read_csv(\"\", names=[\"path\", \"data\", \"mask_cube\"])\n",
    "lab_mix_img = pd.read_csv(\"\", names=[\"path\", \"data\", \"mix_img\"])\n",
    "professorroom_mix_img = pd.read_csv(\"\", names=[\"path\", \"data\", \"mix_img\"])"
   ]
  },
  {
   "cell_type": "code",
   "execution_count": null,
   "metadata": {},
   "outputs": [],
   "source": [
    "lab_bg_mask = lab_bg_mask.drop([\"data\", \"mask_cube\"], axis=1)\n",
    "lab_mix_img = lab_mix_img.drop([\"data\", \"mix_img\"], axis=1)\n",
    "professorroom_bg_mask = professorroom_bg_mask.drop([\"data\", \"mask_cube\"], axis=1)\n",
    "professroroom_mix_img = professorroom_mix_img.drop([\"data\", \"mix_img\"], axis=1)"
   ]
  },
  {
   "cell_type": "code",
   "execution_count": null,
   "metadata": {},
   "outputs": [],
   "source": [
    "lab_bg_mask"
   ]
  },
  {
   "cell_type": "code",
   "execution_count": null,
   "metadata": {},
   "outputs": [],
   "source": [
    "lab_bg_mask = lab_bg_mask.sort_values(\"path\")\n",
    "lab_bg_mask = lab_bg_mask.reset_index(drop=True)\n",
    "lab_bg_mask"
   ]
  },
  {
   "cell_type": "code",
   "execution_count": null,
   "metadata": {},
   "outputs": [],
   "source": [
    "professorroom_bg_mask = professorroom_bg_mask.sort_values(\"path\")\n",
    "professorroom_bg_mask = professorroom_bg_mask.reset_index(drop=True)\n",
    "professorroom_bg_mask"
   ]
  },
  {
   "cell_type": "code",
   "execution_count": null,
   "metadata": {},
   "outputs": [],
   "source": [
    "lab_mix_img = lab_mix_img.sort_values(\"path\")\n",
    "lab_mix_img = lab_mix_img.reset_index(drop=True)\n",
    "print(lab_mix_img.path[0])"
   ]
  },
  {
   "cell_type": "code",
   "execution_count": null,
   "metadata": {},
   "outputs": [],
   "source": [
    "professorroom_mix_img = professorroom_mix_img.sort_values(\"path\")\n",
    "professorroom_mix_img = professorroom_mix_img.reset_index(drop=True)\n",
    "print(professorroom_mix_img.path[0])"
   ]
  },
  {
   "cell_type": "code",
   "execution_count": null,
   "metadata": {},
   "outputs": [],
   "source": [
    "background = pd.read_csv(\"s\", names=[\"path\", \"data\", \"mask_cube\"])\n",
    "background = background.drop([\"data\"], axis=1)\n",
    "lab_background = background[background.mask_cube==\"lab\"]\n",
    "professorroom_background = background[background.mask_cube==\"professorroom\"]"
   ]
  },
  {
   "cell_type": "code",
   "execution_count": null,
   "metadata": {},
   "outputs": [],
   "source": [
    "lab_background = lab_background.drop([\"mask_cube\"], axis=1)\n",
    "professorroom_background = professorroom_background.drop([\"mask_cube\"], axis=1)\n",
    "lab_background = lab_background.sort_values(\"path\")\n",
    "lab_background = lab_background.reset_index(drop=True)\n",
    "professorroom_background = professorroom_background.sort_values(\"path\")\n",
    "professorroom_background = professorroom_background.reset_index(drop=True)"
   ]
  },
  {
   "cell_type": "code",
   "execution_count": null,
   "metadata": {},
   "outputs": [],
   "source": [
    "lab_background"
   ]
  },
  {
   "cell_type": "markdown",
   "execution_count": null,
   "metadata": {},
   "outputs": [],
   "source": [
    "def auto_maskmix(FG_IMG, BG_IMG, SPEC_BG_IMG, fg_mask):\n",
    "    foreground = Image.open(FG_IMG)\n",
    "    background = Image.open(BG_IMG)\n",
    "    foreground = foreground.resize((256,256))\n",
    "    background = background.resize((256,256))\n",
    "    fg_mask = Image.open(fg_mask)\n",
    "#     fg_mask = ImageOps.invert(fg_mask)\n",
    "    mask_im = fg_mask.resize(foreground.size).convert(\"L\")\n",
    "    \n",
    "    coord = auto_maskmix_util.foreground_random_sampling(BG_IMG, SPEC_BG_IMG)\n",
    "    \n",
    "    back_im = background.copy()\n",
    "    x, y = coord\n",
    "    rate = np.random.rand()*0.5 + 0.5\n",
    "    rotate = random.randint(0,360)\n",
    "    foreground_ = foreground.resize((int(foreground.width*rate), int(foreground.height*rate))).rotate(rotate)\n",
    "    mask_im_ = mask_im.resize((int(mask_im.width*rate), int(mask_im.height*rate))).rotate(rotate)\n",
    "    #前景画像の配置位置の座標は前景画像の左上なので，中心に平行移動する->未完成\n",
    "    back_im.paste(foreground_, (int(x-foreground_.size[0]/2), int(y-foreground_.size[1]/2)), mask_im_)\n",
    "    print(\"Foreground center coordinate\", int(x-foreground_.size[0]/2), int(y-foreground_.size[1]/2))\n",
    "    print(\"Foreground Rate:\", rate)\n",
    "    print(\"Foreground Size\", foreground_.size[1])\n",
    "    return back_im\n",
    "    "
   ]
  },
  {
   "cell_type": "markdown",
   "execution_count": null,
   "metadata": {},
   "outputs": [],
   "source": [
    "def auto_maskmix(FG_IMG, BG_IMG, SPEC_BG_IMG):\n",
    "    foreground = Image.open(FG_IMG)\n",
    "    background = Image.open(BG_IMG)\n",
    "    foreground = foreground.resize((256,256))\n",
    "    background = background.resize((256,256))\n",
    "    \n",
    "    coord = auto_maskmix_util.foreground_random_sampling(BG_IMG, SPEC_BG_IMG)\n",
    "    \n",
    "    back_im = background.copy()\n",
    "    x, y = coord\n",
    "    rate = np.random.rand()*0.5 + 0.5\n",
    "    rotate = random.randint(0,360)\n",
    "    foreground_ = foreground.resize((int(foreground.width*rate), int(foreground.height*rate))).rotate(rotate)\n",
    "    #前景画像の配置位置の座標は前景画像の左上なので，中心に平行移動する->未完成\n",
    "    back_im.paste(foreground_, (int(x-foreground_.size[0]/2), int(y-foreground_.size[1]/2)))\n",
    "    print(\"Foreground center coordinate\", int(x-foreground_.size[0]/2), int(y-foreground_.size[1]/2))\n",
    "    print(\"Foreground Rate:\", rate)\n",
    "    print(\"Foreground Size\", foreground_.size[1])\n",
    "    return back_im"
   ]
  },
  {
   "cell_type": "code",
   "execution_count": null,
   "metadata": {},
   "outputs": [],
   "source": [
    "class cv2OverlayImage(object):\n",
    "    \"\"\"\n",
    "    [summary]\n",
    "      Opencv2形式の画像に指定画像を重ねる\n",
    "    \"\"\"\n",
    "\n",
    "    def __init__(self):\n",
    "        pass\n",
    "\n",
    "    @classmethod\n",
    "    def overlay(\n",
    "            cls,\n",
    "            cv2_background_image,\n",
    "            cv2_overlay_image,\n",
    "            point,\n",
    "    ):\n",
    "        \"\"\"\n",
    "        [summary]\n",
    "          Opencv2形式の画像に指定画像を重ねる\n",
    "        Parameters\n",
    "        ----------\n",
    "        cv2_background_image : [Opencv2 Image]\n",
    "        cv2_overlay_image : [Opencv2 Image]\n",
    "        point : [(x, y)]\n",
    "        Returns : [Opencv2 Image]\n",
    "        \"\"\"\n",
    "        overlay_height, overlay_width = cv2_overlay_image.shape[:2]\n",
    "\n",
    "        # Opencv2形式の画像をPIL形式に変換(α値含む)\n",
    "        # 背景画像ユーザー\n",
    "        cv2_rgb_bg_image = cv2.cvtColor(cv2_background_image, cv2.COLOR_BGR2RGB)\n",
    "        pil_rgb_bg_image = Image.fromarray(cv2_rgb_bg_image)\n",
    "        pil_rgba_bg_image = pil_rgb_bg_image.convert('RGBA')\n",
    "        # オーバーレイ画像\n",
    "        cv2_rgb_ol_image = cv2.cvtColor(cv2_overlay_image, cv2.COLOR_BGRA2RGBA)\n",
    "        pil_rgb_ol_image = Image.fromarray(cv2_rgb_ol_image)\n",
    "        pil_rgba_ol_image = pil_rgb_ol_image.convert('RGBA')\n",
    "        # composite()は同サイズ画像同士が必須のため、合成用画像を用意\n",
    "        pil_rgba_bg_temp = Image.new('RGBA', pil_rgba_bg_image.size,\n",
    "                                     (255, 255, 255, 0))\n",
    "        # 座標を指定し重ね合わせる\n",
    "        pil_rgba_bg_temp.paste(pil_rgba_ol_image, point, pil_rgba_ol_image)\n",
    "        result_image = \\\n",
    "            Image.alpha_composite(pil_rgba_bg_image, pil_rgba_bg_temp)\n",
    "\n",
    "        # Opencv2形式画像へ変換\n",
    "        cv2_bgr_result_image = cv2.cvtColor(\n",
    "            np.asarray(result_image), cv2.COLOR_RGBA2BGRA)\n",
    "\n",
    "        return cv2_bgr_result_image"
   ]
  },
  {
   "cell_type": "code",
   "execution_count": null,
   "metadata": {},
   "outputs": [],
   "source": [
    "def auto_maskmix(FG_IMG, BG_IMG, SPEC_BG_IMG):\n",
    "    foreground = cv2.imread(FG_IMG, cv2.IMREAD_UNCHANGED)\n",
    "    background = cv2.imread(BG_IMG)\n",
    "    foreground = cv2.resize(foreground, (256,256))\n",
    "    background = cv2.resize(background, (256,256))\n",
    "    \n",
    "    coord = auto_maskmix_util.foreground_random_sampling(BG_IMG, SPEC_BG_IMG)\n",
    "    \n",
    "    back_im = background.copy()\n",
    "    x, y = coord\n",
    "    rate = np.random.rand()*0.2 + 0.2\n",
    "    rotate = random.randint(0,360)\n",
    "    size = (int(foreground.shape[1]*rate), int(foreground.shape[1]*rate))\n",
    "    foreground_ = cv2.resize(foreground, size)\n",
    "    #前景画像の配置位置の座標は前景画像の左上なので，中心に平行移動する->未完成\n",
    "    point = (int(x-foreground_.shape[1]/2), int(y-foreground_.shape[0]/2))\n",
    "    back_im = cv2OverlayImage.overlay(background ,foreground_, point)\n",
    "    print(\"Foreground center coordinate\", int(x-foreground_.shape[0]/2), int(y-foreground_.shape[1]/2))\n",
    "    print(\"Foreground Rate:\", rate)\n",
    "    print(\"Foreground Size\", foreground_.shape[1])\n",
    "    return back_im"
   ]
  },
  {
   "cell_type": "code",
   "execution_count": null,
   "metadata": {},
   "outputs": [],
   "source": [
    "def auto_maskmix_2all(background, bg_mask, mix_img, save_dir):\n",
    "    bg_col_name = background.columns.values\n",
    "    bg_mask_col_name = bg_mask.columns.values\n",
    "    mix_col_name = mix_img.columns.values\n",
    "    background_np = np.array(background)\n",
    "    bg_mask_np = np.array(bg_mask)\n",
    "    mix_img_np = np.array(mix_img)\n",
    "    i = 0\n",
    "    while(background_np[i][bg_col_name.tolist().index(\"path\")] is not None):\n",
    "        rand_mix = random.randint(0,len(mix_img_np)-1)\n",
    "        print(\"Foreground:\", rand_mix)\n",
    "        back_im = auto_maskmix(mix_img_np[rand_mix][0], background_np[i][bg_col_name.tolist().index(\"path\")], bg_mask_np[i][bg_mask_col_name.tolist().index(\"path\")])\n",
    "        cv2.imwrite(save_dir+\"/\"+background_np[i][bg_col_name.tolist().index(\"path\")].split('/')[-1], back_im)\n",
    "        i += 1\n",
    "        print(\"------------\")\n",
    "    "
   ]
  },
  {
   "cell_type": "code",
   "execution_count": null,
   "metadata": {
    "scrolled": false
   },
   "outputs": [],
   "source": [
    "auto_maskmix_2all(lab_background,lab_bg_mask,lab_mix_img, save_dir_lab)"
   ]
  },
  {
   "cell_type": "code",
   "execution_count": null,
   "metadata": {},
   "outputs": [],
   "source": [
    "auto_maskmix_2all(professorroom_background,professorroom_bg_mask,professorroom_mix_img, save_dir_professorroom)"
   ]
  },
  {
   "cell_type": "markdown",
   "execution_count": null,
   "metadata": {},
   "outputs": [],
   "source": [
    "mix_img_ = pd.read_csv(\"/home/tamaru/scene_categorize/main/data/mix_img.csv\", names=[\"path\", \"data\", \"mix_img\"])\n",
    "mix_img_ = mix_img_.drop([\"data\", \"mix_img\"], axis=1)"
   ]
  },
  {
   "cell_type": "markdown",
   "execution_count": null,
   "metadata": {},
   "outputs": [],
   "source": [
    "def mask_with_grabcut(FG_IMG):\n",
    "    bgr = cv2.imread(FG_IMG)\n",
    "    bgr = cv2.cvtColor(bgr, cv2.COLOR_RGB2BGR)\n",
    "    h, w = bgr.shape[:2]\n",
    "    mask = np.zeros((h,w), dtype = np.uint8)\n",
    "    bgdModel = np.zeros((1,65),np.float64)\n",
    "    fgdModel = np.zeros((1,65),np.float64)\n",
    "    rect=(1,1,w,h)\n",
    "    cv2.grabCut(bgr, mask, rect, bgdModel, fgdModel, 10, cv2.GC_INIT_WITH_RECT)\n",
    "    mask2 = np.where((mask==2)|(mask==0),0,1).astype('uint8')\n",
    "    bgr2 = bgr*mask2[:,:,np.newaxis]\n",
    "    bgr2 = cv2.resize(bgr2, (256,256))\n",
    "    # 輪郭抽出する。\n",
    "    contours, _ = cv2.findContours(bgr2, cv2.RETR_EXTERNAL, cv2.CHAIN_APPROX_SIMPLE)\n",
    "    # 検出された輪郭内部を255で塗りつぶす。\n",
    "    mask = np.zeros_like(bgr2)\n",
    "    cv2.drawContours(mask, contours, -1, color=(255,255,255), thickness=-1)\n",
    "\n",
    "    # 以上の手順で前景画像のうち、合成する画素を255としたマスク画像が作成できた。\n",
    "    mask = cv2.resize(mask, (256,256))\n",
    "    return mask\n"
   ]
  },
  {
   "cell_type": "markdown",
   "execution_count": null,
   "metadata": {},
   "outputs": [],
   "source": [
    "mix_img_np = np.array(mix_img_)\n",
    "for row in mix_img_np: \n",
    "    print(row[0])\n",
    "    print(row[0].split(\"/\")[-1])\n",
    "    mask = mask_with_grabcut(row[0])\n",
    "    cv2.imwrite(\"/home/tamaru/scene_categorize/main/data/mask/\"+row[0].split(\"/\")[-1],mask)"
   ]
  },
  {
   "cell_type": "markdown",
   "execution_count": null,
   "metadata": {},
   "outputs": [],
   "source": [
    "mix_img_np = np.array(mix_img)\n",
    "for row in mix_img_np: \n",
    "    print(row[0])\n",
    "    print(row[0].split(\"/\")[-1])\n",
    "    image = cv2.imread(row[0], cv2.IMREAD_GRAYSCALE)\n",
    "    # 2値化する。\n",
    "    _, binary = cv2.threshold(image, 10, 255, cv2.THRESH_TOZERO)\n",
    "    # 輪郭抽出する。\n",
    "    contours, _ = cv2.findContours(binary, cv2.RETR_EXTERNAL, cv2.CHAIN_APPROX_SIMPLE)\n",
    "    # 検出された輪郭内部を255で塗りつぶす。\n",
    "    mask = np.zeros_like(image)\n",
    "    cv2.drawContours(mask, contours, -1, color=(255,255,255), thickness=-1)\n",
    "    mask =cv2.resize(mask, (256,256))\n",
    "    cv2.imwrite(\"/home/tamaru/scene_categorize/main/data/mask/\"+row[0].split(\"/\")[-1],mask)"
   ]
  }
 ],
 "metadata": {
  "kernelspec": {
   "display_name": "Python 3",
   "language": "python",
   "name": "python3"
  },
  "language_info": {
   "codemirror_mode": {
    "name": "ipython",
    "version": 3
   },
   "file_extension": ".py",
   "mimetype": "text/x-python",
   "name": "python",
   "nbconvert_exporter": "python",
   "pygments_lexer": "ipython3",
   "version": "3.6.8"
  }
 },
 "nbformat": 4,
 "nbformat_minor": 2
}