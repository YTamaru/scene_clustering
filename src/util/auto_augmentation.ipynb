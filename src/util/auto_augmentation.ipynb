{
 "cells": [
  {
   "cell_type": "code",
   "execution_count": 1,
   "metadata": {},
   "outputs": [],
   "source": [
    "import cv2\n",
    "import numpy as np\n",
    "import matplotlib.pyplot as plt\n",
    "import random\n",
    "from PIL import Image, ImageDraw, ImageFilter, ImageOps"
   ]
  },
  {
   "cell_type": "code",
   "execution_count": 2,
   "metadata": {},
   "outputs": [],
   "source": [
    "def imshow(img):\n",
    "    if img.ndim == 2:\n",
    "        plt.imshow(img, cmap=\"gray\")\n",
    "    else:\n",
    "        plt.imshow(img[..., ::-1])\n",
    "    plt.axis(\"off\")\n",
    "    plt.show()"
   ]
  },
  {
   "cell_type": "code",
   "execution_count": 10,
   "metadata": {},
   "outputs": [],
   "source": [
    "foreground = cv2.imread(\"../../data/example/dog.jpg\")\n",
    "background = cv2.imread(\"../../data/example/add_local_light.png\")\n",
    "spec_range = cv2.imread(\"../../data/example/lab_table_mask.png\")\n",
    "foreground = cv2.resize(foreground, (256,256))\n",
    "background = cv2.resize(background, (256,256))\n",
    "spec_range = cv2.resize(spec_range, (256,256))"
   ]
  },
  {
   "cell_type": "code",
   "execution_count": 11,
   "metadata": {},
   "outputs": [
    {
     "name": "stdout",
     "output_type": "stream",
     "text": [
      "[[[  0   0   0]\n",
      "  [  0   0   0]\n",
      "  [  0   0   0]\n",
      "  ...\n",
      "  [  0   0   0]\n",
      "  [  0   0   0]\n",
      "  [  0   0   0]]\n",
      "\n",
      " [[  0   0   0]\n",
      "  [  0   0   0]\n",
      "  [  0   0   0]\n",
      "  ...\n",
      "  [  0   0   0]\n",
      "  [  0   0   0]\n",
      "  [  0   0   0]]\n",
      "\n",
      " [[  0   0   0]\n",
      "  [  0   0   0]\n",
      "  [  0   0   0]\n",
      "  ...\n",
      "  [  0   0   0]\n",
      "  [  0   0   0]\n",
      "  [  0   0   0]]\n",
      "\n",
      " ...\n",
      "\n",
      " [[104 127 147]\n",
      "  [ 98 120 143]\n",
      "  [104 128 149]\n",
      "  ...\n",
      "  [116 128 136]\n",
      "  [115 127 135]\n",
      "  [115 128 136]]\n",
      "\n",
      " [[104 128 149]\n",
      "  [102 126 148]\n",
      "  [107 131 152]\n",
      "  ...\n",
      "  [114 126 134]\n",
      "  [116 128 136]\n",
      "  [115 128 136]]\n",
      "\n",
      " [[103 127 149]\n",
      "  [105 129 151]\n",
      "  [107 129 151]\n",
      "  ...\n",
      "  [111 124 132]\n",
      "  [112 124 132]\n",
      "  [114 127 135]]]\n"
     ]
    },
    {
     "data": {
      "image/png": "[encoded data removed]",
      "text/plain": [
       "<Figure size 432x288 with 1 Axes>"
      ]
     },
     "metadata": {
      "needs_background": "light"
     },
     "output_type": "display_data"
    }
   ],
   "source": [
    "lower = np.array([0,230,0],dtype=np.uint8)\n",
    "upper = np.array([180,255,255],dtype=np.uint8)\n",
    "spec_mask = cv2.inRange(spec_range, lower, upper)\n",
    "spec_bg = cv2.bitwise_and(background,background,mask=spec_mask)\n",
    "plt.imshow(spec_bg)\n",
    "print(spec_bg)\n",
    "#　灰色は[160,160,160]"
   ]
  },
  {
   "cell_type": "code",
   "execution_count": 21,
   "metadata": {},
   "outputs": [
    {
     "ename": "SyntaxError",
     "evalue": "can't assign to comparison (<ipython-input-21-af4b296f2bb3>, line 1)",
     "output_type": "error",
     "traceback": [
      "\u001b[0;36m  File \u001b[0;32m\"<ipython-input-21-af4b296f2bb3>\"\u001b[0;36m, line \u001b[0;32m1\u001b[0m\n\u001b[0;31m    spec = [spec_bg[:,:,0]!=0]=1\u001b[0m\n\u001b[0m          ^\u001b[0m\n\u001b[0;31mSyntaxError\u001b[0m\u001b[0;31m:\u001b[0m can't assign to comparison\n"
     ]
    }
   ],
   "source": [
    "spec = spec_bg[:,:,0]!=0=1 \n",
    "print(spec)"
   ]
  },
  {
   "cell_type": "code",
   "execution_count": null,
   "metadata": {},
   "outputs": [],
   "source": [
    "#grayscaleに変換する\n",
    "gray = cv2.cvtColor(foreground, cv2.COLOR_BGR2GRAY)\n",
    "\n",
    "# 2値化する。\n",
    "_, binary = cv2.threshold(gray, 150, 255, cv2.THRESH_BINARY_INV)\n",
    "imshow(binary)"
   ]
  },
  {
   "cell_type": "code",
   "execution_count": null,
   "metadata": {},
   "outputs": [],
   "source": [
    "# 輪郭抽出する。\n",
    "contours, _ = cv2.findContours(binary, cv2.RETR_EXTERNAL, cv2.CHAIN_APPROX_SIMPLE)"
   ]
  },
  {
   "cell_type": "code",
   "execution_count": null,
   "metadata": {},
   "outputs": [],
   "source": [
    "# 検出された輪郭内部を255で塗りつぶす。\n",
    "mask = np.zeros_like(binary)\n",
    "cv2.drawContours(mask, contours, -1, color=255, thickness=-1)\n",
    "\n",
    "# 以上の手順で前景画像のうち、合成する画素を255としたマスク画像が作成できた。\n",
    "imshow(mask)"
   ]
  },
  {
   "cell_type": "code",
   "execution_count": null,
   "metadata": {},
   "outputs": [],
   "source": [
    "bgr = cv2.imread(\"../../data/example/dog.jpg\")\n",
    "bgr = cv2.cvtColor(bgr, cv2.COLOR_RGB2BGR)\n",
    "h, w = bgr.shape[:2]\n",
    "mask = np.zeros((h,w), dtype = np.uint8)\n",
    "bgdModel = np.zeros((1,65),np.float64)\n",
    "fgdModel = np.zeros((1,65),np.float64)\n",
    "rect=(1,1,w,h)\n",
    "cv2.grabCut(bgr, mask, rect, bgdModel, fgdModel, 10, cv2.GC_INIT_WITH_RECT)\n",
    "mask2 = np.where((mask==2)|(mask==0),0,1).astype('uint8')\n",
    "bgr2 = bgr*mask2[:,:,np.newaxis]\n",
    "bgr2 = cv2.resize(bgr2, (256,256))"
   ]
  },
  {
   "cell_type": "code",
   "execution_count": null,
   "metadata": {},
   "outputs": [],
   "source": [
    "plt.imshow(bgr2)"
   ]
  },
  {
   "cell_type": "code",
   "execution_count": null,
   "metadata": {},
   "outputs": [],
   "source": [
    "#grayscaleに変換する\n",
    "gray = cv2.cvtColor(bgr2, cv2.COLOR_BGR2GRAY)\n",
    "\n",
    "plt.imshow(gray)"
   ]
  },
  {
   "cell_type": "code",
   "execution_count": null,
   "metadata": {},
   "outputs": [],
   "source": [
    "# 2値化する。\n",
    "_, binary = cv2.threshold(gray, 50, 255, cv2.THRESH_BINARY_INV)\n",
    "\n",
    "imshow(binary)"
   ]
  },
  {
   "cell_type": "code",
   "execution_count": null,
   "metadata": {},
   "outputs": [],
   "source": [
    "# 輪郭抽出する。\n",
    "contours, _ = cv2.findContours(binary, cv2.RETR_EXTERNAL, cv2.CHAIN_APPROX_SIMPLE)\n",
    "# 検出された輪郭内部を255で塗りつぶす。\n",
    "mask = np.zeros_like(binary)\n",
    "cv2.drawContours(mask, contours, -1, color=(255,255,255), thickness=-1)\n",
    "\n",
    "# 以上の手順で前景画像のうち、合成する画素を255としたマスク画像が作成できた。\n",
    "mask = cv2.resize(mask, (256,256))\n",
    "imshow(mask)"
   ]
  },
  {
   "cell_type": "code",
   "execution_count": null,
   "metadata": {},
   "outputs": [],
   "source": [
    "def cv2pil(image_cv):\n",
    "    image_cv = cv2.cvtColor(image_cv, cv2.COLOR_BGR2RGB)\n",
    "    image_pil = Image.fromarray(image_cv)\n",
    "    image_pil = image_pil.convert('RGB')\n",
    "\n",
    "    return image_pil"
   ]
  },
  {
   "cell_type": "code",
   "execution_count": null,
   "metadata": {},
   "outputs": [],
   "source": [
    "foreground = Image.open(\"../../data/example/dog.jpg\")\n",
    "background = Image.open(\"../../data/example/lab_table_4_img_000230.png\")\n",
    "foreground = foreground.resize((256,256))\n",
    "background = background.resize((256,256))"
   ]
  },
  {
   "cell_type": "code",
   "execution_count": null,
   "metadata": {},
   "outputs": [],
   "source": [
    "mask_pil = cv2pil(mask)\n",
    "mask_pil = ImageOps.invert(mask_pil)\n",
    "mask_im = mask_pil.resize(foreground.size).convert(\"L\")\n",
    "\n",
    "back_im = background.copy()\n",
    "x, y = random.randint(-64,128), random.randint(-64,128)\n",
    "rate = np.random.rand()*0.5 + 0.5\n",
    "rotate = random.randint(0,360)\n",
    "foreground_ = foreground.resize((int(foreground.width*rate), int(foreground.height*rate))).rotate(rotate)\n",
    "mask_im_ = mask_im.resize((int(mask_im.width*rate), int(mask_im.height*rate))).rotate(rotate)\n",
    "back_im.paste(foreground_, (x, y), mask_im_)\n",
    "print(rate)\n",
    "print((x,y))"
   ]
  },
  {
   "cell_type": "code",
   "execution_count": null,
   "metadata": {},
   "outputs": [],
   "source": [
    "plt.imshow(back_im)"
   ]
  },
  {
   "cell_type": "code",
   "execution_count": null,
   "metadata": {},
   "outputs": [],
   "source": []
  }
 ],
 "metadata": {
  "kernelspec": {
   "display_name": "Python 3",
   "language": "python",
   "name": "python3"
  },
  "language_info": {
   "codemirror_mode": {
    "name": "ipython",
    "version": 3
   },
   "file_extension": ".py",
   "mimetype": "text/x-python",
   "name": "python",
   "nbconvert_exporter": "python",
   "pygments_lexer": "ipython3",
   "version": "3.6.8"
  }
 },
 "nbformat": 4,
 "nbformat_minor": 2
}
