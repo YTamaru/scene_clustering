{
 "cells": [
  {
   "cell_type": "code",
   "execution_count": null,
   "metadata": {},
   "outputs": [],
   "source": [
    "import skimage\n",
    "import selective_search\n",
    "\n",
    "import matplotlib.pyplot as plt\n",
    "import matplotlib.patches as mpatches\n",
    "%matplotlib inline"
   ]
  },
  {
   "cell_type": "code",
   "execution_count": null,
   "metadata": {},
   "outputs": [],
   "source": [
    "# Load image\n",
    "image = ''\n",
    "img = skimage.io.imread(image)\n",
    "\n",
    "# Propose boxes using selective search\n",
    "boxes = selective_search.selective_search(img, mode='quality')"
   ]
  },
  {
   "cell_type": "code",
   "execution_count": null,
   "metadata": {},
   "outputs": [],
   "source": [
    "# Filter box proposals\n",
    "# Feel free to change parameters\n",
    "boxes_filter = selective_search.box_filter(boxes, min_size=20, topN=20)\n",
    "\n",
    "# draw rectangles on the original image\n",
    "fig, ax = plt.subplots(figsize=(6, 6))\n",
    "ax.imshow(img)\n",
    "for x1, y1, x2, y2 in boxes_filter:\n",
    "    bbox = mpatches.Rectangle(\n",
    "        (x1, y1), (x2-x1), (y2-y1), fill=False, edgecolor='red', linewidth=1)\n",
    "    ax.add_patch(bbox)\n",
    "\n",
    "plt.axis('off')\n",
    "plt.show()"
   ]
  },
  {
   "cell_type": "code",
   "execution_count": null,
   "metadata": {},
   "outputs": [],
   "source": []
  }
 ],
 "metadata": {
  "kernelspec": {
   "display_name": "Python 3",
   "language": "python",
   "name": "python3"
  },
  "language_info": {
   "codemirror_mode": {
    "name": "ipython",
    "version": 3
   },
   "file_extension": ".py",
   "mimetype": "text/x-python",
   "name": "python",
   "nbconvert_exporter": "python",
   "pygments_lexer": "ipython3",
   "version": "3.6.8"
  }
 },
 "nbformat": 4,
 "nbformat_minor": 2
}